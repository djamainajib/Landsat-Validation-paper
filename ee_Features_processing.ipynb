{
 "cells": [
  {
   "cell_type": "markdown",
   "id": "f00b204e-ef3e-41c1-9266-56231af608a2",
   "metadata": {},
   "source": [
    "##Feature collection processing"
   ]
  },
  {
   "cell_type": "code",
   "execution_count": 2,
   "id": "04e601ed-7dd9-410f-926b-87f3ef44a5b1",
   "metadata": {},
   "outputs": [],
   "source": [
    "import ee\n",
    "ee.Authenticate()\n",
    "ee.Initialize()"
   ]
  },
  {
   "cell_type": "code",
   "execution_count": 3,
   "id": "0cde42f0-5843-4fbf-b03f-5133d114fc22",
   "metadata": {},
   "outputs": [
    {
     "data": {
      "text/plain": [
       "1"
      ]
     },
     "execution_count": 3,
     "metadata": {},
     "output_type": "execute_result"
    }
   ],
   "source": [
    "input='projects/ee-modis250/assets/HuntClub'\n",
    "sampleRecords =  ee.FeatureCollection(input)\n",
    "sampleRecords.size().getInfo()"
   ]
  },
  {
   "cell_type": "code",
   "execution_count": 22,
   "id": "bd58a049-0027-4ded-ab71-e3db48bbd297",
   "metadata": {},
   "outputs": [
    {
     "data": {
      "text/plain": [
       "{'type': 'FeatureCollection',\n",
       " 'columns': {'system:index': 'String',\n",
       "  'system:time_end': 'String',\n",
       "  'system:time_start': 'String'},\n",
       " 'version': 1701716222814349,\n",
       " 'id': 'projects/ee-modis250/assets/HuntClub',\n",
       " 'properties': {'system:asset_size': 8089},\n",
       " 'features': [{'type': 'Feature',\n",
       "   'geometry': {'type': 'Polygon',\n",
       "    'coordinates': [[[-75.79411417882686, 45.30717784882522],\n",
       "      [-75.79299934157036, 45.30717783955595],\n",
       "      [-75.79299937867397, 45.307904666017265],\n",
       "      [-75.79411414632753, 45.307904664225056],\n",
       "      [-75.79411417882686, 45.30717784882522]]]},\n",
       "   'id': '00000000000000000000',\n",
       "   'properties': {'system:time_end': '2021-12-01',\n",
       "    'system:time_start': '2021-01-01'}}]}"
      ]
     },
     "execution_count": 22,
     "metadata": {},
     "output_type": "execute_result"
    }
   ],
   "source": [
    "sampleRecords.limit(5).getInfo()"
   ]
  },
  {
   "cell_type": "code",
   "execution_count": 5,
   "id": "72f2449e-0be4-43be-bfb1-0740206731e3",
   "metadata": {},
   "outputs": [
    {
     "data": {
      "text/plain": [
       "{'type': 'FeatureCollection',\n",
       " 'columns': {'system:index': 'String'},\n",
       " 'features': [{'type': 'Feature',\n",
       "   'geometry': {'type': 'Point', 'coordinates': [-62.54, -27.32]},\n",
       "   'id': '0',\n",
       "   'properties': {}}]}"
      ]
     },
     "execution_count": 5,
     "metadata": {},
     "output_type": "execute_result"
    }
   ],
   "source": [
    "# FeatureCollection from a single geometry.\n",
    "single_geometry = ee.Geometry.Point(-62.54, -27.32)\n",
    "single_geometry_fc = ee.FeatureCollection(single_geometry)\n",
    "single_geometry_fc.getInfo()"
   ]
  },
  {
   "cell_type": "code",
   "execution_count": 12,
   "id": "29082f46-a966-4e68-9731-afbd82e91e8c",
   "metadata": {},
   "outputs": [
    {
     "data": {
      "text/plain": [
       "{'type': 'FeatureCollection',\n",
       " 'columns': {'system:index': 'String',\n",
       "  'system:time_end': 'String',\n",
       "  'system:time_start': 'String'},\n",
       " 'features': [{'type': 'Feature',\n",
       "   'geometry': {'type': 'Point', 'coordinates': [-62.54, -27.32]},\n",
       "   'id': '0',\n",
       "   'properties': {'system:time_end': '2021-12-01',\n",
       "    'system:time_start': '2021-01-01'}}]}"
      ]
     },
     "execution_count": 12,
     "metadata": {},
     "output_type": "execute_result"
    }
   ],
   "source": [
    "# FeatureCollection from a single feature.\n",
    "single_feature = ee.Feature(ee.Geometry.Point(-62.54, -27.32), {'system:time_end': '2021-12-01','system:time_start': '2021-01-01'})\n",
    "single_feature_fc = ee.FeatureCollection(single_feature)\n",
    "single_feature_fc.getInfo()"
   ]
  },
  {
   "cell_type": "code",
   "execution_count": 9,
   "id": "1e558e8d-e151-4f10-a3b5-c5fe9b954d7b",
   "metadata": {},
   "outputs": [
    {
     "data": {
      "text/plain": [
       "dict_keys(['type', 'columns', 'features'])"
      ]
     },
     "execution_count": 9,
     "metadata": {},
     "output_type": "execute_result"
    }
   ],
   "source": [
    "single_feature_fc.getInfo().keys()\n"
   ]
  },
  {
   "cell_type": "code",
   "execution_count": 10,
   "id": "5a032318-dde5-4af4-96cc-1d2eff65b634",
   "metadata": {},
   "outputs": [
    {
     "data": {
      "text/plain": [
       "dict_keys(['type', 'columns', 'version', 'id', 'properties', 'features'])"
      ]
     },
     "execution_count": 10,
     "metadata": {},
     "output_type": "execute_result"
    }
   ],
   "source": [
    "sampleRecords.getInfo().keys()"
   ]
  },
  {
   "cell_type": "code",
   "execution_count": 19,
   "id": "6bedb082-381f-4660-83d1-d6536195b487",
   "metadata": {},
   "outputs": [
    {
     "data": {
      "text/plain": [
       "{'type': 'FeatureCollection',\n",
       " 'columns': {'system:index': 'String',\n",
       "  'system:time_end': 'String',\n",
       "  'system:time_start': 'String'},\n",
       " 'features': [{'type': 'Feature',\n",
       "   'geometry': {'type': 'Polygon',\n",
       "    'coordinates': [[[-62.54, -27.32],\n",
       "      [-62.5, -27.32],\n",
       "      [-62.5, -27.3],\n",
       "      [-62.54, -27.2],\n",
       "      [-62.54, -27.32]]]},\n",
       "   'id': '0',\n",
       "   'properties': {'system:time_end': '2021-12-01',\n",
       "    'system:time_start': '2021-01-01'}}]}"
      ]
     },
     "execution_count": 19,
     "metadata": {},
     "output_type": "execute_result"
    }
   ],
   "source": [
    "single_feature = ee.Feature(ee.Geometry.Polygon(-62.54, -27.32,-62.50, -27.32,-62.50, -27.30,-62.54, -27.20,-62.54, -27.32),{'system:time_end': '2021-12-01','system:time_start': '2021-01-01'})\n",
    "single_feature_fc = ee.FeatureCollection(single_feature)\n",
    "single_feature_fc.getInfo()"
   ]
  },
  {
   "cell_type": "code",
   "execution_count": 18,
   "id": "24c1f90b-76e4-459d-af99-006efac47642",
   "metadata": {},
   "outputs": [
    {
     "data": {
      "text/plain": [
       "dict_keys(['type', 'columns', 'features'])"
      ]
     },
     "execution_count": 18,
     "metadata": {},
     "output_type": "execute_result"
    }
   ],
   "source": [
    "single_feature_fc.getInfo().keys()"
   ]
  },
  {
   "cell_type": "code",
   "execution_count": 21,
   "id": "74064ea6-02c8-481c-a759-1e0e87e98986",
   "metadata": {},
   "outputs": [
    {
     "data": {
      "text/plain": [
       "{'type': 'FeatureCollection',\n",
       " 'columns': {'key': 'String', 'system:index': 'String'},\n",
       " 'features': [{'type': 'Feature',\n",
       "   'geometry': {'type': 'Point', 'coordinates': [-62.54, -27.32]},\n",
       "   'id': '0',\n",
       "   'properties': {'key': 'val1'}},\n",
       "  {'type': 'Feature',\n",
       "   'geometry': {'type': 'Point', 'coordinates': [-69.18, -10.64]},\n",
       "   'id': '1',\n",
       "   'properties': {'key': 'val2'}},\n",
       "  {'type': 'Feature',\n",
       "   'geometry': {'type': 'Point', 'coordinates': [-45.98, -18.09]},\n",
       "   'id': '2',\n",
       "   'properties': {'key': 'val3'}}]}"
      ]
     },
     "execution_count": 21,
     "metadata": {},
     "output_type": "execute_result"
    }
   ],
   "source": [
    "list_of_features = [\n",
    "    ee.Feature(ee.Geometry.Point(-62.54, -27.32), {'key': 'val1'}),\n",
    "    ee.Feature(ee.Geometry.Point(-69.18, -10.64), {'key': 'val2'}),\n",
    "    ee.Feature(ee.Geometry.Point(-45.98, -18.09), {'key': 'val3'})\n",
    "]\n",
    "list_of_features_fc = ee.FeatureCollection(list_of_features)\n",
    "list_of_features_fc.getInfo()"
   ]
  },
  {
   "cell_type": "code",
   "execution_count": 25,
   "id": "7464b46a-5f66-4472-860f-fc73fada38a1",
   "metadata": {},
   "outputs": [
    {
     "data": {
      "text/plain": [
       "{'type': 'FeatureCollection',\n",
       " 'columns': {'system:index': 'String',\n",
       "  'system:time_end': 'String',\n",
       "  'system:time_start': 'String'},\n",
       " 'version': 1701716222814349,\n",
       " 'id': 'projects/ee-modis250/assets/HuntClub',\n",
       " 'properties': {'system:asset_size': 8089},\n",
       " 'features': [{'type': 'Feature',\n",
       "   'geometry': {'type': 'Polygon',\n",
       "    'coordinates': [[[-75.79411417882686, 45.30717784882522],\n",
       "      [-75.79299934157036, 45.30717783955595],\n",
       "      [-75.79299937867397, 45.307904666017265],\n",
       "      [-75.79411414632753, 45.307904664225056],\n",
       "      [-75.79411417882686, 45.30717784882522]]]},\n",
       "   'id': '00000000000000000000',\n",
       "   'properties': {'system:time_end': '2021-12-01',\n",
       "    'system:time_start': '2021-01-01'}}]}"
      ]
     },
     "execution_count": 25,
     "metadata": {},
     "output_type": "execute_result"
    }
   ],
   "source": [
    "sampleRecords =  ee.FeatureCollection(input)\n",
    "sampleRecords.getInfo()"
   ]
  },
  {
   "cell_type": "code",
   "execution_count": 37,
   "id": "e8e5be9d-6ce1-45e9-954d-85c8e1ee8736",
   "metadata": {},
   "outputs": [
    {
     "data": {
      "text/plain": [
       "[{'type': 'Feature',\n",
       "  'geometry': {'type': 'Polygon',\n",
       "   'coordinates': [[[-75.79411417882686, 45.30717784882522],\n",
       "     [-75.79299934157036, 45.30717783955595],\n",
       "     [-75.79299937867397, 45.307904666017265],\n",
       "     [-75.79411414632753, 45.307904664225056],\n",
       "     [-75.79411417882686, 45.30717784882522]]]},\n",
       "  'id': '00000000000000000000',\n",
       "  'properties': {'system:time_end': '2021-12-01',\n",
       "   'system:time_start': '2021-01-01',\n",
       "   'timeStart': '2021-01-01'}}]"
      ]
     },
     "execution_count": 37,
     "metadata": {},
     "output_type": "execute_result"
    }
   ],
   "source": [
    "sampleRecords =  ee.FeatureCollection(input).sort('system:time_start', False).map(lambda feature: feature.set('timeStart',feature.get('system:time_start')))\n",
    "sampleRecords =  sampleRecords.toList(sampleRecords.size())\n",
    "sampleRecords.getInfo()"
   ]
  },
  {
   "cell_type": "code",
   "execution_count": 83,
   "id": "9f3e7f5e-e3a1-4e73-9adb-83f66ac7b816",
   "metadata": {},
   "outputs": [
    {
     "data": {
      "text/plain": [
       "'C:\\\\Djamai_Najib\\\\1_vegetation_parameters\\\\1_scripts\\\\LEAF-Toolbox-master\\\\Source-Python\\\\production'"
      ]
     },
     "execution_count": 83,
     "metadata": {},
     "output_type": "execute_result"
    }
   ],
   "source": [
    "import os\n",
    "input='projects/ee-modis250/assets/validationGBOV/COPERNICUS_GBOV_RM7_20220616174529/'\n",
    "os.path.split(os.path.abspath(input))[-1]\n",
    "os.getcwd()"
   ]
  },
  {
   "cell_type": "code",
   "execution_count": 50,
   "id": "b9b4a8ab-c7ce-44f3-a36f-d2484a50f12f",
   "metadata": {},
   "outputs": [
    {
     "data": {
      "text/plain": [
       "{'type': 'Point', 'coordinates': [10.450549888403165, 51.07851652520771]}"
      ]
     },
     "execution_count": 50,
     "metadata": {},
     "output_type": "execute_result"
    }
   ],
   "source": [
    "sampleRecords =  ee.FeatureCollection(input).sort('system:time_start', False).map(lambda feature: feature.set('timeStart',feature.get('system:time_start')))\n",
    "sampleRecords =  sampleRecords.toList(sampleRecords.size())\n",
    "site = ee.Feature(sampleRecords.get(0))\n",
    "site.getInfo()['geometry']"
   ]
  },
  {
   "cell_type": "code",
   "execution_count": 52,
   "id": "adc2d2d6-e6e8-4eca-91ab-372d03e5d9b3",
   "metadata": {},
   "outputs": [
    {
     "name": "stdout",
     "output_type": "stream",
     "text": [
      "10 images found.\n"
     ]
    }
   ],
   "source": [
    "print('%d images found.'%(10))"
   ]
  },
  {
   "cell_type": "code",
   "execution_count": 57,
   "id": "f8557b4d-806c-4f2f-891b-20f9ce51992c",
   "metadata": {},
   "outputs": [
    {
     "data": {
      "text/plain": [
       "{'Elevation': 430,\n",
       " 'GBOV_Email': 'support-copernicus-gbov@acri-st.fr',\n",
       " 'GBOV_ID': 'GBOV_RM7_2176',\n",
       " 'GROUND_DATA_PI': 'Alexander Knohl, Lukas Siebicke',\n",
       " 'GROUND_DATA_PIs_Email': 'aknohl@uni-goettingen.de',\n",
       " 'IGBP_class': 'Mixed Forest',\n",
       " 'LAI_Miller_down': 0.035999998450279236,\n",
       " 'LAI_Miller_down_err': 0.004999999888241291,\n",
       " 'LAI_Miller_up': 4.139999866485596,\n",
       " 'LAI_Miller_up_err': 0.1599999964237213,\n",
       " 'LAI_Warren_down': 0.021800000220537186,\n",
       " 'LAI_Warren_down_err': 0.0031999999191612005,\n",
       " 'LAI_Warren_up': '3.11',\n",
       " 'LAI_Warren_up_err': '0.24',\n",
       " 'LAIe_Miller_down': 0.03500000014901161,\n",
       " 'LAIe_Miller_down_err': 0.004999999888241291,\n",
       " 'LAIe_Miller_up': 3,\n",
       " 'LAIe_Miller_up_err': 0.11999999731779099,\n",
       " 'LAIe_Warren_down': 0.02160000056028366,\n",
       " 'LAIe_Warren_down_err': 0.0031999999191612005,\n",
       " 'LAIe_Warren_up': '2.42',\n",
       " 'LAIe_Warren_up_err': '0.18',\n",
       " 'Network': 'FluxNet',\n",
       " 'PLOT_ID': 'HAIN_DHP002',\n",
       " 'Site': 'Hainich',\n",
       " 'Version': 2,\n",
       " 'clumping_Miller_down': 0.9700000286102295,\n",
       " 'clumping_Miller_down_err': 0.07000000029802322,\n",
       " 'clumping_Miller_up': 0.7300000190734863,\n",
       " 'clumping_Miller_up_err': 0.03999999910593033,\n",
       " 'clumping_Warren_down': 0.9900000095367432,\n",
       " 'clumping_Warren_down_err': 0.10999999940395355,\n",
       " 'clumping_Warren_up': 0.7799999713897705,\n",
       " 'clumping_Warren_up_err': 0.07999999821186066,\n",
       " 'down_flag': 0,\n",
       " 'timeStart': 1635379200000,\n",
       " 'up_flag': 0}"
      ]
     },
     "execution_count": 57,
     "metadata": {},
     "output_type": "execute_result"
    }
   ],
   "source": [
    "ee.Dictionary(ee.Feature(sampleRecords.get(1)).toDictionary()).getInfo()"
   ]
  },
  {
   "cell_type": "code",
   "execution_count": 55,
   "id": "37c1eced-be3d-4ca8-a0d1-6f81407576ba",
   "metadata": {},
   "outputs": [
    {
     "data": {
      "text/plain": [
       "<ee.dictionary.Dictionary at 0x1f4663ebf20>"
      ]
     },
     "execution_count": 55,
     "metadata": {},
     "output_type": "execute_result"
    }
   ],
   "source": [
    "ee.Feature(sampleRecords.get(1)).toDictionary()"
   ]
  },
  {
   "cell_type": "code",
   "execution_count": 58,
   "id": "f4f804f3-1fa5-45e5-b76f-4cf989ab58a6",
   "metadata": {},
   "outputs": [
    {
     "ename": "NameError",
     "evalue": "name 'imageCollectionName' is not defined",
     "output_type": "error",
     "traceback": [
      "\u001b[1;31m---------------------------------------------------------------------------\u001b[0m",
      "\u001b[1;31mNameError\u001b[0m                                 Traceback (most recent call last)",
      "Cell \u001b[1;32mIn[58], line 1\u001b[0m\n\u001b[1;32m----> 1\u001b[0m \u001b[43mimageCollectionName\u001b[49m\n",
      "\u001b[1;31mNameError\u001b[0m: name 'imageCollectionName' is not defined"
     ]
    }
   ],
   "source": [
    "imageCollectionName"
   ]
  },
  {
   "cell_type": "code",
   "execution_count": 59,
   "id": "0740ac22-4b1b-48e7-bc87-b32917a48b44",
   "metadata": {},
   "outputs": [
    {
     "ename": "NameError",
     "evalue": "name 'datetime' is not defined",
     "output_type": "error",
     "traceback": [
      "\u001b[1;31m---------------------------------------------------------------------------\u001b[0m",
      "\u001b[1;31mNameError\u001b[0m                                 Traceback (most recent call last)",
      "Cell \u001b[1;32mIn[59], line 1\u001b[0m\n\u001b[1;32m----> 1\u001b[0m \u001b[43mdatetime\u001b[49m\u001b[38;5;241m.\u001b[39mnow()\n",
      "\u001b[1;31mNameError\u001b[0m: name 'datetime' is not defined"
     ]
    }
   ],
   "source": [
    "datetime.now()"
   ]
  },
  {
   "cell_type": "code",
   "execution_count": 60,
   "id": "99762a7f-df7b-4c8e-a512-f5cf262c45bf",
   "metadata": {},
   "outputs": [],
   "source": [
    "import datetime"
   ]
  },
  {
   "cell_type": "code",
   "execution_count": 73,
   "id": "9e55a1cb-4287-4818-827b-bdc03b754e13",
   "metadata": {},
   "outputs": [
    {
     "data": {
      "text/plain": [
       "'2023_12_15_16h_12mn_49s'"
      ]
     },
     "execution_count": 73,
     "metadata": {},
     "output_type": "execute_result"
    }
   ],
   "source": [
    "datetime.datetime.now().strftime(\"%Y_%m_%d_%Hh_%mmn_%Ss\")"
   ]
  },
  {
   "cell_type": "code",
   "execution_count": 68,
   "id": "70b169a2-ccc0-4fe1-af21-d2c9918b5868",
   "metadata": {},
   "outputs": [
    {
     "ename": "AttributeError",
     "evalue": "'builtin_function_or_method' object has no attribute 'strftime'",
     "output_type": "error",
     "traceback": [
      "\u001b[1;31m---------------------------------------------------------------------------\u001b[0m",
      "\u001b[1;31mAttributeError\u001b[0m                            Traceback (most recent call last)",
      "Cell \u001b[1;32mIn[68], line 1\u001b[0m\n\u001b[1;32m----> 1\u001b[0m \u001b[43mdatetime\u001b[49m\u001b[38;5;241;43m.\u001b[39;49m\u001b[43mdatetime\u001b[49m\u001b[38;5;241;43m.\u001b[39;49m\u001b[43mnow\u001b[49m\u001b[38;5;241;43m.\u001b[39;49m\u001b[43mstrftime\u001b[49m(\u001b[38;5;124m\"\u001b[39m\u001b[38;5;124m%\u001b[39m\u001b[38;5;124mm/\u001b[39m\u001b[38;5;132;01m%d\u001b[39;00m\u001b[38;5;124m/\u001b[39m\u001b[38;5;124m%\u001b[39m\u001b[38;5;124mY, \u001b[39m\u001b[38;5;124m%\u001b[39m\u001b[38;5;124mH:\u001b[39m\u001b[38;5;124m%\u001b[39m\u001b[38;5;124mM:\u001b[39m\u001b[38;5;124m%\u001b[39m\u001b[38;5;124mS\u001b[39m\u001b[38;5;124m\"\u001b[39m)\n",
      "\u001b[1;31mAttributeError\u001b[0m: 'builtin_function_or_method' object has no attribute 'strftime'"
     ]
    }
   ],
   "source": [
    "datetime.datetime.now.strftime(\"%m/%d/%Y, %H:%M:%S\")"
   ]
  },
  {
   "cell_type": "code",
   "execution_count": null,
   "id": "95ea370e-2182-4fe6-a034-c0fd41c040e6",
   "metadata": {},
   "outputs": [],
   "source": []
  }
 ],
 "metadata": {
  "kernelspec": {
   "display_name": "Python 3 (ipykernel)",
   "language": "python",
   "name": "python3"
  },
  "language_info": {
   "codemirror_mode": {
    "name": "ipython",
    "version": 3
   },
   "file_extension": ".py",
   "mimetype": "text/x-python",
   "name": "python",
   "nbconvert_exporter": "python",
   "pygments_lexer": "ipython3",
   "version": "3.11.5"
  }
 },
 "nbformat": 4,
 "nbformat_minor": 5
}
