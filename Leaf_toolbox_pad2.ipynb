{
 "cells": [
  {
   "cell_type": "code",
   "execution_count": 1,
   "id": "fad2edbb-62ad-475c-840a-02118b7e7322",
   "metadata": {},
   "outputs": [],
   "source": [
    "import ee\n",
    "ee.Authenticate()\n",
    "ee.Initialize()"
   ]
  },
  {
   "cell_type": "code",
   "execution_count": 2,
   "id": "9ddc211d-a484-449f-bda8-338950d6d2db",
   "metadata": {},
   "outputs": [],
   "source": [
    "import pandas as pd\n",
    "import numpy as np\n",
    "# import LEAF modules.\n",
    "import LEAF\n",
    "import SL2PV0 \n",
    "import SL2PV1"
   ]
  },
  {
   "cell_type": "code",
   "execution_count": 3,
   "id": "e06e4b9d-4619-44b7-8d25-a125a675c8d3",
   "metadata": {},
   "outputs": [],
   "source": [
    "import toolsUtils\n",
    "import eoImage\n",
    "import toolsNets\n",
    "import eoImage\n",
    "import toolsUtils\n",
    "import dictionariesSL2P \n",
    "from datetime import timedelta\n",
    "from datetime import datetime"
   ]
  },
  {
   "cell_type": "code",
   "execution_count": 4,
   "id": "718af829-63a1-4b05-b3cf-ac70b36ada68",
   "metadata": {},
   "outputs": [],
   "source": [
    "siteList=[\"projects/ee-modis250/assets/validationGBOV/NEON_2013-22_RMs_updated_parsed\"]\n",
    "imageCollectionName='COPERNICUS/S2_SR_HARMONIZED'\n",
    "algorithm=SL2PV1 \n",
    "variableName=\"LAI\"\n",
    "maxCloudcover=90\n",
    "outputScaleSize=30\n",
    "inputScaleSize=30\n",
    "bufferSpatialSize = 45\n",
    "bufferTemporalSize =[-7,7]\n",
    "subsamplingFraction = 0.99\n",
    "outputFileName='C:/Djamai_Najib/1_vegetation_parameters/1_scripts/LEAF-Landsat-Validation-paper/data/'\n",
    "input=siteList[0]\n",
    "collectionOptions = (dictionariesSL2P.make_collection_options(algorithm))\n",
    "networkOptions= dictionariesSL2P.make_net_options()"
   ]
  },
  {
   "cell_type": "code",
   "execution_count": 5,
   "id": "5f933f54-92d3-4952-89c2-7cab2ec5f677",
   "metadata": {},
   "outputs": [
    {
     "name": "stdout",
     "output_type": "stream",
     "text": [
      "Site:  projects/ee-modis250/assets/validationGBOV/NEON_2013-22_RMs_updated_parsed  with  14141  features.\n"
     ]
    }
   ],
   "source": [
    "sampleRecords =  ee.FeatureCollection(input).sort('system:time_start', False).map(lambda feature: feature.set('timeStart',feature.get('system:time_start')))\n",
    "sampleRecords =  sampleRecords.toList(sampleRecords.size())\n",
    "print('Site: ',input, ' with ',sampleRecords.size().getInfo(), ' features.')"
   ]
  },
  {
   "cell_type": "code",
   "execution_count": 6,
   "id": "438de917-6fb0-486c-b03c-e0a79772b08b",
   "metadata": {},
   "outputs": [],
   "source": [
    "n=0\n",
    "site = ee.Feature(sampleRecords.get(n))\n",
    "startDate = datetime.fromtimestamp(ee.Date.parse(\"dd/MM/YY\",site.get('system:time_start'),'Etc/GMT+6').getInfo()['value']/1000) + timedelta(days=bufferTemporalSize[0])\n",
    "endDate = datetime.fromtimestamp(ee.Date.parse(\"dd/MM/YY\",site.get('system:time_end'),'Etc/GMT+6').getInfo()['value']/1000) + timedelta(days=bufferTemporalSize[1])\n",
    "endDatePlusOne = endDate + timedelta(days=1)\n",
    "dateRange = pd.DataFrame( {'startDate':[startDate],'endDate':[endDatePlusOne]})\n",
    "index=0\n",
    "Dates=dateRange.iloc[0]"
   ]
  },
  {
   "cell_type": "code",
   "execution_count": 7,
   "id": "995fd77b-a5f4-4aee-8959-9503cb9ac694",
   "metadata": {},
   "outputs": [
    {
     "data": {
      "text/plain": [
       "(7, 7, 12, 12)"
      ]
     },
     "execution_count": 7,
     "metadata": {},
     "output_type": "execute_result"
    }
   ],
   "source": [
    "colOptions=collectionOptions[imageCollectionName]\n",
    "netOptions=networkOptions[variableName][imageCollectionName]\n",
    "\n",
    "colOptions,netOptions,\n",
    "variable=variableName\n",
    "mapBounds=site.geometry()\n",
    "\n",
    "\n",
    "products = []\n",
    "tools = colOptions['tools']\n",
    "    \n",
    "numNets = ee.Number(ee.Feature((colOptions[\"Network_Ind\"]).first()).propertyNames().remove('lon').remove('Feature Index').remove('system:index').size())\n",
    "SL2P = ee.List.sequence(1,ee.Number(colOptions[\"numVariables\"]),1).map(lambda netNum: toolsNets.makeNetVars(colOptions[\"Collection_SL2P\"],numNets,netNum))\n",
    "errorsSL2P = ee.List.sequence(1,ee.Number(colOptions[\"numVariables\"]),1).map(lambda netNum: toolsNets.makeNetVars(colOptions[\"Collection_SL2Perrors\"],numNets,netNum))\n",
    "len(SL2P.getInfo()),len(errorsSL2P.getInfo()),len(SL2P.getInfo()[0]),len(errorsSL2P.getInfo()[0])"
   ]
  },
  {
   "cell_type": "code",
   "execution_count": 8,
   "id": "2cefadea-4b83-435f-9619-7fcd7ff5385b",
   "metadata": {},
   "outputs": [],
   "source": [
    "def makeIndexLayer(image, legend, Network_Ind):\n",
    "    image = ee.Image(image)                          # partition image\n",
    "    legend = ee.FeatureCollection(legend)            # legend to convert partition numbers to networks\n",
    "    Network_Ind = ee.FeatureCollection(Network_Ind)  # legend to convert networks to networkIDs\n",
    "    \n",
    "    # get lists of valid partitions\n",
    "    legend_list = legend.toList(legend.size())\n",
    "    landcover = legend_list.map(lambda feature: ee.Feature(feature).getNumber('Value'))\n",
    "\n",
    "    # get corresponding networkIDs\n",
    "    networkIDs = legend_list.map(lambda feature: ee.Feature(feature).get('SL2P Network')) \\\n",
    "                                    .map(lambda propertyValue: ee.Feature(ee.FeatureCollection(Network_Ind).first()) \\\n",
    "                                    .toDictionary().getNumber(propertyValue))\n",
    "    \n",
    "    return image.remap(landcover, networkIDs, 0).rename('networkID')"
   ]
  },
  {
   "cell_type": "code",
   "execution_count": 9,
   "id": "41256a93-9ed8-4f2b-a490-d2038bc4ebfa",
   "metadata": {},
   "outputs": [],
   "source": [
    "def selectNet(image, netList, inputNames, netIndex):\n",
    "    \n",
    "    image = ee.Image(image)\n",
    "    netList = ee.List(netList)\n",
    "    inputNames = ee.List(inputNames)\n",
    "    netIndex = ee.Number(netIndex).int()\n",
    "    \n",
    "    return ee.Dictionary()  \\\n",
    "            .set(\"Image\", ee.Image(image.updateMask(image.select('networkID').eq(netIndex)).select(inputNames))) \\\n",
    "            .set(\"Network\", ee.List(netList.get(netIndex)))"
   ]
  },
  {
   "cell_type": "code",
   "execution_count": 10,
   "id": "eb5f9856-aab3-42a8-a58e-19020a6c378a",
   "metadata": {},
   "outputs": [],
   "source": [
    "def applyNet(outputName, netDict):\n",
    "    outputName = ee.String(outputName)\n",
    "    netDict = ee.Dictionary(netDict)\n",
    "    inp = ee.Image(netDict.get('Image'))\n",
    "    net = ee.Dictionary(netDict.get('Network'))\n",
    "    \n",
    "    # input scaling\n",
    "    l1inp2D = inp.multiply(ee.Image(net.toArray(ee.List(['inpSlope']),0).transpose()).arrayProject([0]) \\\n",
    "                        .arrayFlatten([inp.bandNames()])) \\\n",
    "                        .add(ee.Image(net.toArray(ee.List(['inpOffset']),0).transpose()) \\\n",
    "                        .arrayProject([0]).arrayFlatten([inp.bandNames()]))\n",
    "    \n",
    "    # hidden layers\n",
    "    l12D = ee.Image(net.toArray(ee.List(['h1wt']),0).reshape([ee.List(net.get('h1bi')).length(),ee.List(net.get('inpOffset')).length()])) \\\n",
    "              .matrixMultiply(l1inp2D.toArray().toArray(1)) \\\n",
    "              .add(ee.Image(net.toArray(ee.List(['h1bi']),0).transpose())) \\\n",
    "              .arrayProject([0]).arrayFlatten([['h1w1','h1w2','h1w3','h1w4','h1w5']])\n",
    "    \n",
    "    # apply tansig 2/(1+exp(-2*n))-1\n",
    "    l2inp2D = ee.Image(2).divide(ee.Image(1).add((ee.Image(-2).multiply(l12D)).exp())).subtract(ee.Image(1))\n",
    "    \n",
    "    # purlin hidden layers\n",
    "    l22D = l2inp2D.multiply(ee.Image(net.toArray(ee.List(['h2wt']),0).transpose()) \\\n",
    "                                          .arrayProject([0]) \\\n",
    "                                          .arrayFlatten([['h2w1','h2w2','h2w3','h2w4','h2w5']])) \\\n",
    "                    .reduce('sum') \\\n",
    "                    .add(ee.Image(net.toArray(ee.List(['h2bi']),0))) \\\n",
    "                                          .arrayProject([0]) \\\n",
    "                                          .arrayFlatten([['h2bi']])\n",
    "    \n",
    "    # output scaling \n",
    "    outputBand = l22D.subtract(ee.Image(ee.Number(net.get('outBias')))).divide(ee.Image(ee.Number(net.get('outSlope')))) \n",
    "    \n",
    "    # return network output\n",
    "    return (outputBand.rename(outputName))"
   ]
  },
  {
   "cell_type": "code",
   "execution_count": 11,
   "id": "0f46803a-b6db-4514-b301-872d35507e80",
   "metadata": {},
   "outputs": [],
   "source": [
    "def wrapperNNets(network, partition, netOptions, colOptions, suffixName, outputName, imageInput):\n",
    "    # typecast function parameters\n",
    "    network = ee.List(network)\n",
    "    partition = ee.Image(partition)\n",
    "    netOptions = netOptions\n",
    "    colOptions = colOptions\n",
    "    suffixName = suffixName\n",
    "    imageInput = ee.Image(imageInput)\n",
    "    outputName = outputName\n",
    "    \n",
    "    # parse partition  used to identify network to use\n",
    "    partition = partition.clip(imageInput.geometry()).select(['partition'])\n",
    "\n",
    "    # determine networks based on collection\n",
    "    netList = ee.List(network.get(ee.Number(netOptions.get(\"variable\")).subtract(1)))\n",
    "\n",
    "    # parse land cover into network index and add to input image\n",
    "    imageInput = imageInput.addBands(makeIndexLayer(partition,colOptions[\"legend\"],colOptions[\"Network_Ind\"]))\n",
    "\n",
    "    # define list of input names\n",
    "    return netList,imageInput,ee.ImageCollection(ee.List.sequence(0, netList.size().subtract(1)) \\\n",
    "                                                    .map(lambda netIndex: selectNet(imageInput,netList,netOptions[\"inputBands\"],netIndex)) \\\n",
    "                                                    .map(lambda netDict: applyNet(suffixName+outputName,netDict))) \\\n",
    "                                                    .max().addBands(partition).addBands(imageInput.select('networkID'))"
   ]
  },
  {
   "cell_type": "code",
   "execution_count": 12,
   "id": "39c05126-1d54-4b3d-9fa6-a109d100d5da",
   "metadata": {},
   "outputs": [],
   "source": [
    "L=colOptions[\"legend\"].getInfo()"
   ]
  },
  {
   "cell_type": "code",
   "execution_count": 13,
   "id": "40f3082e-486e-4d13-9b5a-110647b46a06",
   "metadata": {},
   "outputs": [
    {
     "data": {
      "text/plain": [
       "{'B': 0,\n",
       " 'B (hex)': '0',\n",
       " 'Description': 'Temperate or sub-polar needleleaf forest',\n",
       " 'Earth Engine Palette': \"'003D00' , // Temperate or sub-polar needleleaf forest\",\n",
       " 'G': 61,\n",
       " 'G (hex)': '3D',\n",
       " 'Lon': 0,\n",
       " 'R': 0,\n",
       " 'R (hex)': '0',\n",
       " 'SL2P Network': 'evergreen_needleaf_forest',\n",
       " 'Value': 1}"
      ]
     },
     "execution_count": 13,
     "metadata": {},
     "output_type": "execute_result"
    }
   ],
   "source": [
    "L['features'][0]['properties']"
   ]
  },
  {
   "cell_type": "code",
   "execution_count": 14,
   "id": "c7c71961-8368-4ab5-a502-25212803b6eb",
   "metadata": {},
   "outputs": [],
   "source": [
    "dict={}\n",
    "for ii in L['features']:\n",
    "    dict.update({ii['properties']['Value']:ii['properties']['SL2P Network']})"
   ]
  },
  {
   "cell_type": "code",
   "execution_count": 15,
   "id": "596aa096-5124-4aaa-a181-33af07bd52cf",
   "metadata": {},
   "outputs": [
    {
     "data": {
      "text/plain": [
       "{1: 'evergreen_needleaf_forest',\n",
       " 3: 'deciduous_broadleaf_forest',\n",
       " 4: 'deciduous_broadleaf_forest',\n",
       " 17: 'invalid',\n",
       " 7: 'shrublands',\n",
       " 8: 'polar_shrubland',\n",
       " 5: 'deciduous_broadleaf_forest',\n",
       " 11: 'polar_shrubland',\n",
       " 9: 'grassland_pasture',\n",
       " 15: 'close_cropland',\n",
       " 13: 'lichen_feathermoss',\n",
       " 2: 'evergreen_needleaf_forest',\n",
       " 14: 'grassland_pasture',\n",
       " 10: 'polar_grassland',\n",
       " 12: 'sphagnum_feathermoss',\n",
       " 18: 'invalid',\n",
       " 16: 'sparse_cropland',\n",
       " 19: 'invalid',\n",
       " 6: 'mixed_forest'}"
      ]
     },
     "execution_count": 15,
     "metadata": {},
     "output_type": "execute_result"
    }
   ],
   "source": [
    "dict"
   ]
  },
  {
   "cell_type": "code",
   "execution_count": 13,
   "id": "8664ddf8-43e9-445a-8f0d-304b679bf3bd",
   "metadata": {},
   "outputs": [],
   "source": [
    "#legend_list =  colOptions[\"legend\"].toList(colOptions[\"legend\"].size())\n",
    "#landcover = legend_list.map(lambda feature: ee.Feature(feature).getNumber('Value'))"
   ]
  },
  {
   "cell_type": "code",
   "execution_count": 14,
   "id": "85e9fb50-5cdb-4e96-bbbf-84fd8613ca92",
   "metadata": {},
   "outputs": [],
   "source": [
    "#landcover2 = legend_list.map(lambda feature: ee.Feature(feature).get('SL2P Network'))"
   ]
  },
  {
   "cell_type": "code",
   "execution_count": 15,
   "id": "8ba0cb95-3e7f-41ef-9138-0eb9a092e1ba",
   "metadata": {},
   "outputs": [],
   "source": [
    "#landcover.getInfo()"
   ]
  },
  {
   "cell_type": "code",
   "execution_count": 16,
   "id": "049a47b4-3068-4f4d-8540-1fd2efab8929",
   "metadata": {},
   "outputs": [],
   "source": [
    "#landcover2.getInfo()"
   ]
  },
  {
   "cell_type": "code",
   "execution_count": 17,
   "id": "d18dfebc-822f-4399-8a2c-39c2728dede8",
   "metadata": {},
   "outputs": [],
   "source": [
    "#legend_list.getInfo() "
   ]
  },
  {
   "cell_type": "code",
   "execution_count": 14,
   "id": "ac4bb295-aa58-4e32-be31-d81c819a3f3f",
   "metadata": {},
   "outputs": [],
   "source": [
    "input_collection =  ee.ImageCollection(colOptions['name']) \\\n",
    "                      .filterBounds(mapBounds) \\\n",
    "                      .filterDate(startDate, endDate) \\\n",
    "                      .filterMetadata(colOptions[\"Cloudcover\"],'less_than',maxCloudcover) \\\n",
    "                      .limit(5000) \\\n",
    "                      .map(lambda image: image.clip(mapBounds)) \\\n",
    "                      .map(lambda image: tools.MaskClear(image))  \\\n",
    "                      .map(lambda image: eoImage.attach_Date(image)) \\\n",
    "                      .map(lambda image: eoImage.attach_LonLat(image)) \\\n",
    "                      .map(lambda image: tools.addGeometry(colOptions,image)) \n",
    "\n",
    "s2_cloudless_col = ee.ImageCollection('COPERNICUS/S2_CLOUD_PROBABILITY').filterBounds(mapBounds).filterDate(startDate, endDate)\n",
    "projection = input_collection.first().select(netOptions[\"inputBands\"][3]).projection()\n",
    "\n",
    "input_collection = input_collection.map( lambda image: image.setDefaultProjection(crs=image.select(image.bandNames().slice(0,1)).projection()) \\\n",
    "                                                                     .reduceResolution(reducer= ee.Reducer.mean(),maxPixels=1024).reproject(crs=projection,scale=inputScaleSize))\n",
    "s2_cloudless_col = s2_cloudless_col.map( lambda image: image.setDefaultProjection(crs=image.select(image.bandNames().slice(0,1)).projection()) \\\n",
    "                                                                    .reduceResolution(reducer= ee.Reducer.mean(),maxPixels=1024).reproject(crs=projection,scale=inputScaleSize)\n",
    "                                                                    .rename('s2'))\n",
    "\n",
    "s2_cloudless_col = s2_cloudless_col.map( lambda image: image.setDefaultProjection(crs=image.select(image.bandNames().slice(0,1)).projection()) \\\n",
    "                                                                    .reduceResolution(reducer= ee.Reducer.mean(),maxPixels=1024).reproject(crs=projection,scale=inputScaleSize))\n",
    "\n",
    "input_collection  =  input_collection.map(lambda image: tools.MaskLand(image)).map(lambda image: \\\n",
    "                                        toolsUtils.scaleBands(netOptions[\"inputBands\"],netOptions[\"inputScaling\"],netOptions[\"inputOffset\"],image)) \\\n",
    "                                                 .map(lambda image: toolsUtils.invalidInput(colOptions[\"sl2pDomain\"],netOptions[\"inputBands\"],image)) \n",
    "\n",
    "#input_collection=input_collection.combine(s2_cloudless_col)\n",
    "partition = (colOptions[\"partition\"]).filterBounds(mapBounds).mosaic().clip(mapBounds).rename('partition');  \n",
    "input_collection  =  input_collection.map(lambda image: image.addBands(partition))#.combine(landcover)"
   ]
  },
  {
   "cell_type": "code",
   "execution_count": 16,
   "id": "a025f46e-cb43-4b92-909b-f165e0f12069",
   "metadata": {},
   "outputs": [
    {
     "data": {
      "text/plain": [
       "{'type': 'Image',\n",
       " 'bands': [{'id': 'partition',\n",
       "   'data_type': {'type': 'PixelType',\n",
       "    'precision': 'int',\n",
       "    'min': 0,\n",
       "    'max': 255},\n",
       "   'dimensions': [1, 1],\n",
       "   'origin': [-96, 39],\n",
       "   'crs': 'EPSG:4326',\n",
       "   'crs_transform': [1, 0, 0, 0, 1, 0]}],\n",
       " 'properties': {'system:footprint': {'type': 'Point',\n",
       "   'coordinates': [-95.190753379558, 39.04015655639038]}}}"
      ]
     },
     "execution_count": 16,
     "metadata": {},
     "output_type": "execute_result"
    }
   ],
   "source": [
    "partition.getInfo()"
   ]
  },
  {
   "cell_type": "code",
   "execution_count": 40,
   "id": "b38e965c-f36d-48a1-b57a-dc61b81f0620",
   "metadata": {},
   "outputs": [],
   "source": [
    "lc=partition.sample(region=site.geometry(), projection=projection, scale=30,geometries=True, dropNulls = True, factor=0.99)"
   ]
  },
  {
   "cell_type": "code",
   "execution_count": 54,
   "id": "c8917961-f27d-41ff-bbc9-8f0d80bd48d4",
   "metadata": {},
   "outputs": [],
   "source": [
    "l=lc.getInfo()"
   ]
  },
  {
   "cell_type": "code",
   "execution_count": 57,
   "id": "060c008e-39be-443f-9a7d-ff45e95dd417",
   "metadata": {},
   "outputs": [
    {
     "data": {
      "text/plain": [
       "5"
      ]
     },
     "execution_count": 57,
     "metadata": {},
     "output_type": "execute_result"
    }
   ],
   "source": []
  },
  {
   "cell_type": "code",
   "execution_count": 53,
   "id": "6d26b636-ce53-474b-b0f8-90171896e9c9",
   "metadata": {},
   "outputs": [
    {
     "ename": "EEException",
     "evalue": "Required argument (image2) missing to function: Image.first",
     "output_type": "error",
     "traceback": [
      "\u001b[1;31m---------------------------------------------------------------------------\u001b[0m",
      "\u001b[1;31mEEException\u001b[0m                               Traceback (most recent call last)",
      "Cell \u001b[1;32mIn[53], line 1\u001b[0m\n\u001b[1;32m----> 1\u001b[0m sampleList\u001b[38;5;241m=\u001b[39m ee\u001b[38;5;241m.\u001b[39mList(\u001b[43mproductCollection\u001b[49m\u001b[38;5;241;43m.\u001b[39;49m\u001b[43mfirst\u001b[49m\u001b[43m(\u001b[49m\u001b[43m)\u001b[49m\u001b[38;5;241m.\u001b[39mbandNames()\u001b[38;5;241m.\u001b[39mmap(\u001b[38;5;28;01mlambda\u001b[39;00m bandName: ee\u001b[38;5;241m.\u001b[39mDictionary({ \u001b[38;5;124m'\u001b[39m\u001b[38;5;124mbandName\u001b[39m\u001b[38;5;124m'\u001b[39m: bandName, \u001b[38;5;124m'\u001b[39m\u001b[38;5;124mdata\u001b[39m\u001b[38;5;124m'\u001b[39m: sampleData\u001b[38;5;241m.\u001b[39maggregate_array(bandName)})))\n",
      "File \u001b[1;32m~\\AppData\\Local\\anaconda3\\envs\\leaftoolbox\\Lib\\site-packages\\ee\\apifunction.py:221\u001b[0m, in \u001b[0;36mApiFunction.importApi.<locals>.MakeBoundFunction.<locals>.<lambda>\u001b[1;34m(*args, **kwargs)\u001b[0m\n\u001b[0;32m    218\u001b[0m \u001b[38;5;28;01mdef\u001b[39;00m \u001b[38;5;21mMakeBoundFunction\u001b[39m(func):\n\u001b[0;32m    219\u001b[0m   \u001b[38;5;66;03m# We need the lambda to capture \"func\" from the enclosing scope.\u001b[39;00m\n\u001b[0;32m    220\u001b[0m   \u001b[38;5;66;03m# pylint: disable-next=unnecessary-lambda\u001b[39;00m\n\u001b[1;32m--> 221\u001b[0m   \u001b[38;5;28;01mreturn\u001b[39;00m \u001b[38;5;28;01mlambda\u001b[39;00m \u001b[38;5;241m*\u001b[39margs, \u001b[38;5;241m*\u001b[39m\u001b[38;5;241m*\u001b[39mkwargs: \u001b[43mfunc\u001b[49m\u001b[38;5;241;43m.\u001b[39;49m\u001b[43mcall\u001b[49m\u001b[43m(\u001b[49m\u001b[38;5;241;43m*\u001b[39;49m\u001b[43margs\u001b[49m\u001b[43m,\u001b[49m\u001b[43m \u001b[49m\u001b[38;5;241;43m*\u001b[39;49m\u001b[38;5;241;43m*\u001b[39;49m\u001b[43mkwargs\u001b[49m\u001b[43m)\u001b[49m\n",
      "File \u001b[1;32m~\\AppData\\Local\\anaconda3\\envs\\leaftoolbox\\Lib\\site-packages\\ee\\function.py:62\u001b[0m, in \u001b[0;36mFunction.call\u001b[1;34m(self, *args, **kwargs)\u001b[0m\n\u001b[0;32m     50\u001b[0m \u001b[38;5;28;01mdef\u001b[39;00m \u001b[38;5;21mcall\u001b[39m(\u001b[38;5;28mself\u001b[39m, \u001b[38;5;241m*\u001b[39margs, \u001b[38;5;241m*\u001b[39m\u001b[38;5;241m*\u001b[39mkwargs):\n\u001b[0;32m     51\u001b[0m \u001b[38;5;250m  \u001b[39m\u001b[38;5;124;03m\"\"\"Calls the function with the given positional and keyword arguments.\u001b[39;00m\n\u001b[0;32m     52\u001b[0m \n\u001b[0;32m     53\u001b[0m \u001b[38;5;124;03m  Args:\u001b[39;00m\n\u001b[1;32m   (...)\u001b[0m\n\u001b[0;32m     60\u001b[0m \u001b[38;5;124;03m    to that type.\u001b[39;00m\n\u001b[0;32m     61\u001b[0m \u001b[38;5;124;03m  \"\"\"\u001b[39;00m\n\u001b[1;32m---> 62\u001b[0m   \u001b[38;5;28;01mreturn\u001b[39;00m \u001b[38;5;28;43mself\u001b[39;49m\u001b[38;5;241;43m.\u001b[39;49m\u001b[43mapply\u001b[49m\u001b[43m(\u001b[49m\u001b[38;5;28;43mself\u001b[39;49m\u001b[38;5;241;43m.\u001b[39;49m\u001b[43mnameArgs\u001b[49m\u001b[43m(\u001b[49m\u001b[43margs\u001b[49m\u001b[43m,\u001b[49m\u001b[43m \u001b[49m\u001b[43mkwargs\u001b[49m\u001b[43m)\u001b[49m\u001b[43m)\u001b[49m\n",
      "File \u001b[1;32m~\\AppData\\Local\\anaconda3\\envs\\leaftoolbox\\Lib\\site-packages\\ee\\function.py:75\u001b[0m, in \u001b[0;36mFunction.apply\u001b[1;34m(self, named_args)\u001b[0m\n\u001b[0;32m     64\u001b[0m \u001b[38;5;28;01mdef\u001b[39;00m \u001b[38;5;21mapply\u001b[39m(\u001b[38;5;28mself\u001b[39m, named_args):\n\u001b[0;32m     65\u001b[0m \u001b[38;5;250m  \u001b[39m\u001b[38;5;124;03m\"\"\"Calls the function with a dictionary of named arguments.\u001b[39;00m\n\u001b[0;32m     66\u001b[0m \n\u001b[0;32m     67\u001b[0m \u001b[38;5;124;03m  Args:\u001b[39;00m\n\u001b[1;32m   (...)\u001b[0m\n\u001b[0;32m     73\u001b[0m \u001b[38;5;124;03m    to that type.\u001b[39;00m\n\u001b[0;32m     74\u001b[0m \u001b[38;5;124;03m  \"\"\"\u001b[39;00m\n\u001b[1;32m---> 75\u001b[0m   result \u001b[38;5;241m=\u001b[39m computedobject\u001b[38;5;241m.\u001b[39mComputedObject(\u001b[38;5;28mself\u001b[39m, \u001b[38;5;28;43mself\u001b[39;49m\u001b[38;5;241;43m.\u001b[39;49m\u001b[43mpromoteArgs\u001b[49m\u001b[43m(\u001b[49m\u001b[43mnamed_args\u001b[49m\u001b[43m)\u001b[49m)\n\u001b[0;32m     76\u001b[0m   \u001b[38;5;28;01mreturn\u001b[39;00m Function\u001b[38;5;241m.\u001b[39m_promoter(result, \u001b[38;5;28mself\u001b[39m\u001b[38;5;241m.\u001b[39mgetReturnType())\n",
      "File \u001b[1;32m~\\AppData\\Local\\anaconda3\\envs\\leaftoolbox\\Lib\\site-packages\\ee\\function.py:105\u001b[0m, in \u001b[0;36mFunction.promoteArgs\u001b[1;34m(self, args)\u001b[0m\n\u001b[0;32m    103\u001b[0m     promoted_args[name] \u001b[38;5;241m=\u001b[39m Function\u001b[38;5;241m.\u001b[39m_promoter(args[name], arg_spec[\u001b[38;5;124m'\u001b[39m\u001b[38;5;124mtype\u001b[39m\u001b[38;5;124m'\u001b[39m])\n\u001b[0;32m    104\u001b[0m   \u001b[38;5;28;01melif\u001b[39;00m \u001b[38;5;129;01mnot\u001b[39;00m arg_spec\u001b[38;5;241m.\u001b[39mget(\u001b[38;5;124m'\u001b[39m\u001b[38;5;124moptional\u001b[39m\u001b[38;5;124m'\u001b[39m):\n\u001b[1;32m--> 105\u001b[0m     \u001b[38;5;28;01mraise\u001b[39;00m ee_exception\u001b[38;5;241m.\u001b[39mEEException(\n\u001b[0;32m    106\u001b[0m         \u001b[38;5;124m'\u001b[39m\u001b[38;5;124mRequired argument (\u001b[39m\u001b[38;5;132;01m%s\u001b[39;00m\u001b[38;5;124m) missing to function: \u001b[39m\u001b[38;5;132;01m%s\u001b[39;00m\u001b[38;5;124m'\u001b[39m\n\u001b[0;32m    107\u001b[0m         \u001b[38;5;241m%\u001b[39m (name, signature\u001b[38;5;241m.\u001b[39mget(\u001b[38;5;124m'\u001b[39m\u001b[38;5;124mname\u001b[39m\u001b[38;5;124m'\u001b[39m)))\n\u001b[0;32m    108\u001b[0m   known\u001b[38;5;241m.\u001b[39madd(name)\n\u001b[0;32m    110\u001b[0m \u001b[38;5;66;03m# Check for unknown arguments.\u001b[39;00m\n",
      "\u001b[1;31mEEException\u001b[0m: Required argument (image2) missing to function: Image.first"
     ]
    }
   ],
   "source": [
    "sampleList= ee.List(productCollection.first().bandNames().map(lambda bandName: ee.Dictionary({ 'bandName': bandName, 'data': sampleData.aggregate_array(bandName)})))"
   ]
  },
  {
   "cell_type": "code",
   "execution_count": 42,
   "id": "0f386f53-b1fe-4045-b612-67b7a55fde34",
   "metadata": {},
   "outputs": [],
   "source": [
    "l=lc.getInfo()"
   ]
  },
  {
   "cell_type": "code",
   "execution_count": 45,
   "id": "f9160993-4432-4459-b69b-d1ab783aa35c",
   "metadata": {},
   "outputs": [
    {
     "data": {
      "text/plain": [
       "{'partition': 5}"
      ]
     },
     "execution_count": 45,
     "metadata": {},
     "output_type": "execute_result"
    }
   ],
   "source": [
    "l['features'][0]['properties']"
   ]
  },
  {
   "cell_type": "code",
   "execution_count": 48,
   "id": "91c5f38f-d5a0-4878-8913-7401f2a4ad17",
   "metadata": {},
   "outputs": [],
   "source": [
    "sampleList = ee.Dictionary(ee.Feature(partition).toDictionary()).getInfo()"
   ]
  },
  {
   "cell_type": "code",
   "execution_count": 50,
   "id": "dc00de82-24d5-47fb-9038-6d43460c3563",
   "metadata": {},
   "outputs": [
    {
     "data": {
      "text/plain": [
       "{'type': 'Image',\n",
       " 'bands': [{'id': 'partition',\n",
       "   'data_type': {'type': 'PixelType',\n",
       "    'precision': 'int',\n",
       "    'min': 0,\n",
       "    'max': 255},\n",
       "   'dimensions': [1, 1],\n",
       "   'origin': [-96, 39],\n",
       "   'crs': 'EPSG:4326',\n",
       "   'crs_transform': [1, 0, 0, 0, 1, 0]}],\n",
       " 'properties': {'system:footprint': {'type': 'Point',\n",
       "   'coordinates': [-95.190753379558, 39.04015655639038]}}}"
      ]
     },
     "execution_count": 50,
     "metadata": {},
     "output_type": "execute_result"
    }
   ],
   "source": [
    "partition.getInfo()"
   ]
  },
  {
   "cell_type": "code",
   "execution_count": null,
   "id": "bc45a730-fa93-4172-ad11-cb425f4866a1",
   "metadata": {},
   "outputs": [],
   "source": []
  },
  {
   "cell_type": "code",
   "execution_count": null,
   "id": "2e56c877-f4bb-4e08-8e34-f39930bd62e8",
   "metadata": {},
   "outputs": [],
   "source": []
  },
  {
   "cell_type": "code",
   "execution_count": 36,
   "id": "d4d13e7d-4a80-452e-9d27-334adb33965d",
   "metadata": {},
   "outputs": [
    {
     "data": {
      "text/plain": [
       "{'type': 'FeatureCollection',\n",
       " 'columns': {'partition': 'Short<0, 255>'},\n",
       " 'properties': {'band_order': ['partition']},\n",
       " 'features': [{'type': 'Feature',\n",
       "   'geometry': {'geodesic': False,\n",
       "    'type': 'Point',\n",
       "    'coordinates': [-95.19077248353427, 39.04023201503832]},\n",
       "   'id': '0',\n",
       "   'properties': {'partition': 5}}]}"
      ]
     },
     "execution_count": 36,
     "metadata": {},
     "output_type": "execute_result"
    }
   ],
   "source": [
    "site1 = ee.Feature(site).buffer(20)\n",
    "A=partition.sample(region=site1.geometry(), projection=projection, scale=30,geometries=True, dropNulls = True, factor=0.99)\n",
    "A.getInfo()"
   ]
  },
  {
   "cell_type": "code",
   "execution_count": 39,
   "id": "077dd5fc-5b57-4cfc-ad58-1f9d162a95d9",
   "metadata": {},
   "outputs": [
    {
     "data": {
      "text/plain": [
       "{'type': 'FeatureCollection',\n",
       " 'columns': {'partition': 'Short<0, 255>'},\n",
       " 'properties': {'band_order': ['partition']},\n",
       " 'features': [{'type': 'Feature',\n",
       "   'geometry': {'geodesic': False,\n",
       "    'type': 'Point',\n",
       "    'coordinates': [-95.18956426882872, 39.04038986135921]},\n",
       "   'id': '0',\n",
       "   'properties': {'partition': 5}}]}"
      ]
     },
     "execution_count": 39,
     "metadata": {},
     "output_type": "execute_result"
    }
   ],
   "source": [
    "site1 = ee.Feature(site).buffer(200)\n",
    "A=partition.sample(region=site1.geometry(), projection=projection, scale=600,geometries=True, dropNulls = True, factor=0.99)\n",
    "A.getInfo()"
   ]
  },
  {
   "cell_type": "code",
   "execution_count": 30,
   "id": "9b2443b2-d446-4e6c-8f3f-296d4081bd60",
   "metadata": {},
   "outputs": [],
   "source": [
    "B=A.getInfo()"
   ]
  },
  {
   "cell_type": "code",
   "execution_count": 31,
   "id": "99380d88-d3bd-4217-ae01-f8406b195ff1",
   "metadata": {},
   "outputs": [
    {
     "data": {
      "text/plain": [
       "[{'type': 'Feature',\n",
       "  'geometry': {'geodesic': False,\n",
       "   'type': 'Point',\n",
       "   'coordinates': [-95.19077248353427, 39.04023201503832]},\n",
       "  'id': '0',\n",
       "  'properties': {'partition': 5}}]"
      ]
     },
     "execution_count": 31,
     "metadata": {},
     "output_type": "execute_result"
    }
   ],
   "source": [
    "B['features']"
   ]
  },
  {
   "cell_type": "code",
   "execution_count": null,
   "id": "c91dc77b-f999-49cf-bf18-797ce94fd439",
   "metadata": {},
   "outputs": [],
   "source": [
    "s.getInfo()"
   ]
  },
  {
   "cell_type": "code",
   "execution_count": 268,
   "id": "d52ef3c6-0f9b-41ed-8092-f461a0c82299",
   "metadata": {},
   "outputs": [],
   "source": [
    "#lc=partition.sample(region=site.geometry(), projection=projection, scale=outputScaleSize,geometries=True, dropNulls = True, factor=0.99)"
   ]
  },
  {
   "cell_type": "code",
   "execution_count": 269,
   "id": "ad6011fe-943a-4a01-8328-97bfde4d3d7f",
   "metadata": {},
   "outputs": [
    {
     "data": {
      "text/plain": [
       "{'type': 'FeatureCollection',\n",
       " 'columns': {'AOT': 'Float<0.0, 65535.0>',\n",
       "  'B1': 'Float<0.0, 65535.0>',\n",
       "  'B11': 'Float<0.0, 6.5535000000000005>',\n",
       "  'B12': 'Float<0.0, 6.5535000000000005>',\n",
       "  'B2': 'Float<0.0, 65535.0>',\n",
       "  'B3': 'Float<0.0, 6.5535000000000005>',\n",
       "  'B4': 'Float<0.0, 6.5535000000000005>',\n",
       "  'B5': 'Float<0.0, 6.5535000000000005>',\n",
       "  'B6': 'Float<0.0, 6.5535000000000005>',\n",
       "  'B7': 'Float<0.0, 6.5535000000000005>',\n",
       "  'B8': 'Float<0.0, 65535.0>',\n",
       "  'B8A': 'Float<0.0, 6.5535000000000005>',\n",
       "  'B9': 'Float<0.0, 65535.0>',\n",
       "  'MSK_CLDPRB': 'Float<0.0, 255.0>',\n",
       "  'MSK_SNWPRB': 'Float<0.0, 255.0>',\n",
       "  'QA10': 'Float<0.0, 65535.0>',\n",
       "  'QA20': 'Float<0.0, 4.294967295E9>',\n",
       "  'QA60': 'Float<0.0, 65535.0>',\n",
       "  'QC': 'Byte<0, 1>',\n",
       "  'SCL': 'Float<0.0, 255.0>',\n",
       "  'TCI_B': 'Float<0.0, 255.0>',\n",
       "  'TCI_G': 'Float<0.0, 255.0>',\n",
       "  'TCI_R': 'Float<0.0, 255.0>',\n",
       "  'WVP': 'Float<0.0, 65535.0>',\n",
       "  'cosRAA': 'Float<-3.2768, 3.2767>',\n",
       "  'cosSZA': 'Float<0.0, 6.5535000000000005>',\n",
       "  'cosVZA': 'Float<0.0, 6.5535000000000005>',\n",
       "  'date': 'Float<1.662225175871E12, 1.662225175871E12>',\n",
       "  'latitude': 'Float',\n",
       "  'longitude': 'Float',\n",
       "  'partition': 'Short<0, 255>'},\n",
       " 'properties': {'band_order': ['B1',\n",
       "   'B2',\n",
       "   'B3',\n",
       "   'B4',\n",
       "   'B5',\n",
       "   'B6',\n",
       "   'B7',\n",
       "   'B8',\n",
       "   'B8A',\n",
       "   'B9',\n",
       "   'B11',\n",
       "   'B12',\n",
       "   'AOT',\n",
       "   'WVP',\n",
       "   'SCL',\n",
       "   'TCI_R',\n",
       "   'TCI_G',\n",
       "   'TCI_B',\n",
       "   'MSK_CLDPRB',\n",
       "   'MSK_SNWPRB',\n",
       "   'QA10',\n",
       "   'QA20',\n",
       "   'QA60',\n",
       "   'date',\n",
       "   'longitude',\n",
       "   'latitude',\n",
       "   'cosVZA',\n",
       "   'cosSZA',\n",
       "   'cosRAA',\n",
       "   'QC',\n",
       "   'partition']},\n",
       " 'features': [{'type': 'Feature',\n",
       "   'geometry': {'geodesic': False,\n",
       "    'type': 'Point',\n",
       "    'coordinates': [-95.19077248353427, 39.04023201503832]},\n",
       "   'id': '0',\n",
       "   'properties': {'AOT': 143,\n",
       "    'B1': 462,\n",
       "    'B11': 0.09960000000000001,\n",
       "    'B12': 0.0451,\n",
       "    'B2': 371,\n",
       "    'B3': 0.0455,\n",
       "    'B4': 0.0286,\n",
       "    'B5': 0.0613,\n",
       "    'B6': 0.1509,\n",
       "    'B7': 0.1865,\n",
       "    'B8': 1841,\n",
       "    'B8A': 0.19840000000000002,\n",
       "    'B9': 1987,\n",
       "    'MSK_CLDPRB': 0,\n",
       "    'MSK_SNWPRB': 0,\n",
       "    'QA10': 0,\n",
       "    'QA20': 0,\n",
       "    'QA60': 0,\n",
       "    'QC': 0,\n",
       "    'SCL': 4,\n",
       "    'TCI_B': 38,\n",
       "    'TCI_G': 47,\n",
       "    'TCI_R': 30,\n",
       "    'WVP': 3239,\n",
       "    'cosRAA': 0.7104,\n",
       "    'cosSZA': 0.8184,\n",
       "    'cosVZA': 0.9923000000000001,\n",
       "    'date': 1662225175871,\n",
       "    'latitude': 39.040100199097424,\n",
       "    'longitude': -95.19059511271381,\n",
       "    'partition': 5}}]}"
      ]
     },
     "execution_count": 269,
     "metadata": {},
     "output_type": "execute_result"
    }
   ],
   "source": [
    "# img = input_collection.first()\n",
    "# SR =img.sample(region=site.geometry(), projection=projection, scale=outputScaleSize,geometries=True, dropNulls = True, factor=0.99)\n",
    "# SR.getInfo()"
   ]
  },
  {
   "cell_type": "code",
   "execution_count": 257,
   "id": "3cfcc216-fc85-4710-9bcc-585c1fa524ea",
   "metadata": {},
   "outputs": [],
   "source": []
  },
  {
   "cell_type": "code",
   "execution_count": 262,
   "id": "ebbf66f8-883f-46ac-8f92-733f451e10ef",
   "metadata": {},
   "outputs": [
    {
     "data": {
      "text/plain": [
       "{'type': 'FeatureCollection',\n",
       " 'columns': {},\n",
       " 'version': 1618598763605530.0,\n",
       " 'id': 'users/rfernand387/Legend_prosail_ccrs_big_clumped',\n",
       " 'properties': {'system:asset_size': 12817},\n",
       " 'features': [{'type': 'Feature',\n",
       "   'geometry': {'type': 'Point', 'coordinates': [0, 0]},\n",
       "   'id': '00000000000000000006',\n",
       "   'properties': {'SL2P Network': 'deciduous_broadleaf_forest'}}]}"
      ]
     },
     "execution_count": 262,
     "metadata": {},
     "output_type": "execute_result"
    }
   ],
   "source": [
    "landcover.getInfo()"
   ]
  },
  {
   "cell_type": "code",
   "execution_count": null,
   "id": "15a1a6f8-b018-43ae-a459-b3c0756d35cc",
   "metadata": {},
   "outputs": [],
   "source": []
  },
  {
   "cell_type": "code",
   "execution_count": null,
   "id": "4cbc8e24-438b-4eb7-92e5-020320e18aba",
   "metadata": {},
   "outputs": [],
   "source": []
  },
  {
   "cell_type": "code",
   "execution_count": 265,
   "id": "b5fe52a4-7772-488e-a585-fcd7b488e3d7",
   "metadata": {},
   "outputs": [],
   "source": [
    "# legend_list = L.toList(legend.size())\n",
    "# networkIDs = legend_list.map(lambda feature: ee.Feature(feature).get('SL2P Network'))"
   ]
  },
  {
   "cell_type": "code",
   "execution_count": 251,
   "id": "b66419e8-d2c4-4e9b-943b-6a5ba5cc8d07",
   "metadata": {},
   "outputs": [],
   "source": [
    "ee.Feature(L).get('SL2P Network').getInfo()"
   ]
  },
  {
   "cell_type": "code",
   "execution_count": 252,
   "id": "e348ab4f-5c60-458a-8502-0cc39e299039",
   "metadata": {},
   "outputs": [],
   "source": [
    "\n",
    "\n",
    "    # landcover = legend_list.map(lambda feature: ee.Feature(feature).getNumber('Value'))\n",
    "\n",
    "    # # get corresponding networkIDs\n",
    "    # networkIDs = legend_list.map(lambda feature: ee.Feature(feature).get('SL2P Network')) \\"
   ]
  },
  {
   "cell_type": "code",
   "execution_count": 283,
   "id": "f767ce5c-df2b-49be-a8eb-3791650c0143",
   "metadata": {},
   "outputs": [
    {
     "ename": "RefreshError",
     "evalue": "('invalid_grant: Token has been expired or revoked.', {'error': 'invalid_grant', 'error_description': 'Token has been expired or revoked.'})",
     "output_type": "error",
     "traceback": [
      "\u001b[1;31m---------------------------------------------------------------------------\u001b[0m",
      "\u001b[1;31mRefreshError\u001b[0m                              Traceback (most recent call last)",
      "Cell \u001b[1;32mIn[283], line 1\u001b[0m\n\u001b[1;32m----> 1\u001b[0m \u001b[43mlandcover\u001b[49m\u001b[38;5;241;43m.\u001b[39;49m\u001b[43mgetInfo\u001b[49m\u001b[43m(\u001b[49m\u001b[43m)\u001b[49m\n",
      "File \u001b[1;32m~\\AppData\\Local\\anaconda3\\envs\\leaftoolbox\\Lib\\site-packages\\ee\\collection.py:160\u001b[0m, in \u001b[0;36mCollection.getInfo\u001b[1;34m(self)\u001b[0m\n\u001b[0;32m    147\u001b[0m \u001b[38;5;28;01mdef\u001b[39;00m \u001b[38;5;21mgetInfo\u001b[39m(\u001b[38;5;28mself\u001b[39m) \u001b[38;5;241m-\u001b[39m\u001b[38;5;241m>\u001b[39m Optional[Any]:\n\u001b[0;32m    148\u001b[0m \u001b[38;5;250m  \u001b[39m\u001b[38;5;124;03m\"\"\"Returns all the known information about this collection.\u001b[39;00m\n\u001b[0;32m    149\u001b[0m \n\u001b[0;32m    150\u001b[0m \u001b[38;5;124;03m  This function makes a REST call to to retrieve all the known information\u001b[39;00m\n\u001b[1;32m   (...)\u001b[0m\n\u001b[0;32m    158\u001b[0m \u001b[38;5;124;03m         properties.\u001b[39;00m\n\u001b[0;32m    159\u001b[0m \u001b[38;5;124;03m  \"\"\"\u001b[39;00m\n\u001b[1;32m--> 160\u001b[0m   \u001b[38;5;28;01mreturn\u001b[39;00m \u001b[38;5;28;43msuper\u001b[39;49m\u001b[43m(\u001b[49m\u001b[43m)\u001b[49m\u001b[38;5;241;43m.\u001b[39;49m\u001b[43mgetInfo\u001b[49m\u001b[43m(\u001b[49m\u001b[43m)\u001b[49m\n",
      "File \u001b[1;32m~\\AppData\\Local\\anaconda3\\envs\\leaftoolbox\\Lib\\site-packages\\ee\\computedobject.py:108\u001b[0m, in \u001b[0;36mComputedObject.getInfo\u001b[1;34m(self)\u001b[0m\n\u001b[0;32m    102\u001b[0m \u001b[38;5;28;01mdef\u001b[39;00m \u001b[38;5;21mgetInfo\u001b[39m(\u001b[38;5;28mself\u001b[39m) \u001b[38;5;241m-\u001b[39m\u001b[38;5;241m>\u001b[39m Optional[Any]:\n\u001b[0;32m    103\u001b[0m \u001b[38;5;250m  \u001b[39m\u001b[38;5;124;03m\"\"\"Fetch and return information about this object.\u001b[39;00m\n\u001b[0;32m    104\u001b[0m \n\u001b[0;32m    105\u001b[0m \u001b[38;5;124;03m  Returns:\u001b[39;00m\n\u001b[0;32m    106\u001b[0m \u001b[38;5;124;03m    The object can evaluate to anything.\u001b[39;00m\n\u001b[0;32m    107\u001b[0m \u001b[38;5;124;03m  \"\"\"\u001b[39;00m\n\u001b[1;32m--> 108\u001b[0m   \u001b[38;5;28;01mreturn\u001b[39;00m \u001b[43mdata\u001b[49m\u001b[38;5;241;43m.\u001b[39;49m\u001b[43mcomputeValue\u001b[49m\u001b[43m(\u001b[49m\u001b[38;5;28;43mself\u001b[39;49m\u001b[43m)\u001b[49m\n",
      "File \u001b[1;32m~\\AppData\\Local\\anaconda3\\envs\\leaftoolbox\\Lib\\site-packages\\ee\\data.py:1078\u001b[0m, in \u001b[0;36mcomputeValue\u001b[1;34m(obj)\u001b[0m\n\u001b[0;32m   1075\u001b[0m body \u001b[38;5;241m=\u001b[39m {\u001b[38;5;124m'\u001b[39m\u001b[38;5;124mexpression\u001b[39m\u001b[38;5;124m'\u001b[39m: serializer\u001b[38;5;241m.\u001b[39mencode(obj, for_cloud_api\u001b[38;5;241m=\u001b[39m\u001b[38;5;28;01mTrue\u001b[39;00m)}\n\u001b[0;32m   1076\u001b[0m _maybe_populate_workload_tag(body)\n\u001b[1;32m-> 1078\u001b[0m \u001b[38;5;28;01mreturn\u001b[39;00m \u001b[43m_execute_cloud_call\u001b[49m\u001b[43m(\u001b[49m\n\u001b[0;32m   1079\u001b[0m \u001b[43m    \u001b[49m\u001b[43m_get_cloud_projects\u001b[49m\u001b[43m(\u001b[49m\u001b[43m)\u001b[49m\n\u001b[0;32m   1080\u001b[0m \u001b[43m    \u001b[49m\u001b[38;5;241;43m.\u001b[39;49m\u001b[43mvalue\u001b[49m\u001b[43m(\u001b[49m\u001b[43m)\u001b[49m\n\u001b[0;32m   1081\u001b[0m \u001b[43m    \u001b[49m\u001b[38;5;241;43m.\u001b[39;49m\u001b[43mcompute\u001b[49m\u001b[43m(\u001b[49m\u001b[43mbody\u001b[49m\u001b[38;5;241;43m=\u001b[39;49m\u001b[43mbody\u001b[49m\u001b[43m,\u001b[49m\u001b[43m \u001b[49m\u001b[43mproject\u001b[49m\u001b[38;5;241;43m=\u001b[39;49m\u001b[43m_get_projects_path\u001b[49m\u001b[43m(\u001b[49m\u001b[43m)\u001b[49m\u001b[43m,\u001b[49m\u001b[43m \u001b[49m\u001b[43mprettyPrint\u001b[49m\u001b[38;5;241;43m=\u001b[39;49m\u001b[38;5;28;43;01mFalse\u001b[39;49;00m\u001b[43m)\u001b[49m\n\u001b[0;32m   1082\u001b[0m \u001b[43m\u001b[49m\u001b[43m)\u001b[49m[\u001b[38;5;124m'\u001b[39m\u001b[38;5;124mresult\u001b[39m\u001b[38;5;124m'\u001b[39m]\n",
      "File \u001b[1;32m~\\AppData\\Local\\anaconda3\\envs\\leaftoolbox\\Lib\\site-packages\\ee\\data.py:379\u001b[0m, in \u001b[0;36m_execute_cloud_call\u001b[1;34m(call, num_retries)\u001b[0m\n\u001b[0;32m    365\u001b[0m \u001b[38;5;250m\u001b[39m\u001b[38;5;124;03m\"\"\"Executes a Cloud API call and translates errors to EEExceptions.\u001b[39;00m\n\u001b[0;32m    366\u001b[0m \n\u001b[0;32m    367\u001b[0m \u001b[38;5;124;03mArgs:\u001b[39;00m\n\u001b[1;32m   (...)\u001b[0m\n\u001b[0;32m    376\u001b[0m \u001b[38;5;124;03m  EEException if the call fails.\u001b[39;00m\n\u001b[0;32m    377\u001b[0m \u001b[38;5;124;03m\"\"\"\u001b[39;00m\n\u001b[0;32m    378\u001b[0m \u001b[38;5;28;01mtry\u001b[39;00m:\n\u001b[1;32m--> 379\u001b[0m   \u001b[38;5;28;01mreturn\u001b[39;00m \u001b[43mcall\u001b[49m\u001b[38;5;241;43m.\u001b[39;49m\u001b[43mexecute\u001b[49m\u001b[43m(\u001b[49m\u001b[43mnum_retries\u001b[49m\u001b[38;5;241;43m=\u001b[39;49m\u001b[43mnum_retries\u001b[49m\u001b[43m)\u001b[49m\n\u001b[0;32m    380\u001b[0m \u001b[38;5;28;01mexcept\u001b[39;00m googleapiclient\u001b[38;5;241m.\u001b[39merrors\u001b[38;5;241m.\u001b[39mHttpError \u001b[38;5;28;01mas\u001b[39;00m e:\n\u001b[0;32m    381\u001b[0m   \u001b[38;5;28;01mraise\u001b[39;00m _translate_cloud_exception(e)\n",
      "File \u001b[1;32m~\\AppData\\Local\\anaconda3\\envs\\leaftoolbox\\Lib\\site-packages\\googleapiclient\\_helpers.py:130\u001b[0m, in \u001b[0;36mpositional.<locals>.positional_decorator.<locals>.positional_wrapper\u001b[1;34m(*args, **kwargs)\u001b[0m\n\u001b[0;32m    128\u001b[0m     \u001b[38;5;28;01melif\u001b[39;00m positional_parameters_enforcement \u001b[38;5;241m==\u001b[39m POSITIONAL_WARNING:\n\u001b[0;32m    129\u001b[0m         logger\u001b[38;5;241m.\u001b[39mwarning(message)\n\u001b[1;32m--> 130\u001b[0m \u001b[38;5;28;01mreturn\u001b[39;00m \u001b[43mwrapped\u001b[49m\u001b[43m(\u001b[49m\u001b[38;5;241;43m*\u001b[39;49m\u001b[43margs\u001b[49m\u001b[43m,\u001b[49m\u001b[43m \u001b[49m\u001b[38;5;241;43m*\u001b[39;49m\u001b[38;5;241;43m*\u001b[39;49m\u001b[43mkwargs\u001b[49m\u001b[43m)\u001b[49m\n",
      "File \u001b[1;32m~\\AppData\\Local\\anaconda3\\envs\\leaftoolbox\\Lib\\site-packages\\googleapiclient\\http.py:923\u001b[0m, in \u001b[0;36mHttpRequest.execute\u001b[1;34m(self, http, num_retries)\u001b[0m\n\u001b[0;32m    920\u001b[0m     \u001b[38;5;28mself\u001b[39m\u001b[38;5;241m.\u001b[39mheaders[\u001b[38;5;124m\"\u001b[39m\u001b[38;5;124mcontent-length\u001b[39m\u001b[38;5;124m\"\u001b[39m] \u001b[38;5;241m=\u001b[39m \u001b[38;5;28mstr\u001b[39m(\u001b[38;5;28mlen\u001b[39m(\u001b[38;5;28mself\u001b[39m\u001b[38;5;241m.\u001b[39mbody))\n\u001b[0;32m    922\u001b[0m \u001b[38;5;66;03m# Handle retries for server-side errors.\u001b[39;00m\n\u001b[1;32m--> 923\u001b[0m resp, content \u001b[38;5;241m=\u001b[39m \u001b[43m_retry_request\u001b[49m\u001b[43m(\u001b[49m\n\u001b[0;32m    924\u001b[0m \u001b[43m    \u001b[49m\u001b[43mhttp\u001b[49m\u001b[43m,\u001b[49m\n\u001b[0;32m    925\u001b[0m \u001b[43m    \u001b[49m\u001b[43mnum_retries\u001b[49m\u001b[43m,\u001b[49m\n\u001b[0;32m    926\u001b[0m \u001b[43m    \u001b[49m\u001b[38;5;124;43m\"\u001b[39;49m\u001b[38;5;124;43mrequest\u001b[39;49m\u001b[38;5;124;43m\"\u001b[39;49m\u001b[43m,\u001b[49m\n\u001b[0;32m    927\u001b[0m \u001b[43m    \u001b[49m\u001b[38;5;28;43mself\u001b[39;49m\u001b[38;5;241;43m.\u001b[39;49m\u001b[43m_sleep\u001b[49m\u001b[43m,\u001b[49m\n\u001b[0;32m    928\u001b[0m \u001b[43m    \u001b[49m\u001b[38;5;28;43mself\u001b[39;49m\u001b[38;5;241;43m.\u001b[39;49m\u001b[43m_rand\u001b[49m\u001b[43m,\u001b[49m\n\u001b[0;32m    929\u001b[0m \u001b[43m    \u001b[49m\u001b[38;5;28;43mstr\u001b[39;49m\u001b[43m(\u001b[49m\u001b[38;5;28;43mself\u001b[39;49m\u001b[38;5;241;43m.\u001b[39;49m\u001b[43muri\u001b[49m\u001b[43m)\u001b[49m\u001b[43m,\u001b[49m\n\u001b[0;32m    930\u001b[0m \u001b[43m    \u001b[49m\u001b[43mmethod\u001b[49m\u001b[38;5;241;43m=\u001b[39;49m\u001b[38;5;28;43mstr\u001b[39;49m\u001b[43m(\u001b[49m\u001b[38;5;28;43mself\u001b[39;49m\u001b[38;5;241;43m.\u001b[39;49m\u001b[43mmethod\u001b[49m\u001b[43m)\u001b[49m\u001b[43m,\u001b[49m\n\u001b[0;32m    931\u001b[0m \u001b[43m    \u001b[49m\u001b[43mbody\u001b[49m\u001b[38;5;241;43m=\u001b[39;49m\u001b[38;5;28;43mself\u001b[39;49m\u001b[38;5;241;43m.\u001b[39;49m\u001b[43mbody\u001b[49m\u001b[43m,\u001b[49m\n\u001b[0;32m    932\u001b[0m \u001b[43m    \u001b[49m\u001b[43mheaders\u001b[49m\u001b[38;5;241;43m=\u001b[39;49m\u001b[38;5;28;43mself\u001b[39;49m\u001b[38;5;241;43m.\u001b[39;49m\u001b[43mheaders\u001b[49m\u001b[43m,\u001b[49m\n\u001b[0;32m    933\u001b[0m \u001b[43m\u001b[49m\u001b[43m)\u001b[49m\n\u001b[0;32m    935\u001b[0m \u001b[38;5;28;01mfor\u001b[39;00m callback \u001b[38;5;129;01min\u001b[39;00m \u001b[38;5;28mself\u001b[39m\u001b[38;5;241m.\u001b[39mresponse_callbacks:\n\u001b[0;32m    936\u001b[0m     callback(resp)\n",
      "File \u001b[1;32m~\\AppData\\Local\\anaconda3\\envs\\leaftoolbox\\Lib\\site-packages\\googleapiclient\\http.py:191\u001b[0m, in \u001b[0;36m_retry_request\u001b[1;34m(http, num_retries, req_type, sleep, rand, uri, method, *args, **kwargs)\u001b[0m\n\u001b[0;32m    189\u001b[0m \u001b[38;5;28;01mtry\u001b[39;00m:\n\u001b[0;32m    190\u001b[0m     exception \u001b[38;5;241m=\u001b[39m \u001b[38;5;28;01mNone\u001b[39;00m\n\u001b[1;32m--> 191\u001b[0m     resp, content \u001b[38;5;241m=\u001b[39m \u001b[43mhttp\u001b[49m\u001b[38;5;241;43m.\u001b[39;49m\u001b[43mrequest\u001b[49m\u001b[43m(\u001b[49m\u001b[43muri\u001b[49m\u001b[43m,\u001b[49m\u001b[43m \u001b[49m\u001b[43mmethod\u001b[49m\u001b[43m,\u001b[49m\u001b[43m \u001b[49m\u001b[38;5;241;43m*\u001b[39;49m\u001b[43margs\u001b[49m\u001b[43m,\u001b[49m\u001b[43m \u001b[49m\u001b[38;5;241;43m*\u001b[39;49m\u001b[38;5;241;43m*\u001b[39;49m\u001b[43mkwargs\u001b[49m\u001b[43m)\u001b[49m\n\u001b[0;32m    192\u001b[0m \u001b[38;5;66;03m# Retry on SSL errors and socket timeout errors.\u001b[39;00m\n\u001b[0;32m    193\u001b[0m \u001b[38;5;28;01mexcept\u001b[39;00m _ssl_SSLError \u001b[38;5;28;01mas\u001b[39;00m ssl_error:\n",
      "File \u001b[1;32m~\\AppData\\Local\\anaconda3\\envs\\leaftoolbox\\Lib\\site-packages\\google_auth_httplib2.py:209\u001b[0m, in \u001b[0;36mAuthorizedHttp.request\u001b[1;34m(self, uri, method, body, headers, redirections, connection_type, **kwargs)\u001b[0m\n\u001b[0;32m    205\u001b[0m \u001b[38;5;66;03m# Make a copy of the headers. They will be modified by the credentials\u001b[39;00m\n\u001b[0;32m    206\u001b[0m \u001b[38;5;66;03m# and we want to pass the original headers if we recurse.\u001b[39;00m\n\u001b[0;32m    207\u001b[0m request_headers \u001b[38;5;241m=\u001b[39m headers\u001b[38;5;241m.\u001b[39mcopy() \u001b[38;5;28;01mif\u001b[39;00m headers \u001b[38;5;129;01mis\u001b[39;00m \u001b[38;5;129;01mnot\u001b[39;00m \u001b[38;5;28;01mNone\u001b[39;00m \u001b[38;5;28;01melse\u001b[39;00m {}\n\u001b[1;32m--> 209\u001b[0m \u001b[38;5;28;43mself\u001b[39;49m\u001b[38;5;241;43m.\u001b[39;49m\u001b[43mcredentials\u001b[49m\u001b[38;5;241;43m.\u001b[39;49m\u001b[43mbefore_request\u001b[49m\u001b[43m(\u001b[49m\u001b[38;5;28;43mself\u001b[39;49m\u001b[38;5;241;43m.\u001b[39;49m\u001b[43m_request\u001b[49m\u001b[43m,\u001b[49m\u001b[43m \u001b[49m\u001b[43mmethod\u001b[49m\u001b[43m,\u001b[49m\u001b[43m \u001b[49m\u001b[43muri\u001b[49m\u001b[43m,\u001b[49m\u001b[43m \u001b[49m\u001b[43mrequest_headers\u001b[49m\u001b[43m)\u001b[49m\n\u001b[0;32m    211\u001b[0m \u001b[38;5;66;03m# Check if the body is a file-like stream, and if so, save the body\u001b[39;00m\n\u001b[0;32m    212\u001b[0m \u001b[38;5;66;03m# stream position so that it can be restored in case of refresh.\u001b[39;00m\n\u001b[0;32m    213\u001b[0m body_stream_position \u001b[38;5;241m=\u001b[39m \u001b[38;5;28;01mNone\u001b[39;00m\n",
      "File \u001b[1;32m~\\AppData\\Local\\anaconda3\\envs\\leaftoolbox\\Lib\\site-packages\\google\\auth\\credentials.py:175\u001b[0m, in \u001b[0;36mCredentials.before_request\u001b[1;34m(self, request, method, url, headers)\u001b[0m\n\u001b[0;32m    171\u001b[0m \u001b[38;5;66;03m# pylint: disable=unused-argument\u001b[39;00m\n\u001b[0;32m    172\u001b[0m \u001b[38;5;66;03m# (Subclasses may use these arguments to ascertain information about\u001b[39;00m\n\u001b[0;32m    173\u001b[0m \u001b[38;5;66;03m# the http request.)\u001b[39;00m\n\u001b[0;32m    174\u001b[0m \u001b[38;5;28;01mif\u001b[39;00m \u001b[38;5;129;01mnot\u001b[39;00m \u001b[38;5;28mself\u001b[39m\u001b[38;5;241m.\u001b[39mvalid:\n\u001b[1;32m--> 175\u001b[0m     \u001b[38;5;28;43mself\u001b[39;49m\u001b[38;5;241;43m.\u001b[39;49m\u001b[43mrefresh\u001b[49m\u001b[43m(\u001b[49m\u001b[43mrequest\u001b[49m\u001b[43m)\u001b[49m\n\u001b[0;32m    176\u001b[0m metrics\u001b[38;5;241m.\u001b[39madd_metric_header(headers, \u001b[38;5;28mself\u001b[39m\u001b[38;5;241m.\u001b[39m_metric_header_for_usage())\n\u001b[0;32m    177\u001b[0m \u001b[38;5;28mself\u001b[39m\u001b[38;5;241m.\u001b[39mapply(headers)\n",
      "File \u001b[1;32m~\\AppData\\Local\\anaconda3\\envs\\leaftoolbox\\Lib\\site-packages\\google\\oauth2\\credentials.py:391\u001b[0m, in \u001b[0;36mCredentials.refresh\u001b[1;34m(self, request)\u001b[0m\n\u001b[0;32m    373\u001b[0m \u001b[38;5;28;01mif\u001b[39;00m (\n\u001b[0;32m    374\u001b[0m     \u001b[38;5;28mself\u001b[39m\u001b[38;5;241m.\u001b[39m_refresh_token \u001b[38;5;129;01mis\u001b[39;00m \u001b[38;5;28;01mNone\u001b[39;00m\n\u001b[0;32m    375\u001b[0m     \u001b[38;5;129;01mor\u001b[39;00m \u001b[38;5;28mself\u001b[39m\u001b[38;5;241m.\u001b[39m_token_uri \u001b[38;5;129;01mis\u001b[39;00m \u001b[38;5;28;01mNone\u001b[39;00m\n\u001b[0;32m    376\u001b[0m     \u001b[38;5;129;01mor\u001b[39;00m \u001b[38;5;28mself\u001b[39m\u001b[38;5;241m.\u001b[39m_client_id \u001b[38;5;129;01mis\u001b[39;00m \u001b[38;5;28;01mNone\u001b[39;00m\n\u001b[0;32m    377\u001b[0m     \u001b[38;5;129;01mor\u001b[39;00m \u001b[38;5;28mself\u001b[39m\u001b[38;5;241m.\u001b[39m_client_secret \u001b[38;5;129;01mis\u001b[39;00m \u001b[38;5;28;01mNone\u001b[39;00m\n\u001b[0;32m    378\u001b[0m ):\n\u001b[0;32m    379\u001b[0m     \u001b[38;5;28;01mraise\u001b[39;00m exceptions\u001b[38;5;241m.\u001b[39mRefreshError(\n\u001b[0;32m    380\u001b[0m         \u001b[38;5;124m\"\u001b[39m\u001b[38;5;124mThe credentials do not contain the necessary fields need to \u001b[39m\u001b[38;5;124m\"\u001b[39m\n\u001b[0;32m    381\u001b[0m         \u001b[38;5;124m\"\u001b[39m\u001b[38;5;124mrefresh the access token. You must specify refresh_token, \u001b[39m\u001b[38;5;124m\"\u001b[39m\n\u001b[0;32m    382\u001b[0m         \u001b[38;5;124m\"\u001b[39m\u001b[38;5;124mtoken_uri, client_id, and client_secret.\u001b[39m\u001b[38;5;124m\"\u001b[39m\n\u001b[0;32m    383\u001b[0m     )\n\u001b[0;32m    385\u001b[0m (\n\u001b[0;32m    386\u001b[0m     access_token,\n\u001b[0;32m    387\u001b[0m     refresh_token,\n\u001b[0;32m    388\u001b[0m     expiry,\n\u001b[0;32m    389\u001b[0m     grant_response,\n\u001b[0;32m    390\u001b[0m     rapt_token,\n\u001b[1;32m--> 391\u001b[0m ) \u001b[38;5;241m=\u001b[39m \u001b[43mreauth\u001b[49m\u001b[38;5;241;43m.\u001b[39;49m\u001b[43mrefresh_grant\u001b[49m\u001b[43m(\u001b[49m\n\u001b[0;32m    392\u001b[0m \u001b[43m    \u001b[49m\u001b[43mrequest\u001b[49m\u001b[43m,\u001b[49m\n\u001b[0;32m    393\u001b[0m \u001b[43m    \u001b[49m\u001b[38;5;28;43mself\u001b[39;49m\u001b[38;5;241;43m.\u001b[39;49m\u001b[43m_token_uri\u001b[49m\u001b[43m,\u001b[49m\n\u001b[0;32m    394\u001b[0m \u001b[43m    \u001b[49m\u001b[38;5;28;43mself\u001b[39;49m\u001b[38;5;241;43m.\u001b[39;49m\u001b[43m_refresh_token\u001b[49m\u001b[43m,\u001b[49m\n\u001b[0;32m    395\u001b[0m \u001b[43m    \u001b[49m\u001b[38;5;28;43mself\u001b[39;49m\u001b[38;5;241;43m.\u001b[39;49m\u001b[43m_client_id\u001b[49m\u001b[43m,\u001b[49m\n\u001b[0;32m    396\u001b[0m \u001b[43m    \u001b[49m\u001b[38;5;28;43mself\u001b[39;49m\u001b[38;5;241;43m.\u001b[39;49m\u001b[43m_client_secret\u001b[49m\u001b[43m,\u001b[49m\n\u001b[0;32m    397\u001b[0m \u001b[43m    \u001b[49m\u001b[43mscopes\u001b[49m\u001b[38;5;241;43m=\u001b[39;49m\u001b[43mscopes\u001b[49m\u001b[43m,\u001b[49m\n\u001b[0;32m    398\u001b[0m \u001b[43m    \u001b[49m\u001b[43mrapt_token\u001b[49m\u001b[38;5;241;43m=\u001b[39;49m\u001b[38;5;28;43mself\u001b[39;49m\u001b[38;5;241;43m.\u001b[39;49m\u001b[43m_rapt_token\u001b[49m\u001b[43m,\u001b[49m\n\u001b[0;32m    399\u001b[0m \u001b[43m    \u001b[49m\u001b[43menable_reauth_refresh\u001b[49m\u001b[38;5;241;43m=\u001b[39;49m\u001b[38;5;28;43mself\u001b[39;49m\u001b[38;5;241;43m.\u001b[39;49m\u001b[43m_enable_reauth_refresh\u001b[49m\u001b[43m,\u001b[49m\n\u001b[0;32m    400\u001b[0m \u001b[43m\u001b[49m\u001b[43m)\u001b[49m\n\u001b[0;32m    402\u001b[0m \u001b[38;5;28mself\u001b[39m\u001b[38;5;241m.\u001b[39mtoken \u001b[38;5;241m=\u001b[39m access_token\n\u001b[0;32m    403\u001b[0m \u001b[38;5;28mself\u001b[39m\u001b[38;5;241m.\u001b[39mexpiry \u001b[38;5;241m=\u001b[39m expiry\n",
      "File \u001b[1;32m~\\AppData\\Local\\anaconda3\\envs\\leaftoolbox\\Lib\\site-packages\\google\\oauth2\\reauth.py:365\u001b[0m, in \u001b[0;36mrefresh_grant\u001b[1;34m(request, token_uri, refresh_token, client_id, client_secret, scopes, rapt_token, enable_reauth_refresh)\u001b[0m\n\u001b[0;32m    356\u001b[0m     (\n\u001b[0;32m    357\u001b[0m         response_status_ok,\n\u001b[0;32m    358\u001b[0m         response_data,\n\u001b[1;32m   (...)\u001b[0m\n\u001b[0;32m    361\u001b[0m         request, token_uri, body, headers\u001b[38;5;241m=\u001b[39mmetrics_header\n\u001b[0;32m    362\u001b[0m     )\n\u001b[0;32m    364\u001b[0m \u001b[38;5;28;01mif\u001b[39;00m \u001b[38;5;129;01mnot\u001b[39;00m response_status_ok:\n\u001b[1;32m--> 365\u001b[0m     \u001b[43m_client\u001b[49m\u001b[38;5;241;43m.\u001b[39;49m\u001b[43m_handle_error_response\u001b[49m\u001b[43m(\u001b[49m\u001b[43mresponse_data\u001b[49m\u001b[43m,\u001b[49m\u001b[43m \u001b[49m\u001b[43mretryable_error\u001b[49m\u001b[43m)\u001b[49m\n\u001b[0;32m    366\u001b[0m \u001b[38;5;28;01mreturn\u001b[39;00m _client\u001b[38;5;241m.\u001b[39m_handle_refresh_grant_response(response_data, refresh_token) \u001b[38;5;241m+\u001b[39m (\n\u001b[0;32m    367\u001b[0m     rapt_token,\n\u001b[0;32m    368\u001b[0m )\n",
      "File \u001b[1;32m~\\AppData\\Local\\anaconda3\\envs\\leaftoolbox\\Lib\\site-packages\\google\\oauth2\\_client.py:72\u001b[0m, in \u001b[0;36m_handle_error_response\u001b[1;34m(response_data, retryable_error)\u001b[0m\n\u001b[0;32m     69\u001b[0m \u001b[38;5;28;01mexcept\u001b[39;00m (\u001b[38;5;167;01mKeyError\u001b[39;00m, \u001b[38;5;167;01mValueError\u001b[39;00m):\n\u001b[0;32m     70\u001b[0m     error_details \u001b[38;5;241m=\u001b[39m json\u001b[38;5;241m.\u001b[39mdumps(response_data)\n\u001b[1;32m---> 72\u001b[0m \u001b[38;5;28;01mraise\u001b[39;00m exceptions\u001b[38;5;241m.\u001b[39mRefreshError(\n\u001b[0;32m     73\u001b[0m     error_details, response_data, retryable\u001b[38;5;241m=\u001b[39mretryable_error\n\u001b[0;32m     74\u001b[0m )\n",
      "\u001b[1;31mRefreshError\u001b[0m: ('invalid_grant: Token has been expired or revoked.', {'error': 'invalid_grant', 'error_description': 'Token has been expired or revoked.'})"
     ]
    }
   ],
   "source": [
    "landcover.getInfo()"
   ]
  },
  {
   "cell_type": "code",
   "execution_count": 282,
   "id": "815a082e-1385-4854-85f4-41d99c94565f",
   "metadata": {},
   "outputs": [
    {
     "ename": "RefreshError",
     "evalue": "('invalid_grant: Token has been expired or revoked.', {'error': 'invalid_grant', 'error_description': 'Token has been expired or revoked.'})",
     "output_type": "error",
     "traceback": [
      "\u001b[1;31m---------------------------------------------------------------------------\u001b[0m",
      "\u001b[1;31mRefreshError\u001b[0m                              Traceback (most recent call last)",
      "Cell \u001b[1;32mIn[282], line 1\u001b[0m\n\u001b[1;32m----> 1\u001b[0m \u001b[43mlegend_list\u001b[49m\u001b[38;5;241;43m.\u001b[39;49m\u001b[43mgetInfo\u001b[49m\u001b[43m(\u001b[49m\u001b[43m)\u001b[49m\n",
      "File \u001b[1;32m~\\AppData\\Local\\anaconda3\\envs\\leaftoolbox\\Lib\\site-packages\\ee\\computedobject.py:108\u001b[0m, in \u001b[0;36mComputedObject.getInfo\u001b[1;34m(self)\u001b[0m\n\u001b[0;32m    102\u001b[0m \u001b[38;5;28;01mdef\u001b[39;00m \u001b[38;5;21mgetInfo\u001b[39m(\u001b[38;5;28mself\u001b[39m) \u001b[38;5;241m-\u001b[39m\u001b[38;5;241m>\u001b[39m Optional[Any]:\n\u001b[0;32m    103\u001b[0m \u001b[38;5;250m  \u001b[39m\u001b[38;5;124;03m\"\"\"Fetch and return information about this object.\u001b[39;00m\n\u001b[0;32m    104\u001b[0m \n\u001b[0;32m    105\u001b[0m \u001b[38;5;124;03m  Returns:\u001b[39;00m\n\u001b[0;32m    106\u001b[0m \u001b[38;5;124;03m    The object can evaluate to anything.\u001b[39;00m\n\u001b[0;32m    107\u001b[0m \u001b[38;5;124;03m  \"\"\"\u001b[39;00m\n\u001b[1;32m--> 108\u001b[0m   \u001b[38;5;28;01mreturn\u001b[39;00m \u001b[43mdata\u001b[49m\u001b[38;5;241;43m.\u001b[39;49m\u001b[43mcomputeValue\u001b[49m\u001b[43m(\u001b[49m\u001b[38;5;28;43mself\u001b[39;49m\u001b[43m)\u001b[49m\n",
      "File \u001b[1;32m~\\AppData\\Local\\anaconda3\\envs\\leaftoolbox\\Lib\\site-packages\\ee\\data.py:1078\u001b[0m, in \u001b[0;36mcomputeValue\u001b[1;34m(obj)\u001b[0m\n\u001b[0;32m   1075\u001b[0m body \u001b[38;5;241m=\u001b[39m {\u001b[38;5;124m'\u001b[39m\u001b[38;5;124mexpression\u001b[39m\u001b[38;5;124m'\u001b[39m: serializer\u001b[38;5;241m.\u001b[39mencode(obj, for_cloud_api\u001b[38;5;241m=\u001b[39m\u001b[38;5;28;01mTrue\u001b[39;00m)}\n\u001b[0;32m   1076\u001b[0m _maybe_populate_workload_tag(body)\n\u001b[1;32m-> 1078\u001b[0m \u001b[38;5;28;01mreturn\u001b[39;00m \u001b[43m_execute_cloud_call\u001b[49m\u001b[43m(\u001b[49m\n\u001b[0;32m   1079\u001b[0m \u001b[43m    \u001b[49m\u001b[43m_get_cloud_projects\u001b[49m\u001b[43m(\u001b[49m\u001b[43m)\u001b[49m\n\u001b[0;32m   1080\u001b[0m \u001b[43m    \u001b[49m\u001b[38;5;241;43m.\u001b[39;49m\u001b[43mvalue\u001b[49m\u001b[43m(\u001b[49m\u001b[43m)\u001b[49m\n\u001b[0;32m   1081\u001b[0m \u001b[43m    \u001b[49m\u001b[38;5;241;43m.\u001b[39;49m\u001b[43mcompute\u001b[49m\u001b[43m(\u001b[49m\u001b[43mbody\u001b[49m\u001b[38;5;241;43m=\u001b[39;49m\u001b[43mbody\u001b[49m\u001b[43m,\u001b[49m\u001b[43m \u001b[49m\u001b[43mproject\u001b[49m\u001b[38;5;241;43m=\u001b[39;49m\u001b[43m_get_projects_path\u001b[49m\u001b[43m(\u001b[49m\u001b[43m)\u001b[49m\u001b[43m,\u001b[49m\u001b[43m \u001b[49m\u001b[43mprettyPrint\u001b[49m\u001b[38;5;241;43m=\u001b[39;49m\u001b[38;5;28;43;01mFalse\u001b[39;49;00m\u001b[43m)\u001b[49m\n\u001b[0;32m   1082\u001b[0m \u001b[43m\u001b[49m\u001b[43m)\u001b[49m[\u001b[38;5;124m'\u001b[39m\u001b[38;5;124mresult\u001b[39m\u001b[38;5;124m'\u001b[39m]\n",
      "File \u001b[1;32m~\\AppData\\Local\\anaconda3\\envs\\leaftoolbox\\Lib\\site-packages\\ee\\data.py:379\u001b[0m, in \u001b[0;36m_execute_cloud_call\u001b[1;34m(call, num_retries)\u001b[0m\n\u001b[0;32m    365\u001b[0m \u001b[38;5;250m\u001b[39m\u001b[38;5;124;03m\"\"\"Executes a Cloud API call and translates errors to EEExceptions.\u001b[39;00m\n\u001b[0;32m    366\u001b[0m \n\u001b[0;32m    367\u001b[0m \u001b[38;5;124;03mArgs:\u001b[39;00m\n\u001b[1;32m   (...)\u001b[0m\n\u001b[0;32m    376\u001b[0m \u001b[38;5;124;03m  EEException if the call fails.\u001b[39;00m\n\u001b[0;32m    377\u001b[0m \u001b[38;5;124;03m\"\"\"\u001b[39;00m\n\u001b[0;32m    378\u001b[0m \u001b[38;5;28;01mtry\u001b[39;00m:\n\u001b[1;32m--> 379\u001b[0m   \u001b[38;5;28;01mreturn\u001b[39;00m \u001b[43mcall\u001b[49m\u001b[38;5;241;43m.\u001b[39;49m\u001b[43mexecute\u001b[49m\u001b[43m(\u001b[49m\u001b[43mnum_retries\u001b[49m\u001b[38;5;241;43m=\u001b[39;49m\u001b[43mnum_retries\u001b[49m\u001b[43m)\u001b[49m\n\u001b[0;32m    380\u001b[0m \u001b[38;5;28;01mexcept\u001b[39;00m googleapiclient\u001b[38;5;241m.\u001b[39merrors\u001b[38;5;241m.\u001b[39mHttpError \u001b[38;5;28;01mas\u001b[39;00m e:\n\u001b[0;32m    381\u001b[0m   \u001b[38;5;28;01mraise\u001b[39;00m _translate_cloud_exception(e)\n",
      "File \u001b[1;32m~\\AppData\\Local\\anaconda3\\envs\\leaftoolbox\\Lib\\site-packages\\googleapiclient\\_helpers.py:130\u001b[0m, in \u001b[0;36mpositional.<locals>.positional_decorator.<locals>.positional_wrapper\u001b[1;34m(*args, **kwargs)\u001b[0m\n\u001b[0;32m    128\u001b[0m     \u001b[38;5;28;01melif\u001b[39;00m positional_parameters_enforcement \u001b[38;5;241m==\u001b[39m POSITIONAL_WARNING:\n\u001b[0;32m    129\u001b[0m         logger\u001b[38;5;241m.\u001b[39mwarning(message)\n\u001b[1;32m--> 130\u001b[0m \u001b[38;5;28;01mreturn\u001b[39;00m \u001b[43mwrapped\u001b[49m\u001b[43m(\u001b[49m\u001b[38;5;241;43m*\u001b[39;49m\u001b[43margs\u001b[49m\u001b[43m,\u001b[49m\u001b[43m \u001b[49m\u001b[38;5;241;43m*\u001b[39;49m\u001b[38;5;241;43m*\u001b[39;49m\u001b[43mkwargs\u001b[49m\u001b[43m)\u001b[49m\n",
      "File \u001b[1;32m~\\AppData\\Local\\anaconda3\\envs\\leaftoolbox\\Lib\\site-packages\\googleapiclient\\http.py:923\u001b[0m, in \u001b[0;36mHttpRequest.execute\u001b[1;34m(self, http, num_retries)\u001b[0m\n\u001b[0;32m    920\u001b[0m     \u001b[38;5;28mself\u001b[39m\u001b[38;5;241m.\u001b[39mheaders[\u001b[38;5;124m\"\u001b[39m\u001b[38;5;124mcontent-length\u001b[39m\u001b[38;5;124m\"\u001b[39m] \u001b[38;5;241m=\u001b[39m \u001b[38;5;28mstr\u001b[39m(\u001b[38;5;28mlen\u001b[39m(\u001b[38;5;28mself\u001b[39m\u001b[38;5;241m.\u001b[39mbody))\n\u001b[0;32m    922\u001b[0m \u001b[38;5;66;03m# Handle retries for server-side errors.\u001b[39;00m\n\u001b[1;32m--> 923\u001b[0m resp, content \u001b[38;5;241m=\u001b[39m \u001b[43m_retry_request\u001b[49m\u001b[43m(\u001b[49m\n\u001b[0;32m    924\u001b[0m \u001b[43m    \u001b[49m\u001b[43mhttp\u001b[49m\u001b[43m,\u001b[49m\n\u001b[0;32m    925\u001b[0m \u001b[43m    \u001b[49m\u001b[43mnum_retries\u001b[49m\u001b[43m,\u001b[49m\n\u001b[0;32m    926\u001b[0m \u001b[43m    \u001b[49m\u001b[38;5;124;43m\"\u001b[39;49m\u001b[38;5;124;43mrequest\u001b[39;49m\u001b[38;5;124;43m\"\u001b[39;49m\u001b[43m,\u001b[49m\n\u001b[0;32m    927\u001b[0m \u001b[43m    \u001b[49m\u001b[38;5;28;43mself\u001b[39;49m\u001b[38;5;241;43m.\u001b[39;49m\u001b[43m_sleep\u001b[49m\u001b[43m,\u001b[49m\n\u001b[0;32m    928\u001b[0m \u001b[43m    \u001b[49m\u001b[38;5;28;43mself\u001b[39;49m\u001b[38;5;241;43m.\u001b[39;49m\u001b[43m_rand\u001b[49m\u001b[43m,\u001b[49m\n\u001b[0;32m    929\u001b[0m \u001b[43m    \u001b[49m\u001b[38;5;28;43mstr\u001b[39;49m\u001b[43m(\u001b[49m\u001b[38;5;28;43mself\u001b[39;49m\u001b[38;5;241;43m.\u001b[39;49m\u001b[43muri\u001b[49m\u001b[43m)\u001b[49m\u001b[43m,\u001b[49m\n\u001b[0;32m    930\u001b[0m \u001b[43m    \u001b[49m\u001b[43mmethod\u001b[49m\u001b[38;5;241;43m=\u001b[39;49m\u001b[38;5;28;43mstr\u001b[39;49m\u001b[43m(\u001b[49m\u001b[38;5;28;43mself\u001b[39;49m\u001b[38;5;241;43m.\u001b[39;49m\u001b[43mmethod\u001b[49m\u001b[43m)\u001b[49m\u001b[43m,\u001b[49m\n\u001b[0;32m    931\u001b[0m \u001b[43m    \u001b[49m\u001b[43mbody\u001b[49m\u001b[38;5;241;43m=\u001b[39;49m\u001b[38;5;28;43mself\u001b[39;49m\u001b[38;5;241;43m.\u001b[39;49m\u001b[43mbody\u001b[49m\u001b[43m,\u001b[49m\n\u001b[0;32m    932\u001b[0m \u001b[43m    \u001b[49m\u001b[43mheaders\u001b[49m\u001b[38;5;241;43m=\u001b[39;49m\u001b[38;5;28;43mself\u001b[39;49m\u001b[38;5;241;43m.\u001b[39;49m\u001b[43mheaders\u001b[49m\u001b[43m,\u001b[49m\n\u001b[0;32m    933\u001b[0m \u001b[43m\u001b[49m\u001b[43m)\u001b[49m\n\u001b[0;32m    935\u001b[0m \u001b[38;5;28;01mfor\u001b[39;00m callback \u001b[38;5;129;01min\u001b[39;00m \u001b[38;5;28mself\u001b[39m\u001b[38;5;241m.\u001b[39mresponse_callbacks:\n\u001b[0;32m    936\u001b[0m     callback(resp)\n",
      "File \u001b[1;32m~\\AppData\\Local\\anaconda3\\envs\\leaftoolbox\\Lib\\site-packages\\googleapiclient\\http.py:191\u001b[0m, in \u001b[0;36m_retry_request\u001b[1;34m(http, num_retries, req_type, sleep, rand, uri, method, *args, **kwargs)\u001b[0m\n\u001b[0;32m    189\u001b[0m \u001b[38;5;28;01mtry\u001b[39;00m:\n\u001b[0;32m    190\u001b[0m     exception \u001b[38;5;241m=\u001b[39m \u001b[38;5;28;01mNone\u001b[39;00m\n\u001b[1;32m--> 191\u001b[0m     resp, content \u001b[38;5;241m=\u001b[39m \u001b[43mhttp\u001b[49m\u001b[38;5;241;43m.\u001b[39;49m\u001b[43mrequest\u001b[49m\u001b[43m(\u001b[49m\u001b[43muri\u001b[49m\u001b[43m,\u001b[49m\u001b[43m \u001b[49m\u001b[43mmethod\u001b[49m\u001b[43m,\u001b[49m\u001b[43m \u001b[49m\u001b[38;5;241;43m*\u001b[39;49m\u001b[43margs\u001b[49m\u001b[43m,\u001b[49m\u001b[43m \u001b[49m\u001b[38;5;241;43m*\u001b[39;49m\u001b[38;5;241;43m*\u001b[39;49m\u001b[43mkwargs\u001b[49m\u001b[43m)\u001b[49m\n\u001b[0;32m    192\u001b[0m \u001b[38;5;66;03m# Retry on SSL errors and socket timeout errors.\u001b[39;00m\n\u001b[0;32m    193\u001b[0m \u001b[38;5;28;01mexcept\u001b[39;00m _ssl_SSLError \u001b[38;5;28;01mas\u001b[39;00m ssl_error:\n",
      "File \u001b[1;32m~\\AppData\\Local\\anaconda3\\envs\\leaftoolbox\\Lib\\site-packages\\google_auth_httplib2.py:209\u001b[0m, in \u001b[0;36mAuthorizedHttp.request\u001b[1;34m(self, uri, method, body, headers, redirections, connection_type, **kwargs)\u001b[0m\n\u001b[0;32m    205\u001b[0m \u001b[38;5;66;03m# Make a copy of the headers. They will be modified by the credentials\u001b[39;00m\n\u001b[0;32m    206\u001b[0m \u001b[38;5;66;03m# and we want to pass the original headers if we recurse.\u001b[39;00m\n\u001b[0;32m    207\u001b[0m request_headers \u001b[38;5;241m=\u001b[39m headers\u001b[38;5;241m.\u001b[39mcopy() \u001b[38;5;28;01mif\u001b[39;00m headers \u001b[38;5;129;01mis\u001b[39;00m \u001b[38;5;129;01mnot\u001b[39;00m \u001b[38;5;28;01mNone\u001b[39;00m \u001b[38;5;28;01melse\u001b[39;00m {}\n\u001b[1;32m--> 209\u001b[0m \u001b[38;5;28;43mself\u001b[39;49m\u001b[38;5;241;43m.\u001b[39;49m\u001b[43mcredentials\u001b[49m\u001b[38;5;241;43m.\u001b[39;49m\u001b[43mbefore_request\u001b[49m\u001b[43m(\u001b[49m\u001b[38;5;28;43mself\u001b[39;49m\u001b[38;5;241;43m.\u001b[39;49m\u001b[43m_request\u001b[49m\u001b[43m,\u001b[49m\u001b[43m \u001b[49m\u001b[43mmethod\u001b[49m\u001b[43m,\u001b[49m\u001b[43m \u001b[49m\u001b[43muri\u001b[49m\u001b[43m,\u001b[49m\u001b[43m \u001b[49m\u001b[43mrequest_headers\u001b[49m\u001b[43m)\u001b[49m\n\u001b[0;32m    211\u001b[0m \u001b[38;5;66;03m# Check if the body is a file-like stream, and if so, save the body\u001b[39;00m\n\u001b[0;32m    212\u001b[0m \u001b[38;5;66;03m# stream position so that it can be restored in case of refresh.\u001b[39;00m\n\u001b[0;32m    213\u001b[0m body_stream_position \u001b[38;5;241m=\u001b[39m \u001b[38;5;28;01mNone\u001b[39;00m\n",
      "File \u001b[1;32m~\\AppData\\Local\\anaconda3\\envs\\leaftoolbox\\Lib\\site-packages\\google\\auth\\credentials.py:175\u001b[0m, in \u001b[0;36mCredentials.before_request\u001b[1;34m(self, request, method, url, headers)\u001b[0m\n\u001b[0;32m    171\u001b[0m \u001b[38;5;66;03m# pylint: disable=unused-argument\u001b[39;00m\n\u001b[0;32m    172\u001b[0m \u001b[38;5;66;03m# (Subclasses may use these arguments to ascertain information about\u001b[39;00m\n\u001b[0;32m    173\u001b[0m \u001b[38;5;66;03m# the http request.)\u001b[39;00m\n\u001b[0;32m    174\u001b[0m \u001b[38;5;28;01mif\u001b[39;00m \u001b[38;5;129;01mnot\u001b[39;00m \u001b[38;5;28mself\u001b[39m\u001b[38;5;241m.\u001b[39mvalid:\n\u001b[1;32m--> 175\u001b[0m     \u001b[38;5;28;43mself\u001b[39;49m\u001b[38;5;241;43m.\u001b[39;49m\u001b[43mrefresh\u001b[49m\u001b[43m(\u001b[49m\u001b[43mrequest\u001b[49m\u001b[43m)\u001b[49m\n\u001b[0;32m    176\u001b[0m metrics\u001b[38;5;241m.\u001b[39madd_metric_header(headers, \u001b[38;5;28mself\u001b[39m\u001b[38;5;241m.\u001b[39m_metric_header_for_usage())\n\u001b[0;32m    177\u001b[0m \u001b[38;5;28mself\u001b[39m\u001b[38;5;241m.\u001b[39mapply(headers)\n",
      "File \u001b[1;32m~\\AppData\\Local\\anaconda3\\envs\\leaftoolbox\\Lib\\site-packages\\google\\oauth2\\credentials.py:391\u001b[0m, in \u001b[0;36mCredentials.refresh\u001b[1;34m(self, request)\u001b[0m\n\u001b[0;32m    373\u001b[0m \u001b[38;5;28;01mif\u001b[39;00m (\n\u001b[0;32m    374\u001b[0m     \u001b[38;5;28mself\u001b[39m\u001b[38;5;241m.\u001b[39m_refresh_token \u001b[38;5;129;01mis\u001b[39;00m \u001b[38;5;28;01mNone\u001b[39;00m\n\u001b[0;32m    375\u001b[0m     \u001b[38;5;129;01mor\u001b[39;00m \u001b[38;5;28mself\u001b[39m\u001b[38;5;241m.\u001b[39m_token_uri \u001b[38;5;129;01mis\u001b[39;00m \u001b[38;5;28;01mNone\u001b[39;00m\n\u001b[0;32m    376\u001b[0m     \u001b[38;5;129;01mor\u001b[39;00m \u001b[38;5;28mself\u001b[39m\u001b[38;5;241m.\u001b[39m_client_id \u001b[38;5;129;01mis\u001b[39;00m \u001b[38;5;28;01mNone\u001b[39;00m\n\u001b[0;32m    377\u001b[0m     \u001b[38;5;129;01mor\u001b[39;00m \u001b[38;5;28mself\u001b[39m\u001b[38;5;241m.\u001b[39m_client_secret \u001b[38;5;129;01mis\u001b[39;00m \u001b[38;5;28;01mNone\u001b[39;00m\n\u001b[0;32m    378\u001b[0m ):\n\u001b[0;32m    379\u001b[0m     \u001b[38;5;28;01mraise\u001b[39;00m exceptions\u001b[38;5;241m.\u001b[39mRefreshError(\n\u001b[0;32m    380\u001b[0m         \u001b[38;5;124m\"\u001b[39m\u001b[38;5;124mThe credentials do not contain the necessary fields need to \u001b[39m\u001b[38;5;124m\"\u001b[39m\n\u001b[0;32m    381\u001b[0m         \u001b[38;5;124m\"\u001b[39m\u001b[38;5;124mrefresh the access token. You must specify refresh_token, \u001b[39m\u001b[38;5;124m\"\u001b[39m\n\u001b[0;32m    382\u001b[0m         \u001b[38;5;124m\"\u001b[39m\u001b[38;5;124mtoken_uri, client_id, and client_secret.\u001b[39m\u001b[38;5;124m\"\u001b[39m\n\u001b[0;32m    383\u001b[0m     )\n\u001b[0;32m    385\u001b[0m (\n\u001b[0;32m    386\u001b[0m     access_token,\n\u001b[0;32m    387\u001b[0m     refresh_token,\n\u001b[0;32m    388\u001b[0m     expiry,\n\u001b[0;32m    389\u001b[0m     grant_response,\n\u001b[0;32m    390\u001b[0m     rapt_token,\n\u001b[1;32m--> 391\u001b[0m ) \u001b[38;5;241m=\u001b[39m \u001b[43mreauth\u001b[49m\u001b[38;5;241;43m.\u001b[39;49m\u001b[43mrefresh_grant\u001b[49m\u001b[43m(\u001b[49m\n\u001b[0;32m    392\u001b[0m \u001b[43m    \u001b[49m\u001b[43mrequest\u001b[49m\u001b[43m,\u001b[49m\n\u001b[0;32m    393\u001b[0m \u001b[43m    \u001b[49m\u001b[38;5;28;43mself\u001b[39;49m\u001b[38;5;241;43m.\u001b[39;49m\u001b[43m_token_uri\u001b[49m\u001b[43m,\u001b[49m\n\u001b[0;32m    394\u001b[0m \u001b[43m    \u001b[49m\u001b[38;5;28;43mself\u001b[39;49m\u001b[38;5;241;43m.\u001b[39;49m\u001b[43m_refresh_token\u001b[49m\u001b[43m,\u001b[49m\n\u001b[0;32m    395\u001b[0m \u001b[43m    \u001b[49m\u001b[38;5;28;43mself\u001b[39;49m\u001b[38;5;241;43m.\u001b[39;49m\u001b[43m_client_id\u001b[49m\u001b[43m,\u001b[49m\n\u001b[0;32m    396\u001b[0m \u001b[43m    \u001b[49m\u001b[38;5;28;43mself\u001b[39;49m\u001b[38;5;241;43m.\u001b[39;49m\u001b[43m_client_secret\u001b[49m\u001b[43m,\u001b[49m\n\u001b[0;32m    397\u001b[0m \u001b[43m    \u001b[49m\u001b[43mscopes\u001b[49m\u001b[38;5;241;43m=\u001b[39;49m\u001b[43mscopes\u001b[49m\u001b[43m,\u001b[49m\n\u001b[0;32m    398\u001b[0m \u001b[43m    \u001b[49m\u001b[43mrapt_token\u001b[49m\u001b[38;5;241;43m=\u001b[39;49m\u001b[38;5;28;43mself\u001b[39;49m\u001b[38;5;241;43m.\u001b[39;49m\u001b[43m_rapt_token\u001b[49m\u001b[43m,\u001b[49m\n\u001b[0;32m    399\u001b[0m \u001b[43m    \u001b[49m\u001b[43menable_reauth_refresh\u001b[49m\u001b[38;5;241;43m=\u001b[39;49m\u001b[38;5;28;43mself\u001b[39;49m\u001b[38;5;241;43m.\u001b[39;49m\u001b[43m_enable_reauth_refresh\u001b[49m\u001b[43m,\u001b[49m\n\u001b[0;32m    400\u001b[0m \u001b[43m\u001b[49m\u001b[43m)\u001b[49m\n\u001b[0;32m    402\u001b[0m \u001b[38;5;28mself\u001b[39m\u001b[38;5;241m.\u001b[39mtoken \u001b[38;5;241m=\u001b[39m access_token\n\u001b[0;32m    403\u001b[0m \u001b[38;5;28mself\u001b[39m\u001b[38;5;241m.\u001b[39mexpiry \u001b[38;5;241m=\u001b[39m expiry\n",
      "File \u001b[1;32m~\\AppData\\Local\\anaconda3\\envs\\leaftoolbox\\Lib\\site-packages\\google\\oauth2\\reauth.py:365\u001b[0m, in \u001b[0;36mrefresh_grant\u001b[1;34m(request, token_uri, refresh_token, client_id, client_secret, scopes, rapt_token, enable_reauth_refresh)\u001b[0m\n\u001b[0;32m    356\u001b[0m     (\n\u001b[0;32m    357\u001b[0m         response_status_ok,\n\u001b[0;32m    358\u001b[0m         response_data,\n\u001b[1;32m   (...)\u001b[0m\n\u001b[0;32m    361\u001b[0m         request, token_uri, body, headers\u001b[38;5;241m=\u001b[39mmetrics_header\n\u001b[0;32m    362\u001b[0m     )\n\u001b[0;32m    364\u001b[0m \u001b[38;5;28;01mif\u001b[39;00m \u001b[38;5;129;01mnot\u001b[39;00m response_status_ok:\n\u001b[1;32m--> 365\u001b[0m     \u001b[43m_client\u001b[49m\u001b[38;5;241;43m.\u001b[39;49m\u001b[43m_handle_error_response\u001b[49m\u001b[43m(\u001b[49m\u001b[43mresponse_data\u001b[49m\u001b[43m,\u001b[49m\u001b[43m \u001b[49m\u001b[43mretryable_error\u001b[49m\u001b[43m)\u001b[49m\n\u001b[0;32m    366\u001b[0m \u001b[38;5;28;01mreturn\u001b[39;00m _client\u001b[38;5;241m.\u001b[39m_handle_refresh_grant_response(response_data, refresh_token) \u001b[38;5;241m+\u001b[39m (\n\u001b[0;32m    367\u001b[0m     rapt_token,\n\u001b[0;32m    368\u001b[0m )\n",
      "File \u001b[1;32m~\\AppData\\Local\\anaconda3\\envs\\leaftoolbox\\Lib\\site-packages\\google\\oauth2\\_client.py:72\u001b[0m, in \u001b[0;36m_handle_error_response\u001b[1;34m(response_data, retryable_error)\u001b[0m\n\u001b[0;32m     69\u001b[0m \u001b[38;5;28;01mexcept\u001b[39;00m (\u001b[38;5;167;01mKeyError\u001b[39;00m, \u001b[38;5;167;01mValueError\u001b[39;00m):\n\u001b[0;32m     70\u001b[0m     error_details \u001b[38;5;241m=\u001b[39m json\u001b[38;5;241m.\u001b[39mdumps(response_data)\n\u001b[1;32m---> 72\u001b[0m \u001b[38;5;28;01mraise\u001b[39;00m exceptions\u001b[38;5;241m.\u001b[39mRefreshError(\n\u001b[0;32m     73\u001b[0m     error_details, response_data, retryable\u001b[38;5;241m=\u001b[39mretryable_error\n\u001b[0;32m     74\u001b[0m )\n",
      "\u001b[1;31mRefreshError\u001b[0m: ('invalid_grant: Token has been expired or revoked.', {'error': 'invalid_grant', 'error_description': 'Token has been expired or revoked.'})"
     ]
    }
   ],
   "source": [
    "legend_list.getInfo()"
   ]
  },
  {
   "cell_type": "code",
   "execution_count": 212,
   "id": "68c52bec-00a9-43d4-8e36-160ee0cdc3c6",
   "metadata": {},
   "outputs": [],
   "source": [
    "input_collection = input_collection.combine(S)"
   ]
  },
  {
   "cell_type": "code",
   "execution_count": 197,
   "id": "0f0999d4-15bf-4746-818f-81e428efbd26",
   "metadata": {},
   "outputs": [],
   "source": [
    "S=(colOptions[\"partition\"]).filterBounds(mapBounds).map(lambda image: image.clip(mapBounds))"
   ]
  },
  {
   "cell_type": "code",
   "execution_count": 201,
   "id": "54fe7f8a-1c41-4be0-9e13-46675165fd30",
   "metadata": {},
   "outputs": [],
   "source": [
    "input_collection=input_collection.combine(S)"
   ]
  },
  {
   "cell_type": "code",
   "execution_count": 222,
   "id": "f003d955-2c99-464e-ae67-17297e7b3d11",
   "metadata": {},
   "outputs": [],
   "source": [
    "A=colOptions[\"legend\"].getInfo()"
   ]
  },
  {
   "cell_type": "code",
   "execution_count": 229,
   "id": "39968819-753f-4515-9f42-41914dfa751a",
   "metadata": {},
   "outputs": [
    {
     "data": {
      "text/plain": [
       "['evergreen_needleaf_forest',\n",
       " 'deciduous_broadleaf_forest',\n",
       " 'deciduous_broadleaf_forest',\n",
       " 'invalid',\n",
       " 'shrublands',\n",
       " 'polar_shrubland',\n",
       " 'deciduous_broadleaf_forest',\n",
       " 'polar_shrubland',\n",
       " 'grassland_pasture',\n",
       " 'close_cropland',\n",
       " 'lichen_feathermoss',\n",
       " 'evergreen_needleaf_forest',\n",
       " 'grassland_pasture',\n",
       " 'polar_grassland',\n",
       " 'sphagnum_feathermoss',\n",
       " 'invalid',\n",
       " 'sparse_cropland',\n",
       " 'invalid',\n",
       " 'mixed_forest']"
      ]
     },
     "execution_count": 229,
     "metadata": {},
     "output_type": "execute_result"
    }
   ],
   "source": [
    "[ff['properties']['SL2P Network'] for ff in A['features']]"
   ]
  },
  {
   "cell_type": "code",
   "execution_count": null,
   "id": "aefe5ea5-7f4b-471a-9fb2-9f3e30c2937c",
   "metadata": {},
   "outputs": [],
   "source": []
  },
  {
   "cell_type": "code",
   "execution_count": null,
   "id": "667e4134-9a06-4526-a83e-5d90591e6e81",
   "metadata": {},
   "outputs": [],
   "source": [
    "L=colOptions[\"legend\"].filter(ee.Filter.eq('Value', 5))\n",
    "(colOptions[\"partition\"]).filterBounds(mapBounds).mosaic().clip(mapBounds).rename('partition').getInfo()"
   ]
  },
  {
   "cell_type": "code",
   "execution_count": 75,
   "id": "033116ba-8a53-400a-bce9-598bf996581b",
   "metadata": {},
   "outputs": [],
   "source": [
    "SR =partition.sample(region=site.geometry(), projection=projection, scale=outputScaleSize,geometries=True, dropNulls = True, factor=0.99)"
   ]
  },
  {
   "cell_type": "code",
   "execution_count": 77,
   "id": "4fa7abf6-9d88-453a-a50e-54fe915a62dc",
   "metadata": {},
   "outputs": [],
   "source": [
    "input_collection.get('partition').getInfo()"
   ]
  },
  {
   "cell_type": "code",
   "execution_count": 27,
   "id": "63ed603e-cd2b-4d9a-a77d-732cdbdd316e",
   "metadata": {},
   "outputs": [],
   "source": [
    "#partition.getInfo()"
   ]
  },
  {
   "cell_type": "code",
   "execution_count": 67,
   "id": "fb4177f8-bb32-423b-9628-e4edd225c820",
   "metadata": {},
   "outputs": [],
   "source": [
    "PP=ee.FeatureCollection(partition)"
   ]
  },
  {
   "cell_type": "code",
   "execution_count": 68,
   "id": "953b0598-f977-4087-b862-bf8c4936e028",
   "metadata": {},
   "outputs": [],
   "source": [
    "PP_list=PP.toList(PP.size())"
   ]
  },
  {
   "cell_type": "code",
   "execution_count": 81,
   "id": "0996b0b2-96f1-4cd7-98ef-e5141dd94a72",
   "metadata": {},
   "outputs": [],
   "source": [
    "idx=partition.remap(legend,networkIDs, 0)"
   ]
  },
  {
   "cell_type": "code",
   "execution_count": 115,
   "id": "6cef2fc3-d37a-4f71-8292-56721509b970",
   "metadata": {},
   "outputs": [],
   "source": [
    "image.get('partition').getInfo()"
   ]
  },
  {
   "cell_type": "code",
   "execution_count": 153,
   "id": "fbf105b4-81c8-427c-b456-6739ce0fcc9e",
   "metadata": {},
   "outputs": [],
   "source": [
    "img=input_collection.first()"
   ]
  },
  {
   "cell_type": "code",
   "execution_count": 159,
   "id": "60a8de10-8041-44f9-b7c0-44504e356d3c",
   "metadata": {},
   "outputs": [],
   "source": [
    "img.get('partition').getInfo()"
   ]
  },
  {
   "cell_type": "code",
   "execution_count": 165,
   "id": "b61ef2ee-a64d-4dc8-8477-f5dc12742422",
   "metadata": {},
   "outputs": [],
   "source": [
    "Network_Ind = ee.FeatureCollection(colOptions[\"Network_Ind\"])\n",
    "image = ee.Image(partition)\n",
    "legend = ee.FeatureCollection(colOptions[\"legend\"])\n",
    "\n",
    "legend_list = legend.toList(legend.size())\n",
    "landcover = legend_list.map(lambda feature: ee.Feature(feature).getNumber('Value'))\n",
    "networkIDs = legend_list.map(lambda feature: ee.Feature(feature).get('SL2P Network')) \\\n",
    "                                    .map(lambda propertyValue: ee.Feature(ee.FeatureCollection(Network_Ind).first()).toDictionary().getNumber(propertyValue))\n",
    "idx=image.remap(landcover, networkIDs, 0).rename('networkID')"
   ]
  },
  {
   "cell_type": "code",
   "execution_count": 166,
   "id": "a12ff46f-a996-449e-a4a9-c54dfb3f4315",
   "metadata": {},
   "outputs": [
    {
     "data": {
      "text/plain": [
       "[1, 3, 4, 17, 7, 8, 5, 11, 9, 15, 13, 2, 14, 10, 12, 18, 16, 19, 6]"
      ]
     },
     "execution_count": 166,
     "metadata": {},
     "output_type": "execute_result"
    }
   ],
   "source": [
    "landcover.getInfo().to"
   ]
  },
  {
   "cell_type": "code",
   "execution_count": 167,
   "id": "eb8e50e4-eaf5-4219-8d08-3c5c57cf96ed",
   "metadata": {},
   "outputs": [
    {
     "data": {
      "text/plain": [
       "['evergreen_needleaf_forest',\n",
       " 'deciduous_broadleaf_forest',\n",
       " 'deciduous_broadleaf_forest',\n",
       " 'invalid',\n",
       " 'shrublands',\n",
       " 'polar_shrubland',\n",
       " 'deciduous_broadleaf_forest',\n",
       " 'polar_shrubland',\n",
       " 'grassland_pasture',\n",
       " 'close_cropland',\n",
       " 'lichen_feathermoss',\n",
       " 'evergreen_needleaf_forest',\n",
       " 'grassland_pasture',\n",
       " 'polar_grassland',\n",
       " 'sphagnum_feathermoss',\n",
       " 'invalid',\n",
       " 'sparse_cropland',\n",
       " 'invalid',\n",
       " 'mixed_forest']"
      ]
     },
     "execution_count": 167,
     "metadata": {},
     "output_type": "execute_result"
    }
   ],
   "source": [
    "networkIDs.getInfo()"
   ]
  },
  {
   "cell_type": "code",
   "execution_count": 130,
   "id": "f92af081-8e66-4f66-8b76-54412eda72fe",
   "metadata": {},
   "outputs": [
    {
     "data": {
      "text/plain": [
       "[1, 3, 4, 17, 7, 8, 5, 11, 9, 15, 13, 2, 14, 10, 12, 18, 16, 19, 6]"
      ]
     },
     "execution_count": 130,
     "metadata": {},
     "output_type": "execute_result"
    }
   ],
   "source": [
    "landcover.getInfo()"
   ]
  },
  {
   "cell_type": "code",
   "execution_count": 192,
   "id": "1c7025d1-9315-425a-9202-405be7e445d6",
   "metadata": {},
   "outputs": [],
   "source": [
    "#networkIDs.getInfo()"
   ]
  },
  {
   "cell_type": "code",
   "execution_count": 122,
   "id": "02819418-b44c-4a7f-8d2c-39caebc24e2a",
   "metadata": {},
   "outputs": [
    {
     "data": {
      "text/plain": [
       "{'type': 'FeatureCollection',\n",
       " 'columns': {'partition': 'Short<0, 255>'},\n",
       " 'properties': {'band_order': ['partition']},\n",
       " 'features': [{'type': 'Feature',\n",
       "   'geometry': {'geodesic': False,\n",
       "    'type': 'Point',\n",
       "    'coordinates': [-95.19077248353427, 39.04023201503832]},\n",
       "   'id': '0',\n",
       "   'properties': {'partition': 5}}]}"
      ]
     },
     "execution_count": 122,
     "metadata": {},
     "output_type": "execute_result"
    }
   ],
   "source": [
    "image.sample(region=site.geometry(), projection=projection, scale=outputScaleSize,geometries=True, dropNulls = True, factor=0.99).getInfo()"
   ]
  },
  {
   "cell_type": "code",
   "execution_count": 88,
   "id": "e50f9cfb-f3cc-4cf6-971f-2eaf03a200dd",
   "metadata": {},
   "outputs": [
    {
     "data": {
      "text/plain": [
       "{'type': 'Image',\n",
       " 'bands': [{'id': 'networkID',\n",
       "   'data_type': {'type': 'PixelType', 'precision': 'int', 'min': 0, 'max': 11},\n",
       "   'dimensions': [1, 1],\n",
       "   'origin': [-96, 39],\n",
       "   'crs': 'EPSG:4326',\n",
       "   'crs_transform': [1, 0, 0, 0, 1, 0]}],\n",
       " 'properties': {'system:footprint': {'type': 'Point',\n",
       "   'coordinates': [-95.190753379558, 39.04015655639038]}}}"
      ]
     },
     "execution_count": 88,
     "metadata": {},
     "output_type": "execute_result"
    }
   ],
   "source": [
    "idx.getInfo()"
   ]
  },
  {
   "cell_type": "code",
   "execution_count": 89,
   "id": "228254c5-3b1d-4156-a9da-f285434e7c99",
   "metadata": {},
   "outputs": [],
   "source": [
    "SR =idx.sample(region=site.geometry(), projection=projection, scale=outputScaleSize,geometries=True, dropNulls = True, factor=0.99)"
   ]
  },
  {
   "cell_type": "code",
   "execution_count": 90,
   "id": "9b830b2d-200e-4234-90a9-bad74c01ad56",
   "metadata": {},
   "outputs": [
    {
     "data": {
      "text/plain": [
       "{'type': 'FeatureCollection',\n",
       " 'columns': {'networkID': 'Byte<0, 11>'},\n",
       " 'properties': {'band_order': ['networkID']},\n",
       " 'features': [{'type': 'Feature',\n",
       "   'geometry': {'geodesic': False,\n",
       "    'type': 'Point',\n",
       "    'coordinates': [-95.19077248353427, 39.04023201503832]},\n",
       "   'id': '0',\n",
       "   'properties': {'networkID': 2}}]}"
      ]
     },
     "execution_count": 90,
     "metadata": {},
     "output_type": "execute_result"
    }
   ],
   "source": [
    "SR.getInfo()"
   ]
  },
  {
   "cell_type": "code",
   "execution_count": 48,
   "id": "239c9254-6814-4fd1-bfa2-385e9e7f7445",
   "metadata": {},
   "outputs": [
    {
     "data": {
      "text/plain": [
       "{'type': 'FeatureCollection',\n",
       " 'columns': {'close_cropland': 'Integer',\n",
       "  'deciduous_broadleaf_forest': 'Integer',\n",
       "  'evergreen_needleaf_forest': 'Integer',\n",
       "  'grassland_pasture': 'Integer',\n",
       "  'invalid': 'Integer',\n",
       "  'lichen_feathermoss': 'Integer',\n",
       "  'lon': 'Integer',\n",
       "  'mixed_forest': 'Integer',\n",
       "  'polar_grassland': 'Integer',\n",
       "  'polar_shrubland': 'Integer',\n",
       "  'shrublands': 'Integer',\n",
       "  'sparse_cropland': 'Integer',\n",
       "  'sphagnum_feathermoss': 'Integer',\n",
       "  'system:index': 'String'},\n",
       " 'version': 1618611388723417,\n",
       " 'id': 'users/rfernand387/Parameter_file_prosail_ccrs_big_clumped2',\n",
       " 'properties': {'system:asset_size': 10991},\n",
       " 'features': [{'type': 'Feature',\n",
       "   'geometry': {'type': 'Point', 'coordinates': [0, 0]},\n",
       "   'id': '00000000000000000000',\n",
       "   'properties': {'close_cropland': 1,\n",
       "    'deciduous_broadleaf_forest': 2,\n",
       "    'evergreen_needleaf_forest': 3,\n",
       "    'grassland_pasture': 4,\n",
       "    'invalid': 0,\n",
       "    'lichen_feathermoss': 5,\n",
       "    'lon': 0,\n",
       "    'mixed_forest': 11,\n",
       "    'polar_grassland': 6,\n",
       "    'polar_shrubland': 7,\n",
       "    'shrublands': 8,\n",
       "    'sparse_cropland': 9,\n",
       "    'sphagnum_feathermoss': 10}}]}"
      ]
     },
     "execution_count": 48,
     "metadata": {},
     "output_type": "execute_result"
    }
   ],
   "source": [
    "Network_Ind.getInfo()"
   ]
  },
  {
   "cell_type": "code",
   "execution_count": 132,
   "id": "a95fe4a6-1aca-48b8-9953-59f87d55a7bc",
   "metadata": {},
   "outputs": [],
   "source": [
    "filtered = legend.filter(ee.Filter.eq('Value', 5))"
   ]
  },
  {
   "cell_type": "code",
   "execution_count": 133,
   "id": "d0ce2c94-32e0-4d37-b287-b4de3c573bdc",
   "metadata": {},
   "outputs": [
    {
     "data": {
      "text/plain": [
       "{'type': 'FeatureCollection',\n",
       " 'columns': {'B': 'Integer',\n",
       "  'B (hex)': 'String',\n",
       "  'Description': 'String',\n",
       "  'Earth Engine Palette': 'String',\n",
       "  'G': 'Integer',\n",
       "  'G (hex)': 'String',\n",
       "  'Lon': 'Integer',\n",
       "  'R': 'Integer',\n",
       "  'R (hex)': 'String',\n",
       "  'SL2P Network': 'String',\n",
       "  'Value': 'Integer',\n",
       "  'system:index': 'String'},\n",
       " 'version': 1618598763605530.0,\n",
       " 'id': 'users/rfernand387/Legend_prosail_ccrs_big_clumped',\n",
       " 'properties': {'system:asset_size': 12817},\n",
       " 'features': [{'type': 'Feature',\n",
       "   'geometry': {'type': 'Point', 'coordinates': [0, 0]},\n",
       "   'id': '00000000000000000006',\n",
       "   'properties': {'B': 61,\n",
       "    'B (hex)': '3D',\n",
       "    'Description': 'Temperate or sub-polar broadleaf deciduous forest',\n",
       "    'Earth Engine Palette': \"'148C3D' , // Temperate or sub-polar broadleaf deciduous forest\",\n",
       "    'G': 140,\n",
       "    'G (hex)': '8C',\n",
       "    'Lon': 0,\n",
       "    'R': 20,\n",
       "    'R (hex)': '14',\n",
       "    'SL2P Network': 'deciduous_broadleaf_forest',\n",
       "    'Value': 5}}]}"
      ]
     },
     "execution_count": 133,
     "metadata": {},
     "output_type": "execute_result"
    }
   ],
   "source": [
    "filtered.getInfo()"
   ]
  },
  {
   "cell_type": "code",
   "execution_count": 121,
   "id": "4bcf7b27-76b0-44bc-9423-857c18ec8299",
   "metadata": {},
   "outputs": [],
   "source": [
    "def makeIndexLayer(image, legend, Network_Ind):\n",
    "    image = ee.Image(image)                          # partition image\n",
    "    legend = ee.FeatureCollection(legend)            # legend to convert partition numbers to networks\n",
    "    Network_Ind = ee.FeatureCollection(Network_Ind)  # legend to convert networks to networkIDs\n",
    "    \n",
    "    # get lists of valid partitions\n",
    "    legend_list = legend.toList(legend.size())\n",
    "    landcover = legend_list.map(lambda feature: ee.Feature(feature).getNumber('Value'))\n",
    "\n",
    "    # get corresponding networkIDs\n",
    "    networkIDs = legend_list.map(lambda feature: ee.Feature(feature).get('SL2P Network')) \\\n",
    "                                    .map(lambda propertyValue: ee.Feature(ee.FeatureCollection(Network_Ind).first()) \\\n",
    "                                    .toDictionary().getNumber(propertyValue))\n",
    "    \n",
    "    return image.remap(landcover, networkIDs, 0).rename('networkID')"
   ]
  },
  {
   "cell_type": "code",
   "execution_count": 122,
   "id": "d4116cfc-8d79-46ff-adcd-97753bdeec66",
   "metadata": {},
   "outputs": [],
   "source": [
    "# colOptions[\"legend\"].get(0).getInfo()"
   ]
  },
  {
   "cell_type": "code",
   "execution_count": null,
   "id": "9298039c-b39e-46fd-aa95-22a671902749",
   "metadata": {},
   "outputs": [],
   "source": []
  },
  {
   "cell_type": "code",
   "execution_count": 67,
   "id": "188728e4-d586-48a6-b020-5787e3aa34a7",
   "metadata": {},
   "outputs": [],
   "source": [
    "#input_collection  =  input_collection.map(lambda image: image.addBands(makeIndexLayer(partition,colOptions[\"legend\"],colOptions[\"Network_Ind\"])))"
   ]
  },
  {
   "cell_type": "code",
   "execution_count": 69,
   "id": "949c2568-8766-45d4-ab8d-c0386f64ad12",
   "metadata": {},
   "outputs": [],
   "source": []
  },
  {
   "cell_type": "code",
   "execution_count": 70,
   "id": "fdcb5d44-5065-469b-b91f-cd2133561f2f",
   "metadata": {},
   "outputs": [],
   "source": [
    "#imageInput = imageInput.addBands(makeIndexLayer(partition,colOptions[\"legend\"],colOptions[\"Network_Ind\"]))"
   ]
  },
  {
   "cell_type": "code",
   "execution_count": null,
   "id": "1f8df46e-b365-4f36-9112-23ed54fdc041",
   "metadata": {},
   "outputs": [],
   "source": []
  },
  {
   "cell_type": "code",
   "execution_count": 71,
   "id": "70b82562-8288-4b9a-9c33-40b116d8caf7",
   "metadata": {},
   "outputs": [],
   "source": [
    "img = input_collection.first()\n",
    "netList,imageInput,estimateSL2P = wrapperNNets(SL2P,partition, netOptions, colOptions,\"estimate\",variable,img)  "
   ]
  },
  {
   "cell_type": "code",
   "execution_count": 72,
   "id": "e71848cd-1328-4257-8b34-1c2ad25815e0",
   "metadata": {},
   "outputs": [],
   "source": [
    "SR =img.sample(region=site.geometry(), projection=projection, scale=outputScaleSize,geometries=True, dropNulls = True, factor=0.99)\n",
    "var =estimateSL2P.sample(region=site.geometry(), projection=projection, scale=outputScaleSize,geometries=True, dropNulls = True, factor=0.99)\n",
    "part=partition.sample(region=site.geometry(), projection=projection, scale=outputScaleSize,geometries=True, dropNulls = True, factor=0.99)"
   ]
  },
  {
   "cell_type": "code",
   "execution_count": 73,
   "id": "476ce778-8e1b-43c3-80fa-48b5dcdadde7",
   "metadata": {},
   "outputs": [
    {
     "data": {
      "text/plain": [
       "{'type': 'FeatureCollection',\n",
       " 'columns': {'AOT': 'Float<0.0, 65535.0>',\n",
       "  'B1': 'Float<0.0, 65535.0>',\n",
       "  'B11': 'Float<0.0, 6.5535000000000005>',\n",
       "  'B12': 'Float<0.0, 6.5535000000000005>',\n",
       "  'B2': 'Float<0.0, 65535.0>',\n",
       "  'B3': 'Float<0.0, 6.5535000000000005>',\n",
       "  'B4': 'Float<0.0, 6.5535000000000005>',\n",
       "  'B5': 'Float<0.0, 6.5535000000000005>',\n",
       "  'B6': 'Float<0.0, 6.5535000000000005>',\n",
       "  'B7': 'Float<0.0, 6.5535000000000005>',\n",
       "  'B8': 'Float<0.0, 65535.0>',\n",
       "  'B8A': 'Float<0.0, 6.5535000000000005>',\n",
       "  'B9': 'Float<0.0, 65535.0>',\n",
       "  'MSK_CLDPRB': 'Float<0.0, 255.0>',\n",
       "  'MSK_SNWPRB': 'Float<0.0, 255.0>',\n",
       "  'QA10': 'Float<0.0, 65535.0>',\n",
       "  'QA20': 'Float<0.0, 4.294967295E9>',\n",
       "  'QA60': 'Float<0.0, 65535.0>',\n",
       "  'QC': 'Byte<0, 1>',\n",
       "  'SCL': 'Float<0.0, 255.0>',\n",
       "  'TCI_B': 'Float<0.0, 255.0>',\n",
       "  'TCI_G': 'Float<0.0, 255.0>',\n",
       "  'TCI_R': 'Float<0.0, 255.0>',\n",
       "  'WVP': 'Float<0.0, 65535.0>',\n",
       "  'cosRAA': 'Float<-3.2768, 3.2767>',\n",
       "  'cosSZA': 'Float<0.0, 6.5535000000000005>',\n",
       "  'cosVZA': 'Float<0.0, 6.5535000000000005>',\n",
       "  'date': 'Float<1.662225175871E12, 1.662225175871E12>',\n",
       "  'latitude': 'Float',\n",
       "  'longitude': 'Float',\n",
       "  'partition': 'Short<0, 255>'},\n",
       " 'properties': {'band_order': ['B1',\n",
       "   'B2',\n",
       "   'B3',\n",
       "   'B4',\n",
       "   'B5',\n",
       "   'B6',\n",
       "   'B7',\n",
       "   'B8',\n",
       "   'B8A',\n",
       "   'B9',\n",
       "   'B11',\n",
       "   'B12',\n",
       "   'AOT',\n",
       "   'WVP',\n",
       "   'SCL',\n",
       "   'TCI_R',\n",
       "   'TCI_G',\n",
       "   'TCI_B',\n",
       "   'MSK_CLDPRB',\n",
       "   'MSK_SNWPRB',\n",
       "   'QA10',\n",
       "   'QA20',\n",
       "   'QA60',\n",
       "   'date',\n",
       "   'longitude',\n",
       "   'latitude',\n",
       "   'cosVZA',\n",
       "   'cosSZA',\n",
       "   'cosRAA',\n",
       "   'QC',\n",
       "   'partition']},\n",
       " 'features': [{'type': 'Feature',\n",
       "   'geometry': {'geodesic': False,\n",
       "    'type': 'Point',\n",
       "    'coordinates': [-95.19077248353427, 39.04023201503832]},\n",
       "   'id': '0',\n",
       "   'properties': {'AOT': 143,\n",
       "    'B1': 462,\n",
       "    'B11': 0.09960000000000001,\n",
       "    'B12': 0.0451,\n",
       "    'B2': 371,\n",
       "    'B3': 0.0455,\n",
       "    'B4': 0.0286,\n",
       "    'B5': 0.0613,\n",
       "    'B6': 0.1509,\n",
       "    'B7': 0.1865,\n",
       "    'B8': 1841,\n",
       "    'B8A': 0.19840000000000002,\n",
       "    'B9': 1987,\n",
       "    'MSK_CLDPRB': 0,\n",
       "    'MSK_SNWPRB': 0,\n",
       "    'QA10': 0,\n",
       "    'QA20': 0,\n",
       "    'QA60': 0,\n",
       "    'QC': 0,\n",
       "    'SCL': 4,\n",
       "    'TCI_B': 38,\n",
       "    'TCI_G': 47,\n",
       "    'TCI_R': 30,\n",
       "    'WVP': 3239,\n",
       "    'cosRAA': 0.7104,\n",
       "    'cosSZA': 0.8184,\n",
       "    'cosVZA': 0.9923000000000001,\n",
       "    'date': 1662225175871,\n",
       "    'latitude': 39.040100199097424,\n",
       "    'longitude': -95.19059511271381,\n",
       "    'partition': 5}}]}"
      ]
     },
     "execution_count": 73,
     "metadata": {},
     "output_type": "execute_result"
    }
   ],
   "source": [
    "SR.getInfo()"
   ]
  },
  {
   "cell_type": "code",
   "execution_count": 23,
   "id": "0d2f13d0-6f2b-48dd-8468-75dfb16b74bf",
   "metadata": {},
   "outputs": [
    {
     "data": {
      "text/plain": [
       "1"
      ]
     },
     "execution_count": 23,
     "metadata": {},
     "output_type": "execute_result"
    }
   ],
   "source": [
    "1"
   ]
  },
  {
   "cell_type": "code",
   "execution_count": null,
   "id": "672ca1e2-e081-4bd2-83e0-8de84a307b2c",
   "metadata": {},
   "outputs": [],
   "source": [
    "# def wrapperNNets(network, partition, netOptions, colOptions, suffixName, outputName, imageInput):\n",
    "#     # typecast function parameters\n",
    "#     network = ee.List(network)\n",
    "#     partition = ee.Image(partition)\n",
    "#     netOptions = netOptions\n",
    "#     colOptions = colOptions\n",
    "#     suffixName = suffixName\n",
    "#     imageInput = ee.Image(imageInput)\n",
    "#     outputName = outputName\n",
    "    \n",
    "#     # parse partition  used to identify network to use\n",
    "#     partition = partition.clip(imageInput.geometry()).select(['partition'])\n",
    "\n",
    "#     # determine networks based on collection\n",
    "#     netList = ee.List(network.get(ee.Number(netOptions.get(\"variable\")).subtract(1)))\n",
    "\n",
    "#     # parse land cover into network index and add to input image\n",
    "#     imageInput = imageInput.addBands(makeIndexLayer(partition,colOptions[\"legend\"],colOptions[\"Network_Ind\"]))"
   ]
  },
  {
   "cell_type": "code",
   "execution_count": null,
   "id": "bc02667a-5793-4f3a-8161-c98d7667ff4e",
   "metadata": {},
   "outputs": [],
   "source": [
    "def makeIndexLayer_2(image, legend, Network_Ind):\n",
    "    image = ee.Image(image)                          # partition image\n",
    "    legend = ee.FeatureCollection(legend)            # legend to convert partition numbers to networks\n",
    "    Network_Ind = ee.FeatureCollection(Network_Ind)  # legend to convert networks to networkIDs\n",
    "    \n",
    "    # get lists of valid partitions\n",
    "    legend_list = legend.toList(legend.size())\n",
    "    landcover = legend_list.map(lambda feature: ee.Feature(feature).getNumber('Value'))\n",
    "\n",
    "    # get corresponding networkIDs\n",
    "    networkIDs = legend_list.map(lambda feature: ee.Feature(feature).get('SL2P Network')) \\\n",
    "                                    .map(lambda propertyValue: ee.Feature(ee.FeatureCollection(Network_Ind).first()) \\\n",
    "                                    .toDictionary().getNumber(propertyValue))\n",
    "    \n",
    "    return image.remap(landcover, networkIDs, 0).rename('networkID')"
   ]
  },
  {
   "cell_type": "code",
   "execution_count": 116,
   "id": "bbe1c95b-b777-46db-b203-0733d9838581",
   "metadata": {},
   "outputs": [
    {
     "data": {
      "text/plain": [
       "({'partition': 5},\n",
       " {'QA_PIXEL': 21824,\n",
       "  'QA_RADSAT': 0,\n",
       "  'QC': 0,\n",
       "  'SR_B1': 7829,\n",
       "  'SR_B2': 7965,\n",
       "  'SR_B3': 0.04274249999999999,\n",
       "  'SR_B4': 0.02855250000000001,\n",
       "  'SR_B5': 0.2790225,\n",
       "  'SR_B6': 0.146885,\n",
       "  'SR_B7': 0.06036999999999998,\n",
       "  'SR_QA_AEROSOL': 96,\n",
       "  'ST_ATRAN': 7076,\n",
       "  'ST_B10': 45405,\n",
       "  'ST_CDIST': 676,\n",
       "  'ST_DRAD': 1141,\n",
       "  'ST_EMIS': 9856,\n",
       "  'ST_EMSD': 39,\n",
       "  'ST_QA': 220,\n",
       "  'ST_TRAD': 9569,\n",
       "  'ST_URAD': 2428,\n",
       "  'cosRAA': 0,\n",
       "  'cosSZA': 0.7868,\n",
       "  'cosVZA': 0.9996,\n",
       "  'date': 1662742872619,\n",
       "  'latitude': 39.040100199097424,\n",
       "  'longitude': -95.19059511271381},\n",
       " {'estimateLAI': 1.9475146135165375, 'networkID': 2, 'partition': 5},\n",
       " {'errorLAI': 0.5177120606372808, 'networkID': 2, 'partition': 5})"
      ]
     },
     "execution_count": 116,
     "metadata": {},
     "output_type": "execute_result"
    }
   ],
   "source": [
    "part.getInfo()['features'][0]['properties'],SR.getInfo()['features'][0]['properties'],var.getInfo()['features'][0]['properties'],var_unc.getInfo()['features'][0]['properties']"
   ]
  },
  {
   "cell_type": "code",
   "execution_count": 119,
   "id": "8fc1ddd3-8891-4218-bf46-7be6a6c40fa1",
   "metadata": {},
   "outputs": [
    {
     "data": {
      "text/plain": [
       "12"
      ]
     },
     "execution_count": 119,
     "metadata": {},
     "output_type": "execute_result"
    }
   ],
   "source": [
    "len(netList.getInfo())"
   ]
  },
  {
   "cell_type": "code",
   "execution_count": 122,
   "id": "4c441201-6870-4a12-957f-84b23934ed31",
   "metadata": {},
   "outputs": [],
   "source": [
    "I=imageInput.sample(region=site.geometry(), projection=projection, scale=outputScaleSize,geometries=True, dropNulls = True, factor=0.99)"
   ]
  },
  {
   "cell_type": "code",
   "execution_count": 124,
   "id": "892b08db-03f5-47c1-94ce-9a2a4a391c67",
   "metadata": {},
   "outputs": [
    {
     "data": {
      "text/plain": [
       "[{'type': 'Feature',\n",
       "  'geometry': {'geodesic': False,\n",
       "   'type': 'Point',\n",
       "   'coordinates': [-95.19059511271381, 39.040100199097424]},\n",
       "  'id': '0',\n",
       "  'properties': {'QA_PIXEL': 21824,\n",
       "   'QA_RADSAT': 0,\n",
       "   'QC': 0,\n",
       "   'SR_B1': 7829,\n",
       "   'SR_B2': 7965,\n",
       "   'SR_B3': 0.04274249999999999,\n",
       "   'SR_B4': 0.02855250000000001,\n",
       "   'SR_B5': 0.2790225,\n",
       "   'SR_B6': 0.146885,\n",
       "   'SR_B7': 0.06036999999999998,\n",
       "   'SR_QA_AEROSOL': 96,\n",
       "   'ST_ATRAN': 7076,\n",
       "   'ST_B10': 45405,\n",
       "   'ST_CDIST': 676,\n",
       "   'ST_DRAD': 1141,\n",
       "   'ST_EMIS': 9856,\n",
       "   'ST_EMSD': 39,\n",
       "   'ST_QA': 220,\n",
       "   'ST_TRAD': 9569,\n",
       "   'ST_URAD': 2428,\n",
       "   'cosRAA': 0,\n",
       "   'cosSZA': 0.7868,\n",
       "   'cosVZA': 0.9996,\n",
       "   'date': 1662742872619,\n",
       "   'latitude': 39.040100199097424,\n",
       "   'longitude': -95.19059511271381,\n",
       "   'networkID': 2}}]"
      ]
     },
     "execution_count": 124,
     "metadata": {},
     "output_type": "execute_result"
    }
   ],
   "source": [
    "I.getInfo()['features']"
   ]
  },
  {
   "cell_type": "code",
   "execution_count": null,
   "id": "02cb6f31-b699-4bc9-a22d-a21c722703c3",
   "metadata": {},
   "outputs": [],
   "source": []
  }
 ],
 "metadata": {
  "kernelspec": {
   "display_name": "Python 3 (ipykernel)",
   "language": "python",
   "name": "python3"
  },
  "language_info": {
   "codemirror_mode": {
    "name": "ipython",
    "version": 3
   },
   "file_extension": ".py",
   "mimetype": "text/x-python",
   "name": "python",
   "nbconvert_exporter": "python",
   "pygments_lexer": "ipython3",
   "version": "3.12.0"
  }
 },
 "nbformat": 4,
 "nbformat_minor": 5
}
