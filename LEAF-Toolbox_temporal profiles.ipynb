{
 "cells": [
  {
   "cell_type": "markdown",
   "metadata": {
    "tags": []
   },
   "source": [
    "# Extract vegetation variables times series \n",
    "\n"
   ]
  },
  {
   "cell_type": "markdown",
   "metadata": {
    "tags": []
   },
   "source": [
    "## Setup Environment"
   ]
  },
  {
   "cell_type": "code",
   "execution_count": 1,
   "metadata": {},
   "outputs": [],
   "source": [
    "# Provide your GEE authentificaton\n",
    "import ee\n",
    "ee.Authenticate()\n",
    "ee.Initialize()"
   ]
  },
  {
   "cell_type": "code",
   "execution_count": 73,
   "metadata": {},
   "outputs": [],
   "source": [
    "import LEAF\n",
    "import SL2PV0 \n",
    "import SL2PV1\n",
    "import numpy as np"
   ]
  },
  {
   "cell_type": "code",
   "execution_count": 3,
   "metadata": {},
   "outputs": [],
   "source": [
    "#--ServerApp.iopub_data_rate_limit=3000000.0"
   ]
  },
  {
   "cell_type": "markdown",
   "metadata": {
    "tags": []
   },
   "source": [
    "## Specify Sites to Process\n",
    "\n",
    "Sites correspond to readable Google Earth Engine Feature collections under which samples will be extracted.\n",
    "If the features have time stamps as properties the sampling interval can be restricted on a feature by feature basis.\n",
    "Otherwise the sampling interval must be specified the same for all features."
   ]
  },
  {
   "cell_type": "code",
   "execution_count": 4,
   "metadata": {},
   "outputs": [],
   "source": [
    "# List of GEE feature collections\n",
    "siteList=[\"projects/ee-modis250/assets/validationGBOV/NEON_2013-22_RMs_updated_parsed\"]"
   ]
  },
  {
   "cell_type": "code",
   "execution_count": 5,
   "metadata": {},
   "outputs": [],
   "source": [
    "datapath='C:/Djamai_Najib/1_vegetation_parameters/1_scripts/LEAF-Landsat-Validation-paper/data/LS_SL2PV0_spatialbuffer45/'"
   ]
  },
  {
   "cell_type": "markdown",
   "metadata": {},
   "source": [
    "## Run LEAF "
   ]
  },
  {
   "cell_type": "markdown",
   "metadata": {},
   "source": [
    "### Sample Surface Reflectance from various sensors over sites"
   ]
  },
  {
   "cell_type": "code",
   "execution_count": 6,
   "metadata": {},
   "outputs": [
    {
     "name": "stdout",
     "output_type": "stream",
     "text": [
      "STARTING LEAF IMAGE for  LANDSAT/LC08/C02/T1_L2\n",
      "Site:  projects/ee-modis250/assets/validationGBOV/NEON_2013-22_RMs_updated_parsed  with  14141  features.\n",
      "Output path: C:/Djamai_Najib/1_vegetation_parameters/1_scripts/LEAF-Landsat-Validation-paper/data/LS_SL2PV0_spatialbuffer45/NEON_2013-22_RMs_updated_parsed_LAI_0_5_2024_01_10_13h_01mn_49s.pkl\n",
      "Data sampeling for features: from 0 to 5\n",
      "Feature n°: 4/5  -- startDate: 2018-01-01 00:00:00 -- endDate: 2023-12-31 00:00:00\n",
      "DONE LEAF SITE\n",
      "\n"
     ]
    }
   ],
   "source": [
    "sitesDictionaryL08LAI = LEAF.sampleSites(siteList, \\\n",
    "                                                imageCollectionName='LANDSAT/LC08/C02/T1_L2',\\\n",
    "                                                algorithm=SL2PV0, \n",
    "                                                variableName=\"LAI\",\\\n",
    "                                                maxCloudcover=90,\\\n",
    "                                                outputScaleSize=30,\\\n",
    "                                                inputScaleSize=30,\\\n",
    "                                                bufferSpatialSize = 30,\\\n",
    "                                                bufferTemporalSize =[\"2018-01-01\",\"2023-12-31\"],  \\\n",
    "                                                subsamplingFraction = 0.99,\\\n",
    "                                                outputFileName=datapath,\\\n",
    "                                                feature_range=[0,5])"
   ]
  },
  {
   "cell_type": "code",
   "execution_count": 18,
   "metadata": {},
   "outputs": [
    {
     "name": "stdout",
     "output_type": "stream",
     "text": [
      "STARTING LEAF IMAGE for  COPERNICUS/S2_SR_HARMONIZED\n",
      "Site:  projects/ee-modis250/assets/validationGBOV/NEON_2013-22_RMs_updated_parsed  with  14141  features.\n",
      "Output path: C:/Djamai_Najib/1_vegetation_parameters/1_scripts/LEAF-Landsat-Validation-paper/data/LS_SL2PV0_spatialbuffer45/NEON_2013-22_RMs_updated_parsed_LAI_0_5_2024_01_10_14h_01mn_51s.pkl\n",
      "Data sampeling for features: from 0 to 5\n",
      "Feature n°: 4/5  -- startDate: 2018-01-01 00:00:00 -- endDate: 2023-12-31 00:00:00\n",
      "DONE LEAF SITE\n",
      "\n"
     ]
    }
   ],
   "source": [
    "sitesDictionaryS2LAI = LEAF.sampleSites(siteList, \\\n",
    "                                                imageCollectionName='COPERNICUS/S2_SR_HARMONIZED',\\\n",
    "                                                algorithm=SL2PV0, \n",
    "                                                variableName=\"LAI\",\\\n",
    "                                                maxCloudcover=90,\\\n",
    "                                                outputScaleSize=30,\\\n",
    "                                                inputScaleSize=30,\\\n",
    "                                                bufferSpatialSize = 30,\\\n",
    "                                                bufferTemporalSize =[\"2018-01-01\",\"2023-12-31\"],  \\\n",
    "                                                subsamplingFraction = 0.99,\\\n",
    "                                                outputFileName=datapath,\\\n",
    "                                                feature_range=[0,5])"
   ]
  },
  {
   "cell_type": "markdown",
   "metadata": {},
   "source": [
    "### I"
   ]
  },
  {
   "cell_type": "markdown",
   "metadata": {},
   "source": [
    "## Visualize Results"
   ]
  },
  {
   "cell_type": "code",
   "execution_count": 21,
   "metadata": {},
   "outputs": [],
   "source": [
    "import pandas as pd\n",
    "import matplotlib.pyplot as plt"
   ]
  },
  {
   "cell_type": "code",
   "execution_count": 98,
   "metadata": {},
   "outputs": [],
   "source": [
    "def format_feature(feat):\n",
    "    D=dict()\n",
    "    for key in feat.keys():\n",
    "        cols=list(feat[key][0].keys())\n",
    "        A=[feat[key][ii][cols[0]] for ii in range(len(feat[key]))]\n",
    "        B=[feat[key][ii][cols[1]] for ii in range(len(feat[key]))]\n",
    "        for ii in range(len(feat[key])):\n",
    "            A[ii]['SL2P_estimate']=B[ii]\n",
    "        D.update({key:A}) \n",
    "    return D"
   ]
  },
  {
   "cell_type": "code",
   "execution_count": 101,
   "metadata": {},
   "outputs": [],
   "source": [
    "sitesDictionaryL08LAI=format_feature(sitesDictionaryL08LAI)"
   ]
  },
  {
   "cell_type": "code",
   "execution_count": 115,
   "metadata": {},
   "outputs": [
    {
     "data": {
      "text/plain": [
       "['projects/ee-modis250/assets/validationGBOV/NEON_2013-22_RMs_updated_parsed']"
      ]
     },
     "execution_count": 115,
     "metadata": {},
     "output_type": "execute_result"
    }
   ],
   "source": [
    "sites=list(sitesDictionaryL08LAI.keys())\n",
    "sites"
   ]
  },
  {
   "cell_type": "code",
   "execution_count": 117,
   "metadata": {},
   "outputs": [],
   "source": [
    "df0=pd.DataFrame(sitesDictionaryL08LAI[sites[0]])"
   ]
  },
  {
   "cell_type": "code",
   "execution_count": 123,
   "metadata": {},
   "outputs": [
    {
     "data": {
      "text/plain": [
       "0                  date  QC  longitude   latitude  ...\n",
       "1                  date  QC  longitude   latitude  ...\n",
       "3                  date  QC  longitude   latitude  ...\n",
       "Name: SL2P_estimate, dtype: object"
      ]
     },
     "execution_count": 123,
     "metadata": {},
     "output_type": "execute_result"
    }
   ],
   "source": [
    "vtypes=np.unique(dfout['nlcd'])\n",
    "df1=df0[df0['nlcd']==vtypes[0]]\n"
   ]
  },
  {
   "cell_type": "code",
   "execution_count": 136,
   "metadata": {},
   "outputs": [
    {
     "data": {
      "image/png": "[encoded data removed]",
      "text/plain": [
       "<Figure size 1000x700 with 1 Axes>"
      ]
     },
     "metadata": {},
     "output_type": "display_data"
    }
   ],
   "source": [
    "# Choose a site from the sitelist \n",
    "siteNum=0 \n",
    "featureNum = 0\n",
    "pixelNum=3\n",
    "\n",
    "#Extract time series of LAI with high quality only\n",
    "df=df1['SL2P_estimate'][featureNum]\n",
    "df['utc'] =  pd.to_datetime(df['date'],unit='ms')\n",
    "pixelL08V0=df.loc[(df['longitude']==df.loc[pixelNum].longitude) & (df['latitude']==df.loc[pixelNum].latitude) & (df['QC']==0)]\n",
    "\n",
    "# #Extract time series of LAI with high quality only\n",
    "# site = sitesDictionaryS2LAI[siteList[siteNum]]\n",
    "# df=site[featureNum]['SL2PV0']\n",
    "# df['utc'] =  pd.to_datetime(df['date'],unit='ms')\n",
    "# pixelS2V0=df.loc[(df['longitude']==df.loc[pixelNum].longitude) & (df['latitude']==df.loc[pixelNum].latitude) & (df['QC']==0)]\n",
    "\n",
    "fig,ax = plt.subplots(1,1,figsize=[10,7])\n",
    "plt.plot(pixelL08V0['utc'],pixelL08V0['estimateLAI'],'ob',markerfacecolor='none', label='L08V1')\n",
    "# plt.plot(pixelS2V0['utc'],pixelS2V0['estimateLAI'],'or',markerfacecolor='none', label='S28V1')\n",
    "\n",
    "ax.legend()\n",
    "ax.set_ylim([0,7])\n",
    "ax.set_xlabel('date')\n",
    "ax.set_ylabel('LAI')\n",
    "plt.xticks(rotation=90);"
   ]
  },
  {
   "cell_type": "code",
   "execution_count": 137,
   "metadata": {},
   "outputs": [
    {
     "data": {
      "text/plain": [
       "-95.19060345863528"
      ]
     },
     "execution_count": 137,
     "metadata": {},
     "output_type": "execute_result"
    }
   ],
   "source": [
    "df.loc[pixelNum].longitude"
   ]
  },
  {
   "cell_type": "code",
   "execution_count": null,
   "metadata": {},
   "outputs": [],
   "source": []
  }
 ],
 "metadata": {
  "kernelspec": {
   "display_name": "Python 3 (ipykernel)",
   "language": "python",
   "name": "python3"
  },
  "language_info": {
   "codemirror_mode": {
    "name": "ipython",
    "version": 3
   },
   "file_extension": ".py",
   "mimetype": "text/x-python",
   "name": "python",
   "nbconvert_exporter": "python",
   "pygments_lexer": "ipython3",
   "version": "3.12.0"
  }
 },
 "nbformat": 4,
 "nbformat_minor": 4
}
