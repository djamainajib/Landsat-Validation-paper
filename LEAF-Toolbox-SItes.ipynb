{
 "cells": [
  {
   "cell_type": "markdown",
   "metadata": {
    "tags": []
   },
   "source": [
    "# LEAFToolbox for Sites\n",
    "Applies the LEAF-ToolBox for mapping vegetation using satellite imagery over a list of sites, each defined using time stamped vector geographical objects.\n",
    "Cite as Fernandes, R. et al., 2021, \"LEAF Toolbox\", Canada Centre for Remote Sensing, https://github.com/rfernand387/LEAF-Toolbox/wiki, DOI: 10.5281/zenodo.4321298.\n",
    "\n",
    "\n",
    "LEAF currently supports two algorithms: \n",
    "SL2PV0 is the algorithm defined by Weiss and Baret (2016) with an update in Weiss and Baret (2020).  \n",
    "SL2PV1 defined in Fernandes et al. 2023 that attempts to correct for biases over forests observed in SL2PV1.\n",
    "\n",
    "\n",
    "Note: This is an exact copy of the Javascript version of the LEAF-ToolBox-SL2P for image by image products as implemented on December 1, 2023 17:21 EST: https://code.earthengine.google.com/8ee611fad1609740099eabbfe571189c. You will need a Google Earth Engine Account linked to a Google Account with sufficient disk space for the output.\n",
    "\n",
    "Refer to https://github.com/rfernand387/LEAF-Toolbox/tree/master/Source-Python for configuration of anaconda environment.\n",
    "\n",
    "\n",
    "Weiss, M. and Baret, F. 2016. S2ToolBox Level 2 products: LAI, FAPAR, FCOVER, 1.1. ed.\n",
    "Institut National de la Recherche Agronomique, Avignon, France. https://step.esa.\n",
    "int/docs/extra/ATBD_S2ToolBox_L2B_V1.1.pdf.\n",
    "\n",
    "Weiss, M., and Baret, F., 2020. S2ToolBox Level 2 Products: LAI, FAPAR, FCOVER, 2.0. ed.\n",
    "Institut National de la Recherche Agronomique, Avignon, France. https://step.esa.\n",
    "int/docs/extra/ATBD_S2ToolBox_L2B_V2.0.pdf.\n",
    "\n",
    "Fernandes et al., 2023. Evidence of a bias-variance tradeoff when mapping LAI over forests using Sentinel-2 imagery.  subitted to RSE>\n"
   ]
  },
  {
   "cell_type": "markdown",
   "metadata": {
    "tags": []
   },
   "source": [
    "## Setup Environment"
   ]
  },
  {
   "cell_type": "code",
   "execution_count": 1,
   "metadata": {},
   "outputs": [],
   "source": [
    "# Provide your GEE authentificaton\n",
    "import ee\n",
    "ee.Authenticate()\n",
    "ee.Initialize()"
   ]
  },
  {
   "cell_type": "code",
   "execution_count": 2,
   "metadata": {},
   "outputs": [],
   "source": [
    "# Uncomment this if you are modifying modules\n",
    "# %load_ext autoreload\n",
    "# %autoreload 2"
   ]
  },
  {
   "cell_type": "code",
   "execution_count": 3,
   "metadata": {},
   "outputs": [],
   "source": [
    "# import LEAF modules\n",
    "import LEAF_v2\n",
    "LEAF=LEAF_v2\n",
    "# import algorith definitions\n",
    "import SL2PV0 \n",
    "import SL2PV1\n"
   ]
  },
  {
   "cell_type": "code",
   "execution_count": 4,
   "metadata": {},
   "outputs": [],
   "source": [
    "#--ServerApp.iopub_data_rate_limit=3000000.0"
   ]
  },
  {
   "cell_type": "markdown",
   "metadata": {
    "tags": []
   },
   "source": [
    "## Specify Sites to Process\n",
    "\n",
    "Sites correspond to readable Google Earth Engine Feature collections under which samples will be extracted.\n",
    "If the features have time stamps as properties the sampling interval can be restricted on a feature by feature basis.\n",
    "Otherwise the sampling interval must be specified the same for all features."
   ]
  },
  {
   "cell_type": "code",
   "execution_count": 5,
   "metadata": {},
   "outputs": [],
   "source": [
    "# List of GEE feature collections\n",
    "siteList=[\"projects/ee-modis250/assets/validationGBOV/NEON_2013-22_RMs_updated_parsed\"]"
   ]
  },
  {
   "cell_type": "markdown",
   "metadata": {},
   "source": [
    "## Run LEAF "
   ]
  },
  {
   "cell_type": "markdown",
   "metadata": {},
   "source": [
    "### Sample Surface Reflectance from various sensors over sites"
   ]
  },
  {
   "cell_type": "code",
   "execution_count": 6,
   "metadata": {},
   "outputs": [],
   "source": [
    "# Landsat 9\n",
    "\n",
    "#sitesDictionaryL09SR = LEAF.sampleSites(siteList, \\\n",
    "#                                                imageCollectionName='LANDSAT/LC09/C02/T1_L2',\\\n",
    "#                                                algorithm=SL2PV0, \n",
    "#                                                variableName=\"Surface_Reflectance\",\\\n",
    "#                                                outputScaleSize=30,\\\n",
    "#                                                inputScaleSize=30,\\\n",
    "#                                                bufferSpatialSize = 0,\\\n",
    "#                                                bufferTemporalSize =[\"2021-04-01\",\"2022-10-01\"],  \\\n",
    "#                                                subsamplingFraction = 0.99) \n",
    "#                                                '''"
   ]
  },
  {
   "cell_type": "code",
   "execution_count": 7,
   "metadata": {},
   "outputs": [],
   "source": [
    "import eoImage"
   ]
  },
  {
   "cell_type": "code",
   "execution_count": 1,
   "metadata": {},
   "outputs": [],
   "source": [
    "#sitesDictionaryL08LAI = LEAF.sampleSites(siteList, \\\n",
    "#                                                imageCollectionName='LANDSAT/LC08/C02/T1_L2',\\\n",
    "#                                                algorithm=SL2PV0, \n",
    "#                                                variableName=\"fAPAR\",\\\n",
    "#                                                maxCloudcover=90,\\\n",
    "#                                                outputScaleSize=30,\\\n",
    "#                                                inputScaleSize=30,\\\n",
    "#                                                bufferSpatialSize = 0,\\\n",
    "#                                                bufferTemporalSize =[-10,10],  \\\n",
    "#                                                subsamplingFraction = 0.99)"
   ]
  },
  {
   "cell_type": "markdown",
   "metadata": {},
   "source": [
    "### I"
   ]
  },
  {
   "cell_type": "code",
   "execution_count": 9,
   "metadata": {},
   "outputs": [
    {
     "data": {
      "text/plain": [
       "<bound method DataFrame.from_dict of <class 'pandas.core.frame.DataFrame'>>"
      ]
     },
     "execution_count": 9,
     "metadata": {},
     "output_type": "execute_result"
    }
   ],
   "source": [
    "import pandas as pd\n",
    "pd.DataFrame.from_dict"
   ]
  },
  {
   "cell_type": "code",
   "execution_count": null,
   "metadata": {},
   "outputs": [],
   "source": [
    "db[idx[9]]['SL2PV0']"
   ]
  },
  {
   "cell_type": "code",
   "execution_count": null,
   "metadata": {},
   "outputs": [],
   "source": [
    "print(sitesDictionaryL08LAI['projects/ee-modis250/assets/validationCCRS/CCRSInSituLAI2021_NovaScotiav3'][0]['SL2PV0'])"
   ]
  },
  {
   "cell_type": "code",
   "execution_count": null,
   "metadata": {},
   "outputs": [],
   "source": [
    "# #Landsat 8\n",
    "sitesDictionaryL08V0 = LEAF.sampleSites(siteList, \\\n",
    "                                                 imageCollectionName='LANDSAT/LC08/C02/T1_L2',\\\n",
    "                                                 algorithm=SL2PV0, \n",
    "                                                 variableName=\"LAI\",\\\n",
    "                                                 maxCloudcover=90,\\\n",
    "                                                 outputScaleSize=30,\\\n",
    "                                                 inputScaleSize=30,\\\n",
    "                                                 bufferSpatialSize = 0,\\\n",
    "                                                 bufferTemporalSize =[\"2021-04-01\",\"2022-10-01\"],  \\\n",
    "                                                 subsamplingFraction = 0.99) \n",
    "# # Landsat 9\n",
    "sitesDictionaryL09V0 = LEAF.sampleSites(siteList, \\\n",
    "                                                 imageCollectionName='LANDSAT/LC09/C02/T1_L2',\\\n",
    "                                                 algorithm=SL2PV0, \n",
    "                                                 variableName=\"LAI\",\\\n",
    "                                                 maxCloudcover=90,\\\n",
    "                                                 outputScaleSize=30,\\\n",
    "                                                 inputScaleSize=30,\\\n",
    "                                                 bufferSpatialSize = 0,\\\n",
    "                                                 bufferTemporalSize =[\"2021-04-01\",\"2022-10-01\"],  \\\n",
    "                                                 subsamplingFraction = 0.99)  \n",
    "\n",
    "#HLS\n",
    "sitesDictionaryHLSV0 = LEAF.sampleSites(siteList, \\\n",
    "                                                imageCollectionName=\"NASA/HLS/HLSL30/v002\",\\\n",
    "                                                algorithm=SL2PV0, \n",
    "                                                variableName=\"LAI\",\\\n",
    "                                                maxCloudcover=90,\\\n",
    "                                                outputScaleSize=30,\\\n",
    "                                                inputScaleSize=30,\\\n",
    "                                                bufferSpatialSize = 0,\\\n",
    "                                                bufferTemporalSize =[\"2021-04-01\",\"2022-10-01\"],  \\\n",
    "                                                subsamplingFraction = 0.99)         \n",
    "\n",
    "# S2\n",
    "sitesDictionaryS2V0 = LEAF.sampleSites(siteList, \\\n",
    "                                                imageCollectionName=\"COPERNICUS/S2_SR_HARMONIZED\",\\\n",
    "                                                algorithm=SL2PV0, \n",
    "                                                variableName=\"LAI\",\\\n",
    "                                                maxCloudcover=90,\\\n",
    "                                                outputScaleSize=20,\\\n",
    "                                                inputScaleSize=20,\\\n",
    "                                                bufferSpatialSize = 0,\\\n",
    "                                                bufferTemporalSize =[\"2021-04-01\",\"2022-10-01\"],  \\\n",
    "                                                subsamplingFraction = 0.99)        "
   ]
  },
  {
   "cell_type": "markdown",
   "metadata": {},
   "source": [
    "## Visualize Results"
   ]
  },
  {
   "cell_type": "code",
   "execution_count": null,
   "metadata": {},
   "outputs": [],
   "source": [
    "import pandas as pd\n",
    "import matplotlib.pyplot as plt"
   ]
  },
  {
   "cell_type": "code",
   "execution_count": null,
   "metadata": {},
   "outputs": [],
   "source": [
    "# Choose a site from the sitelist \n",
    "siteNum=0\n",
    "\n",
    "# Select the first feature \n",
    "featureNum = 0\n",
    "\n",
    "#Select one sampled pixel from each feature \n",
    "pixelNum = 3\n",
    "\n",
    "#Extract time series of LAI with high quality only\n",
    "site = sitesDictionaryL08V0[siteList[siteNum]]\n",
    "df=site[featureNum]['SL2PV0']\n",
    "df['utc'] =  pd.to_datetime(df['date'],unit='ms')\n",
    "pixelL08V0=df.loc[(df['longitude']==df.loc[pixelNum].longitude) & (df['latitude']==df.loc[pixelNum].latitude) & (df['QC']==0)]\n",
    "\n",
    "site=sitesDictionaryL09V0[siteList[siteNum]]\n",
    "df=site[featureNum]['SL2PV0']\n",
    "df['utc'] =  pd.to_datetime(df['date'],unit='ms')\n",
    "pixelL09V0=df.loc[(df['longitude']==df.loc[pixelNum].longitude) & (df['latitude']==df.loc[pixelNum].latitude) & df['QC']==0]\n",
    "\n",
    "site=sitesDictionaryHLSV0[siteList[siteNum]]\n",
    "df=site[featureNum]['SL2PV0']\n",
    "df['utc'] =  pd.to_datetime(df['date'],unit='ms')\n",
    "pixelHLSV0=df.loc[(df['longitude']==df.loc[pixelNum].longitude) & (df['latitude']==df.loc[pixelNum].latitude) & df['QC']==0]\n",
    "\n",
    "site=sitesDictionaryS2V0[siteList[siteNum]]\n",
    "df=site[featureNum]['SL2PV0']\n",
    "df['utc'] =  pd.to_datetime(df['date'],unit='ms')\n",
    "pixelS2V0=df.loc[(df['longitude']==df.loc[pixelNum].longitude) & (df['latitude']==df.loc[pixelNum].latitude) & df['QC']==0]\n",
    "\n",
    "fig,ax = plt.subplots(1,1,figsize=[10,10])\n",
    "plt.plot(pixelL08V0['utc'],pixelL08V0['estimateLAI'],'ob',markerfacecolor='none', label='L08V1')\n",
    "plt.plot(pixelL09V0['utc'],pixelL09V0['estimateLAI'],'ok',markerfacecolor='none', label='L09V1')\n",
    "plt.plot(pixelHLSV0['utc'],pixelHLSV0['estimateLAI'],'oc',markerfacecolor='none', label='HLSV1')\n",
    "plt.plot(pixelS2V0['utc'],pixelS2V0['estimateLAI'],'or',markerfacecolor='none',label='S2V1')\n",
    "\n",
    "ax.legend()\n",
    "ax.set_xlabel('date')\n",
    "ax.set_ylabel('LAI')\n",
    "plt.xticks(rotation=90);"
   ]
  },
  {
   "cell_type": "code",
   "execution_count": null,
   "metadata": {},
   "outputs": [],
   "source": []
  },
  {
   "cell_type": "code",
   "execution_count": 23,
   "metadata": {},
   "outputs": [
    {
     "data": {
      "text/plain": [
       "{'type': 'FeatureCollection',\n",
       " 'columns': {'key': 'String', 'system:index': 'String'},\n",
       " 'features': [{'type': 'Feature',\n",
       "   'geometry': {'type': 'Point', 'coordinates': [-62.54, -27.32]},\n",
       "   'id': '0',\n",
       "   'properties': {'key': 'val1'}},\n",
       "  {'type': 'Feature',\n",
       "   'geometry': {'type': 'Point', 'coordinates': [-69.18, -10.64]},\n",
       "   'id': '1',\n",
       "   'properties': {'key': 'val2'}},\n",
       "  {'type': 'Feature',\n",
       "   'geometry': {'type': 'Point', 'coordinates': [-45.98, -18.09]},\n",
       "   'id': '2',\n",
       "   'properties': {'key': 'val3'}}]}"
      ]
     },
     "execution_count": 23,
     "metadata": {},
     "output_type": "execute_result"
    }
   ],
   "source": []
  },
  {
   "cell_type": "code",
   "execution_count": 28,
   "metadata": {},
   "outputs": [
    {
     "name": "stdout",
     "output_type": "stream",
     "text": [
      "['date_range', 'product_tags', 'period', 'provider', 'system:version', 'description', 'source_tags', 'system:id', 'provider_url', 'title', 'tags', 'system:asset_size']\n",
      "World Resources Institute\n",
      "World Resources Institute\n"
     ]
    }
   ],
   "source": [
    "fc = ee.FeatureCollection('WRI/GPPD/power_plants')\n",
    "print(fc.propertyNames().getInfo())\n",
    "print(fc.get('provider').getInfo())\n",
    "print(ee.String(fc.get('provider')).getInfo())"
   ]
  },
  {
   "cell_type": "code",
   "execution_count": null,
   "metadata": {},
   "outputs": [],
   "source": []
  }
 ],
 "metadata": {
  "kernelspec": {
   "display_name": "Python 3 (ipykernel)",
   "language": "python",
   "name": "python3"
  },
  "language_info": {
   "codemirror_mode": {
    "name": "ipython",
    "version": 3
   },
   "file_extension": ".py",
   "mimetype": "text/x-python",
   "name": "python",
   "nbconvert_exporter": "python",
   "pygments_lexer": "ipython3",
   "version": "3.12.0"
  }
 },
 "nbformat": 4,
 "nbformat_minor": 4
}
