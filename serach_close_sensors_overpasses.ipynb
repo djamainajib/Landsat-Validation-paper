{
 "cells": [
  {
   "cell_type": "code",
   "execution_count": 1,
   "id": "a864b740-a3f2-40de-bee9-c419517b2786",
   "metadata": {},
   "outputs": [],
   "source": [
    "import ee\n",
    "ee.Authenticate()\n",
    "ee.Initialize()"
   ]
  },
  {
   "cell_type": "code",
   "execution_count": 2,
   "id": "1dbfcd55-a5f7-44d9-bc69-7cbddb23a375",
   "metadata": {},
   "outputs": [],
   "source": [
    "import SL2PV0 \n",
    "from datetime import datetime\n",
    "import dictionariesSL2P \n",
    "import eoImage\n",
    "import pandas as pd\n",
    "import numpy as np"
   ]
  },
  {
   "cell_type": "code",
   "execution_count": 3,
   "id": "9ab23bdd-4ea5-4469-a216-cebaed7d450b",
   "metadata": {},
   "outputs": [],
   "source": [
    "def search_overpass_dates (imageCollectionName,algorithm,mapBounds,startDate,endDate,outputScaleSize=20,factor=1):\n",
    "    colOptions = (dictionariesSL2P.make_collection_options(algorithm))[imageCollectionName]\n",
    "    tools = colOptions['tools']\n",
    "    productCollection =  ee.ImageCollection(colOptions['name']) \\\n",
    "                          .filterBounds(mapBounds) \\\n",
    "                          .filterDate(startDate, endDate) \\\n",
    "                          .filterMetadata(colOptions[\"Cloudcover\"],'less_than',maxCloudcover) \\\n",
    "                          .limit(5000) \\\n",
    "                          .map(lambda image: image.clip(mapBounds)) \\\n",
    "                          .map(lambda image: tools.MaskClear(image))  \\\n",
    "                          .map(lambda image: eoImage.attach_Date(image)) \\\n",
    "                          .map(lambda image: eoImage.attach_LonLat(image)) \\\n",
    "                          .map(lambda image: tools.addGeometry(colOptions,image)) \n",
    "    \n",
    "    productCollection = ee.ImageCollection(productCollection)\n",
    "    outputScaleSize= ee.Number(outputScaleSize)\n",
    "    sampleData = productCollection.map(lambda image: image.sample(region=mapBounds, projection=image.select('date').projection(), scale=outputScaleSize,geometries=True, dropNulls = True, factor=factor) ).flatten()\n",
    "    sampleList=sampleData.getInfo()['features']\n",
    "    sampleDF = pd.DataFrame(columns=['lon','lat','id','date'])\n",
    "    for col in sampleList:\n",
    "        sampleDF.loc[len(sampleDF)] = [col['geometry']['coordinates'][0],col['geometry']['coordinates'][1],col['id'],col['properties']['date']]\n",
    "    sampleDF['date'] = pd.to_datetime(sampleDF['date'],unit='ms').dt.date \n",
    "    sampleDF['Collection']=imageCollectionName\n",
    "    return (sampleDF)    "
   ]
  },
  {
   "cell_type": "code",
   "execution_count": 5,
   "id": "9e80ec90-e367-4add-a117-1d249ffba8b0",
   "metadata": {},
   "outputs": [],
   "source": [
    "imageCollectionName='COPERNICUS/S2_SR_HARMONIZED'\n",
    "algorithm=SL2PV0"
   ]
  },
  {
   "cell_type": "code",
   "execution_count": 11,
   "id": "c8f1e930-f06f-4178-9bb5-eb6bf50b3292",
   "metadata": {},
   "outputs": [],
   "source": [
    "colOptions = (dictionariesSL2P.make_collection_options(algorithm))[imageCollectionName]"
   ]
  },
  {
   "cell_type": "code",
   "execution_count": 14,
   "id": "6db4861b-3eb2-4a2e-bc62-6eddc8e044b2",
   "metadata": {},
   "outputs": [
    {
     "data": {
      "text/plain": [
       "'CLOUDY_PIXEL_PERCENTAGE'"
      ]
     },
     "execution_count": 14,
     "metadata": {},
     "output_type": "execute_result"
    }
   ],
   "source": [
    "colOptions[\"Cloudcover\"]"
   ]
  },
  {
   "cell_type": "markdown",
   "id": "ee864078-055f-452d-b5ab-655cc4d37a9d",
   "metadata": {},
   "source": [
    "### 1 - Specifty point / area od interrest"
   ]
  },
  {
   "cell_type": "markdown",
   "id": "1b84db7c-7123-4800-92c0-16e75ae75c22",
   "metadata": {},
   "source": [
    "##### a. Define parameters"
   ]
  },
  {
   "cell_type": "code",
   "execution_count": 172,
   "id": "f9175003-9149-4d31-8f1a-e1cf92221973",
   "metadata": {},
   "outputs": [],
   "source": [
    "mapBounds = ee.Geometry.Point([-122.08412, 37.42189])  # defaukt EPSG:4326\n",
    "# mapBounds = ee.Geometry.Polygon([[-122.086, 37.418], [-122.086, 37.419], [-122.085, 37.419], [-122.085, 37.418]])\n",
    "bufferTemporalSize=['2020-01-01','2020-12-30']\n",
    "maxCloudcover=90\n",
    "imageCollectionName_1='COPERNICUS/S2_SR_HARMONIZED'\n",
    "imageCollectionName_2='LANDSAT/LC08/C02/T1_L2'\n",
    "detla_max=1 # the maximum period (in days) between pverpasses to be considered"
   ]
  },
  {
   "cell_type": "markdown",
   "id": "de63af37-d2ee-47be-a0c9-4ed6c4a665c6",
   "metadata": {},
   "source": [
    "##### b. Processing"
   ]
  },
  {
   "cell_type": "code",
   "execution_count": 174,
   "id": "49001169-4acb-478a-985b-ed3f7cd6259f",
   "metadata": {},
   "outputs": [],
   "source": [
    "startDate = datetime.strptime(bufferTemporalSize[0],\"%Y-%m-%d\")\n",
    "endDate =  datetime.strptime(bufferTemporalSize[1],\"%Y-%m-%d\")\n",
    "df1=search_overpass_dates (imageCollectionName_1,SL2PV0,mapBounds,startDate,endDate)\n",
    "df2=search_overpass_dates (imageCollectionName_2,SL2PV0,mapBounds,startDate,endDate)"
   ]
  },
  {
   "cell_type": "code",
   "execution_count": 175,
   "id": "109eb032-3123-4c67-a732-27c1bc83baaf",
   "metadata": {},
   "outputs": [],
   "source": [
    "sampleDF = pd.DataFrame()\n",
    "for index, row in df1.iterrows():\n",
    "    idx=np.argmin(np.abs(df2['date']-row['date']))\n",
    "    if (np.abs(df2['date'][idx]-row['date'])).days<=detla_max: \n",
    "        aux=pd.concat([row.add_suffix('_1'), df2.loc[idx,:].add_suffix('_2')], axis=0)\n",
    "        aux=np.transpose(aux.to_frame())\n",
    "        sampleDF=pd.concat([sampleDF,aux])\n",
    "sampleDF=sampleDF.reset_index()"
   ]
  },
  {
   "cell_type": "markdown",
   "id": "921c4833-eda8-4420-9af7-db6efc74a65f",
   "metadata": {},
   "source": [
    "##### c. Exporting"
   ]
  },
  {
   "cell_type": "code",
   "execution_count": 176,
   "id": "b84916c8-7bf9-4c0c-b81c-855eaeb6bcb2",
   "metadata": {},
   "outputs": [
    {
     "data": {
      "text/html": [
       "<div>\n",
       "<style scoped>\n",
       "    .dataframe tbody tr th:only-of-type {\n",
       "        vertical-align: middle;\n",
       "    }\n",
       "\n",
       "    .dataframe tbody tr th {\n",
       "        vertical-align: top;\n",
       "    }\n",
       "\n",
       "    .dataframe thead th {\n",
       "        text-align: right;\n",
       "    }\n",
       "</style>\n",
       "<table border=\"1\" class=\"dataframe\">\n",
       "  <thead>\n",
       "    <tr style=\"text-align: right;\">\n",
       "      <th></th>\n",
       "      <th>index</th>\n",
       "      <th>lon_1</th>\n",
       "      <th>lat_1</th>\n",
       "      <th>id_1</th>\n",
       "      <th>date_1</th>\n",
       "      <th>Collection_1</th>\n",
       "      <th>lon_2</th>\n",
       "      <th>lat_2</th>\n",
       "      <th>id_2</th>\n",
       "      <th>date_2</th>\n",
       "      <th>Collection_2</th>\n",
       "    </tr>\n",
       "  </thead>\n",
       "  <tbody>\n",
       "    <tr>\n",
       "      <th>0</th>\n",
       "      <td>0</td>\n",
       "      <td>-122.084191</td>\n",
       "      <td>37.421928</td>\n",
       "      <td>20200504T184921_20200504T185732_T10SEG_0</td>\n",
       "      <td>2020-05-04</td>\n",
       "      <td>COPERNICUS/S2_SR_HARMONIZED</td>\n",
       "      <td>-122.084191</td>\n",
       "      <td>37.421928</td>\n",
       "      <td>LC08_044034_20200505_0</td>\n",
       "      <td>2020-05-05</td>\n",
       "      <td>LANDSAT/LC08/C02/T1_L2</td>\n",
       "    </tr>\n",
       "    <tr>\n",
       "      <th>1</th>\n",
       "      <td>0</td>\n",
       "      <td>-122.084191</td>\n",
       "      <td>37.421928</td>\n",
       "      <td>20200623T184921_20200623T185629_T10SEG_0</td>\n",
       "      <td>2020-06-23</td>\n",
       "      <td>COPERNICUS/S2_SR_HARMONIZED</td>\n",
       "      <td>-122.084191</td>\n",
       "      <td>37.421928</td>\n",
       "      <td>LC08_044034_20200622_0</td>\n",
       "      <td>2020-06-22</td>\n",
       "      <td>LANDSAT/LC08/C02/T1_L2</td>\n",
       "    </tr>\n",
       "    <tr>\n",
       "      <th>2</th>\n",
       "      <td>0</td>\n",
       "      <td>-122.084191</td>\n",
       "      <td>37.421928</td>\n",
       "      <td>20200708T184919_20200708T185408_T10SEG_0</td>\n",
       "      <td>2020-07-08</td>\n",
       "      <td>COPERNICUS/S2_SR_HARMONIZED</td>\n",
       "      <td>-122.084191</td>\n",
       "      <td>37.421928</td>\n",
       "      <td>LC08_044034_20200708_0</td>\n",
       "      <td>2020-07-08</td>\n",
       "      <td>LANDSAT/LC08/C02/T1_L2</td>\n",
       "    </tr>\n",
       "    <tr>\n",
       "      <th>3</th>\n",
       "      <td>0</td>\n",
       "      <td>-122.084191</td>\n",
       "      <td>37.421928</td>\n",
       "      <td>20200723T184921_20200723T185433_T10SEG_0</td>\n",
       "      <td>2020-07-23</td>\n",
       "      <td>COPERNICUS/S2_SR_HARMONIZED</td>\n",
       "      <td>-122.084191</td>\n",
       "      <td>37.421928</td>\n",
       "      <td>LC08_044034_20200724_0</td>\n",
       "      <td>2020-07-24</td>\n",
       "      <td>LANDSAT/LC08/C02/T1_L2</td>\n",
       "    </tr>\n",
       "    <tr>\n",
       "      <th>4</th>\n",
       "      <td>0</td>\n",
       "      <td>-122.084191</td>\n",
       "      <td>37.421928</td>\n",
       "      <td>20200926T185049_20200926T185217_T10SEG_0</td>\n",
       "      <td>2020-09-26</td>\n",
       "      <td>COPERNICUS/S2_SR_HARMONIZED</td>\n",
       "      <td>-122.084191</td>\n",
       "      <td>37.421928</td>\n",
       "      <td>LC08_044034_20200926_0</td>\n",
       "      <td>2020-09-26</td>\n",
       "      <td>LANDSAT/LC08/C02/T1_L2</td>\n",
       "    </tr>\n",
       "    <tr>\n",
       "      <th>5</th>\n",
       "      <td>0</td>\n",
       "      <td>-122.084191</td>\n",
       "      <td>37.421928</td>\n",
       "      <td>20201011T185321_20201011T190243_T10SEG_0</td>\n",
       "      <td>2020-10-11</td>\n",
       "      <td>COPERNICUS/S2_SR_HARMONIZED</td>\n",
       "      <td>-122.084191</td>\n",
       "      <td>37.421928</td>\n",
       "      <td>LC08_044034_20201012_0</td>\n",
       "      <td>2020-10-12</td>\n",
       "      <td>LANDSAT/LC08/C02/T1_L2</td>\n",
       "    </tr>\n",
       "    <tr>\n",
       "      <th>6</th>\n",
       "      <td>0</td>\n",
       "      <td>-122.084191</td>\n",
       "      <td>37.421928</td>\n",
       "      <td>20201130T185741_20201130T185958_T10SEG_0</td>\n",
       "      <td>2020-11-30</td>\n",
       "      <td>COPERNICUS/S2_SR_HARMONIZED</td>\n",
       "      <td>-122.084191</td>\n",
       "      <td>37.421928</td>\n",
       "      <td>LC08_044034_20201129_0</td>\n",
       "      <td>2020-11-29</td>\n",
       "      <td>LANDSAT/LC08/C02/T1_L2</td>\n",
       "    </tr>\n",
       "  </tbody>\n",
       "</table>\n",
       "</div>"
      ],
      "text/plain": [
       "   index       lon_1      lat_1                                      id_1  \\\n",
       "0      0 -122.084191  37.421928  20200504T184921_20200504T185732_T10SEG_0   \n",
       "1      0 -122.084191  37.421928  20200623T184921_20200623T185629_T10SEG_0   \n",
       "2      0 -122.084191  37.421928  20200708T184919_20200708T185408_T10SEG_0   \n",
       "3      0 -122.084191  37.421928  20200723T184921_20200723T185433_T10SEG_0   \n",
       "4      0 -122.084191  37.421928  20200926T185049_20200926T185217_T10SEG_0   \n",
       "5      0 -122.084191  37.421928  20201011T185321_20201011T190243_T10SEG_0   \n",
       "6      0 -122.084191  37.421928  20201130T185741_20201130T185958_T10SEG_0   \n",
       "\n",
       "       date_1                 Collection_1       lon_2      lat_2  \\\n",
       "0  2020-05-04  COPERNICUS/S2_SR_HARMONIZED -122.084191  37.421928   \n",
       "1  2020-06-23  COPERNICUS/S2_SR_HARMONIZED -122.084191  37.421928   \n",
       "2  2020-07-08  COPERNICUS/S2_SR_HARMONIZED -122.084191  37.421928   \n",
       "3  2020-07-23  COPERNICUS/S2_SR_HARMONIZED -122.084191  37.421928   \n",
       "4  2020-09-26  COPERNICUS/S2_SR_HARMONIZED -122.084191  37.421928   \n",
       "5  2020-10-11  COPERNICUS/S2_SR_HARMONIZED -122.084191  37.421928   \n",
       "6  2020-11-30  COPERNICUS/S2_SR_HARMONIZED -122.084191  37.421928   \n",
       "\n",
       "                     id_2      date_2            Collection_2  \n",
       "0  LC08_044034_20200505_0  2020-05-05  LANDSAT/LC08/C02/T1_L2  \n",
       "1  LC08_044034_20200622_0  2020-06-22  LANDSAT/LC08/C02/T1_L2  \n",
       "2  LC08_044034_20200708_0  2020-07-08  LANDSAT/LC08/C02/T1_L2  \n",
       "3  LC08_044034_20200724_0  2020-07-24  LANDSAT/LC08/C02/T1_L2  \n",
       "4  LC08_044034_20200926_0  2020-09-26  LANDSAT/LC08/C02/T1_L2  \n",
       "5  LC08_044034_20201012_0  2020-10-12  LANDSAT/LC08/C02/T1_L2  \n",
       "6  LC08_044034_20201129_0  2020-11-29  LANDSAT/LC08/C02/T1_L2  "
      ]
     },
     "execution_count": 176,
     "metadata": {},
     "output_type": "execute_result"
    }
   ],
   "source": [
    "sampleDF"
   ]
  },
  {
   "cell_type": "code",
   "execution_count": null,
   "id": "7825c0b8-dc22-4f83-b9db-e108e733ed17",
   "metadata": {},
   "outputs": [],
   "source": []
  }
 ],
 "metadata": {
  "kernelspec": {
   "display_name": "Python 3 (ipykernel)",
   "language": "python",
   "name": "python3"
  },
  "language_info": {
   "codemirror_mode": {
    "name": "ipython",
    "version": 3
   },
   "file_extension": ".py",
   "mimetype": "text/x-python",
   "name": "python",
   "nbconvert_exporter": "python",
   "pygments_lexer": "ipython3",
   "version": "3.12.0"
  }
 },
 "nbformat": 4,
 "nbformat_minor": 5
}
