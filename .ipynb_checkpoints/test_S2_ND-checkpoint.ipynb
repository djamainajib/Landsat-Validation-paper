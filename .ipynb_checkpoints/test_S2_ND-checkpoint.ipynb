{
 "cells": [
  {
   "cell_type": "code",
   "execution_count": 43,
   "id": "ba6303ab-db2a-4454-a48a-504ee2904046",
   "metadata": {},
   "outputs": [],
   "source": [
    "import ee\n",
    "ee.Authenticate()\n",
    "ee.Initialize()"
   ]
  },
  {
   "cell_type": "code",
   "execution_count": 133,
   "id": "516527f7-1a96-48c1-8008-d51175266f11",
   "metadata": {},
   "outputs": [],
   "source": [
    "import pandas as pd\n",
    "#import geemap"
   ]
  },
  {
   "cell_type": "code",
   "execution_count": 84,
   "id": "08094977-5634-4055-96f6-80ccbea60f00",
   "metadata": {},
   "outputs": [],
   "source": [
    "scale=5"
   ]
  },
  {
   "cell_type": "code",
   "execution_count": 85,
   "id": "18520ccd-df94-4312-9300-164d4084a68f",
   "metadata": {},
   "outputs": [],
   "source": [
    "#period of interrest\n",
    "i_date = '2017-01-01'\n",
    "f_date = '2020-01-01'"
   ]
  },
  {
   "cell_type": "code",
   "execution_count": 86,
   "id": "794a2b7f-ab82-45b0-be1e-1049541225ff",
   "metadata": {},
   "outputs": [],
   "source": [
    "# AOI\n",
    "u_lon = 4.8148\n",
    "u_lat = 45.7758\n",
    "u_poi = ee.Geometry.Point(u_lon, u_lat)"
   ]
  },
  {
   "cell_type": "code",
   "execution_count": 87,
   "id": "064cb945-20f4-402c-a6be-bb3eac60831c",
   "metadata": {},
   "outputs": [],
   "source": [
    "s2 = ee.ImageCollection('COPERNICUS/S2_SR')"
   ]
  },
  {
   "cell_type": "code",
   "execution_count": 101,
   "id": "2b7e37f4-46b4-4720-98e6-a2a56f370f28",
   "metadata": {},
   "outputs": [],
   "source": [
    "B2 = s2.select('B2','B3').filterDate(i_date, f_date)"
   ]
  },
  {
   "cell_type": "code",
   "execution_count": 104,
   "id": "14fae081-a35b-4a3b-b9ab-868b5dd7aed9",
   "metadata": {},
   "outputs": [],
   "source": [
    "B2_1 = B2.getRegion(u_poi, scale).getInfo()\n"
   ]
  },
  {
   "cell_type": "code",
   "execution_count": 106,
   "id": "949cf091-c5e7-4ee6-8f0d-6781a0b0a018",
   "metadata": {},
   "outputs": [
    {
     "data": {
      "text/plain": [
       "{'type': 'Feature',\n",
       " 'geometry': None,\n",
       " 'id': '0',\n",
       " 'properties': {'B2': 3722.5176470588235, 'B3': 3574.241176470588}}"
      ]
     },
     "execution_count": 106,
     "metadata": {},
     "output_type": "execute_result"
    }
   ],
   "source": [
    "B2_2 = B2.mean().sample(u_poi, scale).first().getInfo()\n",
    "B2_2"
   ]
  },
  {
   "cell_type": "code",
   "execution_count": 107,
   "id": "0e46b493-b937-420c-b2f7-e58aa13c7b68",
   "metadata": {},
   "outputs": [
    {
     "data": {
      "text/plain": [
       "{'type': 'FeatureCollection',\n",
       " 'columns': {'B2': 'Float<0.0, 65535.0>', 'B3': 'Float<0.0, 65535.0>'},\n",
       " 'properties': {'band_order': ['B2', 'B3']},\n",
       " 'features': [{'type': 'Feature',\n",
       "   'geometry': None,\n",
       "   'id': '0',\n",
       "   'properties': {'B2': 3722.5176470588235, 'B3': 3574.241176470588}}]}"
      ]
     },
     "execution_count": 107,
     "metadata": {},
     "output_type": "execute_result"
    }
   ],
   "source": [
    "B2_3 = B2.mean().sample(u_poi, scale).getInfo()\n",
    "B2_3"
   ]
  },
  {
   "cell_type": "code",
   "execution_count": 94,
   "id": "7fa82588-3671-4a62-8f25-2b3ca28108d8",
   "metadata": {},
   "outputs": [
    {
     "data": {
      "text/html": [
       "<div>\n",
       "<style scoped>\n",
       "    .dataframe tbody tr th:only-of-type {\n",
       "        vertical-align: middle;\n",
       "    }\n",
       "\n",
       "    .dataframe tbody tr th {\n",
       "        vertical-align: top;\n",
       "    }\n",
       "\n",
       "    .dataframe thead th {\n",
       "        text-align: right;\n",
       "    }\n",
       "</style>\n",
       "<table border=\"1\" class=\"dataframe\">\n",
       "  <thead>\n",
       "    <tr style=\"text-align: right;\">\n",
       "      <th></th>\n",
       "      <th>id</th>\n",
       "      <th>longitude</th>\n",
       "      <th>latitude</th>\n",
       "      <th>time</th>\n",
       "      <th>B2</th>\n",
       "    </tr>\n",
       "  </thead>\n",
       "  <tbody>\n",
       "    <tr>\n",
       "      <th>0</th>\n",
       "      <td>20170403T104021_20170403T104138_T31TFL</td>\n",
       "      <td>4.814813</td>\n",
       "      <td>45.775789</td>\n",
       "      <td>1491216098834</td>\n",
       "      <td>373</td>\n",
       "    </tr>\n",
       "    <tr>\n",
       "      <th>1</th>\n",
       "      <td>20170503T104021_20170503T104024_T31TFL</td>\n",
       "      <td>4.814813</td>\n",
       "      <td>45.775789</td>\n",
       "      <td>1493808024458</td>\n",
       "      <td>8867</td>\n",
       "    </tr>\n",
       "    <tr>\n",
       "      <th>2</th>\n",
       "      <td>20170513T104031_20170513T104249_T31TFL</td>\n",
       "      <td>4.814813</td>\n",
       "      <td>45.775789</td>\n",
       "      <td>1494672169773</td>\n",
       "      <td>13458</td>\n",
       "    </tr>\n",
       "    <tr>\n",
       "      <th>3</th>\n",
       "      <td>20170523T104031_20170523T104025_T31TFL</td>\n",
       "      <td>4.814813</td>\n",
       "      <td>45.775789</td>\n",
       "      <td>1495536025461</td>\n",
       "      <td>3904</td>\n",
       "    </tr>\n",
       "    <tr>\n",
       "      <th>4</th>\n",
       "      <td>20170602T104021_20170602T104212_T31TFL</td>\n",
       "      <td>4.814813</td>\n",
       "      <td>45.775789</td>\n",
       "      <td>1496400132697</td>\n",
       "      <td>60</td>\n",
       "    </tr>\n",
       "    <tr>\n",
       "      <th>...</th>\n",
       "      <td>...</td>\n",
       "      <td>...</td>\n",
       "      <td>...</td>\n",
       "      <td>...</td>\n",
       "      <td>...</td>\n",
       "    </tr>\n",
       "    <tr>\n",
       "      <th>165</th>\n",
       "      <td>20191209T104431_20191209T104427_T31TFL</td>\n",
       "      <td>4.814813</td>\n",
       "      <td>45.775789</td>\n",
       "      <td>1575888498534</td>\n",
       "      <td>1802</td>\n",
       "    </tr>\n",
       "    <tr>\n",
       "      <th>166</th>\n",
       "      <td>20191214T104339_20191214T104338_T31TFL</td>\n",
       "      <td>4.814813</td>\n",
       "      <td>45.775789</td>\n",
       "      <td>1576320496359</td>\n",
       "      <td>6792</td>\n",
       "    </tr>\n",
       "    <tr>\n",
       "      <th>167</th>\n",
       "      <td>20191219T104441_20191219T104438_T31TFL</td>\n",
       "      <td>4.814813</td>\n",
       "      <td>45.775789</td>\n",
       "      <td>1576752495707</td>\n",
       "      <td>121</td>\n",
       "    </tr>\n",
       "    <tr>\n",
       "      <th>168</th>\n",
       "      <td>20191224T104349_20191224T104343_T31TFL</td>\n",
       "      <td>4.814813</td>\n",
       "      <td>45.775789</td>\n",
       "      <td>1577184496845</td>\n",
       "      <td>2974</td>\n",
       "    </tr>\n",
       "    <tr>\n",
       "      <th>169</th>\n",
       "      <td>20191229T104441_20191229T104436_T31TFL</td>\n",
       "      <td>4.814813</td>\n",
       "      <td>45.775789</td>\n",
       "      <td>1577616496466</td>\n",
       "      <td>5020</td>\n",
       "    </tr>\n",
       "  </tbody>\n",
       "</table>\n",
       "<p>170 rows × 5 columns</p>\n",
       "</div>"
      ],
      "text/plain": [
       "                                         id  longitude   latitude  \\\n",
       "0    20170403T104021_20170403T104138_T31TFL   4.814813  45.775789   \n",
       "1    20170503T104021_20170503T104024_T31TFL   4.814813  45.775789   \n",
       "2    20170513T104031_20170513T104249_T31TFL   4.814813  45.775789   \n",
       "3    20170523T104031_20170523T104025_T31TFL   4.814813  45.775789   \n",
       "4    20170602T104021_20170602T104212_T31TFL   4.814813  45.775789   \n",
       "..                                      ...        ...        ...   \n",
       "165  20191209T104431_20191209T104427_T31TFL   4.814813  45.775789   \n",
       "166  20191214T104339_20191214T104338_T31TFL   4.814813  45.775789   \n",
       "167  20191219T104441_20191219T104438_T31TFL   4.814813  45.775789   \n",
       "168  20191224T104349_20191224T104343_T31TFL   4.814813  45.775789   \n",
       "169  20191229T104441_20191229T104436_T31TFL   4.814813  45.775789   \n",
       "\n",
       "              time     B2  \n",
       "0    1491216098834    373  \n",
       "1    1493808024458   8867  \n",
       "2    1494672169773  13458  \n",
       "3    1495536025461   3904  \n",
       "4    1496400132697     60  \n",
       "..             ...    ...  \n",
       "165  1575888498534   1802  \n",
       "166  1576320496359   6792  \n",
       "167  1576752495707    121  \n",
       "168  1577184496845   2974  \n",
       "169  1577616496466   5020  \n",
       "\n",
       "[170 rows x 5 columns]"
      ]
     },
     "execution_count": 94,
     "metadata": {},
     "output_type": "execute_result"
    }
   ],
   "source": [
    "df=pd.DataFrame(data=B2_1[1:],columns=B2_1[0])\n",
    "df"
   ]
  },
  {
   "cell_type": "code",
   "execution_count": null,
   "id": "bad94c49-d2f4-49b1-b7c5-29d21e03c835",
   "metadata": {},
   "outputs": [],
   "source": [
    "Map.addLayer(firstImage, {bands:['B5','B4','B3']}, \"patan\")"
   ]
  },
  {
   "cell_type": "code",
   "execution_count": 115,
   "id": "7c348be4-93a2-437b-84d9-d55cc661bcc1",
   "metadata": {},
   "outputs": [],
   "source": [
    "RGB = s2.select('B2','B3','B4').filterDate(i_date, f_date).median()"
   ]
  },
  {
   "cell_type": "code",
   "execution_count": null,
   "id": "59797d62-ce15-4947-9d0f-3babde863c75",
   "metadata": {},
   "outputs": [],
   "source": [
    "bandNames = RGB.bandNames()\n",
    "print('Band names: ', bandNames.getInfo())"
   ]
  },
  {
   "cell_type": "code",
   "execution_count": 141,
   "id": "f6f30a6c-90b7-4991-b9a2-c6b643d0b4bd",
   "metadata": {},
   "outputs": [
    {
     "data": {
      "text/plain": [
       "<ee.Projection at 0x1dbade53050>"
      ]
     },
     "metadata": {},
     "output_type": "display_data"
    }
   ],
   "source": [
    "display(RGB.projection())"
   ]
  },
  {
   "cell_type": "code",
   "execution_count": 137,
   "id": "300d418b-9c64-42cc-88eb-01a1e576359a",
   "metadata": {},
   "outputs": [
    {
     "data": {
      "text/plain": [
       "'All metadata:'"
      ]
     },
     "metadata": {},
     "output_type": "display_data"
    },
    {
     "data": {
      "text/plain": [
       "<ee.imagecollection.ImageCollection at 0x1dbaff274d0>"
      ]
     },
     "metadata": {},
     "output_type": "display_data"
    }
   ],
   "source": [
    "display('All metadata:', s2)"
   ]
  },
  {
   "cell_type": "code",
   "execution_count": 128,
   "id": "377db08b-04df-4d2e-a718-bb613e42741f",
   "metadata": {},
   "outputs": [
    {
     "data": {
      "text/plain": [
       "'Band names:'"
      ]
     },
     "metadata": {},
     "output_type": "display_data"
    },
    {
     "data": {
      "text/plain": [
       "<ee.ee_list.List at 0x1dbae4770e0>"
      ]
     },
     "metadata": {},
     "output_type": "display_data"
    }
   ],
   "source": [
    "band_names = RGB.bandNames()\n",
    "display('Band names:', band_names)  # ee.List of band names"
   ]
  },
  {
   "cell_type": "code",
   "execution_count": 134,
   "id": "481508e5-90c8-4740-87d2-cd0ad245417a",
   "metadata": {},
   "outputs": [],
   "source": [
    "first = (\n",
    "    ee.ImageCollection('COPERNICUS/S2_SR')\n",
    "    .filterBounds(ee.Geometry.Point(-70.48, 43.3631))\n",
    "    .filterDate('2019-01-01', '2019-12-31')\n",
    "    .sort('CLOUDY_PIXEL_PERCENTAGE')\n",
    "    .first()\n",
    ")"
   ]
  },
  {
   "cell_type": "code",
   "execution_count": 143,
   "id": "ff9c7bea-a875-4f4f-adf0-0275ab44e1ed",
   "metadata": {},
   "outputs": [
    {
     "name": "stdout",
     "output_type": "stream",
     "text": [
      "Band names:  ['B2', 'B3', 'B4']\n"
     ]
    }
   ],
   "source": []
  },
  {
   "cell_type": "code",
   "execution_count": null,
   "id": "eae4ddc1-8511-43b1-91c2-b3107fe1480e",
   "metadata": {},
   "outputs": [],
   "source": []
  }
 ],
 "metadata": {
  "kernelspec": {
   "display_name": "Python 3 (ipykernel)",
   "language": "python",
   "name": "python3"
  },
  "language_info": {
   "codemirror_mode": {
    "name": "ipython",
    "version": 3
   },
   "file_extension": ".py",
   "mimetype": "text/x-python",
   "name": "python",
   "nbconvert_exporter": "python",
   "pygments_lexer": "ipython3",
   "version": "3.12.0"
  }
 },
 "nbformat": 4,
 "nbformat_minor": 5
}
