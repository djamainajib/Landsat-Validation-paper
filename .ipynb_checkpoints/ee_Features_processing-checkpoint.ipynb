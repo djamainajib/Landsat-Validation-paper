{
 "cells": [
  {
   "cell_type": "markdown",
   "id": "f00b204e-ef3e-41c1-9266-56231af608a2",
   "metadata": {},
   "source": [
    "##Feature collection processing"
   ]
  },
  {
   "cell_type": "code",
   "execution_count": 2,
   "id": "04e601ed-7dd9-410f-926b-87f3ef44a5b1",
   "metadata": {},
   "outputs": [],
   "source": [
    "import ee\n",
    "ee.Authenticate()\n",
    "ee.Initialize()"
   ]
  },
  {
   "cell_type": "code",
   "execution_count": 3,
   "id": "0cde42f0-5843-4fbf-b03f-5133d114fc22",
   "metadata": {},
   "outputs": [
    {
     "data": {
      "text/plain": [
       "1"
      ]
     },
     "execution_count": 3,
     "metadata": {},
     "output_type": "execute_result"
    }
   ],
   "source": [
    "input='projects/ee-modis250/assets/HuntClub'\n",
    "sampleRecords =  ee.FeatureCollection(input)\n",
    "sampleRecords.size().getInfo()"
   ]
  },
  {
   "cell_type": "code",
   "execution_count": 22,
   "id": "bd58a049-0027-4ded-ab71-e3db48bbd297",
   "metadata": {},
   "outputs": [
    {
     "data": {
      "text/plain": [
       "{'type': 'FeatureCollection',\n",
       " 'columns': {'system:index': 'String',\n",
       "  'system:time_end': 'String',\n",
       "  'system:time_start': 'String'},\n",
       " 'version': 1701716222814349,\n",
       " 'id': 'projects/ee-modis250/assets/HuntClub',\n",
       " 'properties': {'system:asset_size': 8089},\n",
       " 'features': [{'type': 'Feature',\n",
       "   'geometry': {'type': 'Polygon',\n",
       "    'coordinates': [[[-75.79411417882686, 45.30717784882522],\n",
       "      [-75.79299934157036, 45.30717783955595],\n",
       "      [-75.79299937867397, 45.307904666017265],\n",
       "      [-75.79411414632753, 45.307904664225056],\n",
       "      [-75.79411417882686, 45.30717784882522]]]},\n",
       "   'id': '00000000000000000000',\n",
       "   'properties': {'system:time_end': '2021-12-01',\n",
       "    'system:time_start': '2021-01-01'}}]}"
      ]
     },
     "execution_count": 22,
     "metadata": {},
     "output_type": "execute_result"
    }
   ],
   "source": [
    "sampleRecords.limit(5).getInfo()"
   ]
  },
  {
   "cell_type": "code",
   "execution_count": 5,
   "id": "72f2449e-0be4-43be-bfb1-0740206731e3",
   "metadata": {},
   "outputs": [
    {
     "data": {
      "text/plain": [
       "{'type': 'FeatureCollection',\n",
       " 'columns': {'system:index': 'String'},\n",
       " 'features': [{'type': 'Feature',\n",
       "   'geometry': {'type': 'Point', 'coordinates': [-62.54, -27.32]},\n",
       "   'id': '0',\n",
       "   'properties': {}}]}"
      ]
     },
     "execution_count": 5,
     "metadata": {},
     "output_type": "execute_result"
    }
   ],
   "source": [
    "# FeatureCollection from a single geometry.\n",
    "single_geometry = ee.Geometry.Point(-62.54, -27.32)\n",
    "single_geometry_fc = ee.FeatureCollection(single_geometry)\n",
    "single_geometry_fc.getInfo()"
   ]
  },
  {
   "cell_type": "code",
   "execution_count": 12,
   "id": "29082f46-a966-4e68-9731-afbd82e91e8c",
   "metadata": {},
   "outputs": [
    {
     "data": {
      "text/plain": [
       "{'type': 'FeatureCollection',\n",
       " 'columns': {'system:index': 'String',\n",
       "  'system:time_end': 'String',\n",
       "  'system:time_start': 'String'},\n",
       " 'features': [{'type': 'Feature',\n",
       "   'geometry': {'type': 'Point', 'coordinates': [-62.54, -27.32]},\n",
       "   'id': '0',\n",
       "   'properties': {'system:time_end': '2021-12-01',\n",
       "    'system:time_start': '2021-01-01'}}]}"
      ]
     },
     "execution_count": 12,
     "metadata": {},
     "output_type": "execute_result"
    }
   ],
   "source": [
    "# FeatureCollection from a single feature.\n",
    "single_feature = ee.Feature(ee.Geometry.Point(-62.54, -27.32), {'system:time_end': '2021-12-01','system:time_start': '2021-01-01'})\n",
    "single_feature_fc = ee.FeatureCollection(single_feature)\n",
    "single_feature_fc.getInfo()"
   ]
  },
  {
   "cell_type": "code",
   "execution_count": 9,
   "id": "1e558e8d-e151-4f10-a3b5-c5fe9b954d7b",
   "metadata": {},
   "outputs": [
    {
     "data": {
      "text/plain": [
       "dict_keys(['type', 'columns', 'features'])"
      ]
     },
     "execution_count": 9,
     "metadata": {},
     "output_type": "execute_result"
    }
   ],
   "source": [
    "single_feature_fc.getInfo().keys()\n"
   ]
  },
  {
   "cell_type": "code",
   "execution_count": 10,
   "id": "5a032318-dde5-4af4-96cc-1d2eff65b634",
   "metadata": {},
   "outputs": [
    {
     "data": {
      "text/plain": [
       "dict_keys(['type', 'columns', 'version', 'id', 'properties', 'features'])"
      ]
     },
     "execution_count": 10,
     "metadata": {},
     "output_type": "execute_result"
    }
   ],
   "source": [
    "sampleRecords.getInfo().keys()"
   ]
  },
  {
   "cell_type": "code",
   "execution_count": 19,
   "id": "6bedb082-381f-4660-83d1-d6536195b487",
   "metadata": {},
   "outputs": [
    {
     "data": {
      "text/plain": [
       "{'type': 'FeatureCollection',\n",
       " 'columns': {'system:index': 'String',\n",
       "  'system:time_end': 'String',\n",
       "  'system:time_start': 'String'},\n",
       " 'features': [{'type': 'Feature',\n",
       "   'geometry': {'type': 'Polygon',\n",
       "    'coordinates': [[[-62.54, -27.32],\n",
       "      [-62.5, -27.32],\n",
       "      [-62.5, -27.3],\n",
       "      [-62.54, -27.2],\n",
       "      [-62.54, -27.32]]]},\n",
       "   'id': '0',\n",
       "   'properties': {'system:time_end': '2021-12-01',\n",
       "    'system:time_start': '2021-01-01'}}]}"
      ]
     },
     "execution_count": 19,
     "metadata": {},
     "output_type": "execute_result"
    }
   ],
   "source": [
    "single_feature = ee.Feature(ee.Geometry.Polygon(-62.54, -27.32,-62.50, -27.32,-62.50, -27.30,-62.54, -27.20,-62.54, -27.32),{'system:time_end': '2021-12-01','system:time_start': '2021-01-01'})\n",
    "single_feature_fc = ee.FeatureCollection(single_feature)\n",
    "single_feature_fc.getInfo()"
   ]
  },
  {
   "cell_type": "code",
   "execution_count": 18,
   "id": "24c1f90b-76e4-459d-af99-006efac47642",
   "metadata": {},
   "outputs": [
    {
     "data": {
      "text/plain": [
       "dict_keys(['type', 'columns', 'features'])"
      ]
     },
     "execution_count": 18,
     "metadata": {},
     "output_type": "execute_result"
    }
   ],
   "source": [
    "single_feature_fc.getInfo().keys()"
   ]
  },
  {
   "cell_type": "code",
   "execution_count": 21,
   "id": "74064ea6-02c8-481c-a759-1e0e87e98986",
   "metadata": {},
   "outputs": [
    {
     "data": {
      "text/plain": [
       "{'type': 'FeatureCollection',\n",
       " 'columns': {'key': 'String', 'system:index': 'String'},\n",
       " 'features': [{'type': 'Feature',\n",
       "   'geometry': {'type': 'Point', 'coordinates': [-62.54, -27.32]},\n",
       "   'id': '0',\n",
       "   'properties': {'key': 'val1'}},\n",
       "  {'type': 'Feature',\n",
       "   'geometry': {'type': 'Point', 'coordinates': [-69.18, -10.64]},\n",
       "   'id': '1',\n",
       "   'properties': {'key': 'val2'}},\n",
       "  {'type': 'Feature',\n",
       "   'geometry': {'type': 'Point', 'coordinates': [-45.98, -18.09]},\n",
       "   'id': '2',\n",
       "   'properties': {'key': 'val3'}}]}"
      ]
     },
     "execution_count": 21,
     "metadata": {},
     "output_type": "execute_result"
    }
   ],
   "source": [
    "list_of_features = [\n",
    "    ee.Feature(ee.Geometry.Point(-62.54, -27.32), {'key': 'val1'}),\n",
    "    ee.Feature(ee.Geometry.Point(-69.18, -10.64), {'key': 'val2'}),\n",
    "    ee.Feature(ee.Geometry.Point(-45.98, -18.09), {'key': 'val3'})\n",
    "]\n",
    "list_of_features_fc = ee.FeatureCollection(list_of_features)\n",
    "list_of_features_fc.getInfo()"
   ]
  },
  {
   "cell_type": "code",
   "execution_count": null,
   "id": "f919d883-e304-4329-bd14-d32776864de1",
   "metadata": {},
   "outputs": [],
   "source": []
  }
 ],
 "metadata": {
  "kernelspec": {
   "display_name": "Python 3 (ipykernel)",
   "language": "python",
   "name": "python3"
  },
  "language_info": {
   "codemirror_mode": {
    "name": "ipython",
    "version": 3
   },
   "file_extension": ".py",
   "mimetype": "text/x-python",
   "name": "python",
   "nbconvert_exporter": "python",
   "pygments_lexer": "ipython3",
   "version": "3.12.0"
  }
 },
 "nbformat": 4,
 "nbformat_minor": 5
}
