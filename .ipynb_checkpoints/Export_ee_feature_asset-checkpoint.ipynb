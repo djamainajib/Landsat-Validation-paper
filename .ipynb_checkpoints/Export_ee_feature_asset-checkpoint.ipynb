{
 "cells": [
  {
   "cell_type": "code",
   "execution_count": 22,
   "id": "126fa5f0-1233-42de-9b4c-a4a8f07f372b",
   "metadata": {},
   "outputs": [],
   "source": [
    "import ee\n",
    "ee.Authenticate()\n",
    "ee.Initialize()"
   ]
  },
  {
   "cell_type": "code",
   "execution_count": 23,
   "id": "b0afdf10-191a-4703-a059-3cc2f3e5af1a",
   "metadata": {},
   "outputs": [],
   "source": [
    "from datetime import timedelta\n",
    "from datetime import datetime\n",
    "import pandas as pd\n",
    "import os\n",
    "import csv"
   ]
  },
  {
   "cell_type": "code",
   "execution_count": 24,
   "id": "f21044a5-c140-46c7-a639-9e5dae390bc1",
   "metadata": {},
   "outputs": [],
   "source": [
    "#siteList=[\"projects/ee-modis250/assets/validationGBOV/COPERNICUS_GBOV_RM7_20220616174529\"]\n",
    "siteList=[\"projects/ee-modis250/assets/validationGBOV/NEON_2013-22_RMs_updated_parsed\"]"
   ]
  },
  {
   "cell_type": "code",
   "execution_count": 25,
   "id": "2b214576-12a2-4efa-98a3-cfae97a7d917",
   "metadata": {},
   "outputs": [],
   "source": [
    "datapath='C:/Djamai_Najib/1_vegetation_parameters/1_scripts/LEAF-Landsat-Validation-paper/data/'"
   ]
  },
  {
   "cell_type": "code",
   "execution_count": 26,
   "id": "644e9cc6-184d-4d12-856e-9ed44c3f85fb",
   "metadata": {},
   "outputs": [],
   "source": [
    "def exel_to_klm(xfn,name_col=3,desc_col=4,lat_col=1,lon_col=2,z_col=0):\n",
    "    if not xfn.endswith('.csv'):\n",
    "        print(\"Enter csv file\")\n",
    "    else:\n",
    "        data = csv.reader(open(xfn), delimiter = ',')\n",
    "        #Skip the 1st header row.\n",
    "        next(data)\n",
    "        print(data)\n",
    "        #Open the file to be written.\n",
    "        klm_file=xfn.replace('.csv','.kml')\n",
    "        f = open(klm_file, 'w')\n",
    "        \n",
    "        #Writing the kml file.\n",
    "        f.write(\"<?xml version='1.0' encoding='UTF-8'?>\\n\")\n",
    "        f.write(\"<kml xmlns='http://earth.google.com/kml/2.1'>\\n\")\n",
    "        f.write(\"<Document>\\n\")\n",
    "        f.write(\"   <name>\" + ofn + '.kml' +\"</name>\\n\")\n",
    "        for row in data:\n",
    "            f.write(\"   <Placemark>\\n\")\n",
    "            f.write(\"       <name>\" + str(row[name_col]) + \"</name>\\n\")\n",
    "            f.write(\"       <description>\" + str(row[desc_col]) + \"</description>\\n\")\n",
    "            f.write(\"       <Point>\\n\")\n",
    "            f.write(\"           <coordinates>\" + str(row[lon_col]) + \",\" + str(row[lat_col]) + \",\" + \"0\" + \"</coordinates>\\n\")\n",
    "            f.write(\"       </Point>\\n\")\n",
    "            f.write(\"   </Placemark>\\n\")\n",
    "        f.write(\"</Document>\\n\")\n",
    "        f.write(\"</kml>\\n\")\n",
    "        print (\"File Created. \")\n",
    "        return klm_file"
   ]
  },
  {
   "cell_type": "code",
   "execution_count": 30,
   "id": "952cff44-66cd-4afc-823d-a74511783b60",
   "metadata": {},
   "outputs": [
    {
     "ename": "TypeError",
     "evalue": "unsupported operand type(s) for /: 'str' and 'int'",
     "output_type": "error",
     "traceback": [
      "\u001b[1;31m---------------------------------------------------------------------------\u001b[0m",
      "\u001b[1;31mTypeError\u001b[0m                                 Traceback (most recent call last)",
      "Cell \u001b[1;32mIn[30], line 14\u001b[0m\n\u001b[0;32m     12\u001b[0m lon\u001b[38;5;241m.\u001b[39mappend(site[ii][\u001b[38;5;124m'\u001b[39m\u001b[38;5;124mgeometry\u001b[39m\u001b[38;5;124m'\u001b[39m][\u001b[38;5;124m'\u001b[39m\u001b[38;5;124mcoordinates\u001b[39m\u001b[38;5;124m'\u001b[39m][\u001b[38;5;241m0\u001b[39m])\n\u001b[0;32m     13\u001b[0m lat\u001b[38;5;241m.\u001b[39mappend(site[ii][\u001b[38;5;124m'\u001b[39m\u001b[38;5;124mgeometry\u001b[39m\u001b[38;5;124m'\u001b[39m][\u001b[38;5;124m'\u001b[39m\u001b[38;5;124mcoordinates\u001b[39m\u001b[38;5;124m'\u001b[39m][\u001b[38;5;241m1\u001b[39m])  \n\u001b[1;32m---> 14\u001b[0m date\u001b[38;5;241m.\u001b[39mappend(datetime\u001b[38;5;241m.\u001b[39mfromtimestamp(\u001b[43msite\u001b[49m\u001b[43m[\u001b[49m\u001b[43mii\u001b[49m\u001b[43m]\u001b[49m\u001b[43m[\u001b[49m\u001b[38;5;124;43m'\u001b[39;49m\u001b[38;5;124;43mproperties\u001b[39;49m\u001b[38;5;124;43m'\u001b[39;49m\u001b[43m]\u001b[49m\u001b[43m[\u001b[49m\u001b[38;5;124;43m'\u001b[39;49m\u001b[38;5;124;43msystem:time_start\u001b[39;49m\u001b[38;5;124;43m'\u001b[39;49m\u001b[43m]\u001b[49m\u001b[38;5;241;43m/\u001b[39;49m\u001b[38;5;241;43m1000\u001b[39;49m))\u001b[38;5;66;03m#.strftime(\"%m/%d/%Y\")\u001b[39;00m\n\u001b[0;32m     15\u001b[0m system:time_start\n\u001b[0;32m     16\u001b[0m site_name\u001b[38;5;241m.\u001b[39mappend(site[ii][\u001b[38;5;124m'\u001b[39m\u001b[38;5;124mproperties\u001b[39m\u001b[38;5;124m'\u001b[39m][\u001b[38;5;124m'\u001b[39m\u001b[38;5;124mSite\u001b[39m\u001b[38;5;124m'\u001b[39m])\n",
      "\u001b[1;31mTypeError\u001b[0m: unsupported operand type(s) for /: 'str' and 'int'"
     ]
    }
   ],
   "source": [
    "for input in siteList:   \n",
    "    #Convert the feature collection to a list so we can apply SL2P on features in sequence to avoid time outs on GEE\n",
    "    sampleRecords =  ee.FeatureCollection(input).sort('system:time_start', False).map(lambda feature: feature.set('timeStart',feature.get('system:time_start')))\n",
    "    sampleRecords =  sampleRecords.toList(sampleRecords.size())\n",
    "    site=sampleRecords.getInfo()\n",
    "    df=pd.DataFrame(site)\n",
    "    date=[]\n",
    "    lat=[]\n",
    "    lon=[]\n",
    "    site_name=[]\n",
    "    for ii in range(len(site)):\n",
    "        lon.append(site[ii]['geometry']['coordinates'][0])\n",
    "        lat.append(site[ii]['geometry']['coordinates'][1])  \n",
    "        date.append(datetime.fromtimestamp(site[ii]['properties']['system:time_start']))#.strftime(\"%m/%d/%Y\")/1000\n",
    "        system:time_start\n",
    "        site_name.append(site[ii]['properties']['Site'])\n",
    "    df['lat']  = lat\n",
    "    df['lon']  = lon\n",
    "    df['site_name']  = site_name\n",
    "    df['date']  = date\n",
    "    df=df[['lat','lon','site_name','date']]\n",
    "    ofn=os.path.join(datapath,os.path.basename(input)+'.csv')\n",
    "    print(ofn)\n",
    "    df.to_csv(ofn, sep=',')\n",
    "    exel_to_klm(ofn,name_col=2,desc_col=3,lat_col=0,lon_col=1,z_col=0)"
   ]
  },
  {
   "cell_type": "code",
   "execution_count": null,
   "id": "2d157d33-a02d-47a4-b717-f671a28cd02f",
   "metadata": {},
   "outputs": [],
   "source": [
    "exel_to_klm(ofn,name_col=3,desc_col=4,lat_col=1,lon_col=2,z_col=0)"
   ]
  },
  {
   "cell_type": "code",
   "execution_count": 28,
   "id": "107e2264-6838-40a9-b484-6ca1c6823682",
   "metadata": {},
   "outputs": [
    {
     "data": {
      "text/plain": [
       "{'FCOVER_overstoryerror': 0.03999999910593033,\n",
       " 'FCOVER_overstoryest': 0.8600000143051147,\n",
       " 'FCOVER_understoryerror': 0.05000000074505806,\n",
       " 'FCOVER_understoryest': 0.46000000834465027,\n",
       " 'FIPAR_overstoryerror': 0.01600000075995922,\n",
       " 'FIPAR_overstoryest': 0.8450000286102295,\n",
       " 'FIPAR_understoryerror': 0.029999999329447746,\n",
       " 'FIPAR_understoryest': 0.46000000834465027,\n",
       " 'NEONSITE': 'UKFS',\n",
       " 'PLOT_ID': 'UKFS_047',\n",
       " 'SITE': 'UKFS',\n",
       " 'clumping_index_Miller_overstoryerror': 0.03200000151991844,\n",
       " 'clumping_index_Miller_overstoryest': 0.7350000143051147,\n",
       " 'clumping_index_Miller_understoryerror': 0.05000000074505806,\n",
       " 'clumping_index_Miller_understoryest': 0.8899999856948853,\n",
       " 'clumping_index_Warren_overstoryerror': 0.05000000074505806,\n",
       " 'clumping_index_Warren_overstoryest': 0.7099999785423279,\n",
       " 'clumping_index_Warren_understoryerror': 0.10000000149011612,\n",
       " 'clumping_index_Warren_understoryest': 0.8999999761581421,\n",
       " 'combined_flag': 0,\n",
       " 'datetime': '9/9/2022',\n",
       " 'effective_LAI_Miller_overstoryerror': 0.09000000357627869,\n",
       " 'effective_LAI_Miller_overstoryest': 2.8499999046325684,\n",
       " 'effective_LAI_Miller_understoryerror': 0.03999999910593033,\n",
       " 'effective_LAI_Miller_understoryest': 0.9399999976158142,\n",
       " 'effective_LAI_Warren_overstoryerror': 0.10000000149011612,\n",
       " 'effective_LAI_Warren_overstoryest': 2.0999999046325684,\n",
       " 'effective_LAI_Warren_understoryerror': 0.03999999910593033,\n",
       " 'effective_LAI_Warren_understoryest': 0.6600000262260437,\n",
       " 'nlcd': 'deciduousForest',\n",
       " 'overstory_flag': 0,\n",
       " 'system:time_end': '9/9/2022',\n",
       " 'system:time_start': '9/9/2022',\n",
       " 'timeStart': '9/9/2022',\n",
       " 'true_LAI_Miller_overstoryerror': 0.11999999731779099,\n",
       " 'true_LAI_Miller_overstoryest': 3.880000114440918,\n",
       " 'true_LAI_Miller_understoryerror': 0.05000000074505806,\n",
       " 'true_LAI_Miller_understoryest': 1.059999942779541,\n",
       " 'true_LAI_Warren_overstoryerror': 0.17000000178813934,\n",
       " 'true_LAI_Warren_overstoryest': 2.9700000286102295,\n",
       " 'true_LAI_Warren_understoryerror': 0.05999999865889549,\n",
       " 'true_LAI_Warren_understoryest': 0.7300000190734863,\n",
       " 'understory_flag': 0}"
      ]
     },
     "execution_count": 28,
     "metadata": {},
     "output_type": "execute_result"
    }
   ],
   "source": [
    "site[ii]['properties']"
   ]
  },
  {
   "cell_type": "code",
   "execution_count": 29,
   "id": "21685382-ee75-4237-a013-7ae18ebc80ab",
   "metadata": {},
   "outputs": [
    {
     "data": {
      "text/plain": [
       "'9/9/2022'"
      ]
     },
     "execution_count": 29,
     "metadata": {},
     "output_type": "execute_result"
    }
   ],
   "source": [
    "site[0]['properties']['system:time_start']"
   ]
  },
  {
   "cell_type": "code",
   "execution_count": null,
   "id": "6391afc7-819c-41ef-971f-d3e09b5cd263",
   "metadata": {},
   "outputs": [],
   "source": []
  }
 ],
 "metadata": {
  "kernelspec": {
   "display_name": "Python 3 (ipykernel)",
   "language": "python",
   "name": "python3"
  },
  "language_info": {
   "codemirror_mode": {
    "name": "ipython",
    "version": 3
   },
   "file_extension": ".py",
   "mimetype": "text/x-python",
   "name": "python",
   "nbconvert_exporter": "python",
   "pygments_lexer": "ipython3",
   "version": "3.12.0"
  }
 },
 "nbformat": 4,
 "nbformat_minor": 5
}
