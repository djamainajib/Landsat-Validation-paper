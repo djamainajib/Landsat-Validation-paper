{
 "cells": [
  {
   "cell_type": "markdown",
   "id": "de0a2a81-2f6c-43d5-bf02-c54365aacfce",
   "metadata": {},
   "source": [
    "### Merge .pkl files¶\n"
   ]
  },
  {
   "cell_type": "code",
   "execution_count": 45,
   "id": "bf99ab9d-4563-49aa-9851-f4d9bd61d9dd",
   "metadata": {},
   "outputs": [],
   "source": [
    "import os\n",
    "import pickle\n",
    "import pandas as pd\n",
    "from matplotlib import pyplot as plt\n",
    "import numpy as np"
   ]
  },
  {
   "cell_type": "code",
   "execution_count": 52,
   "id": "7ad4dd21-4357-42b7-8be3-ec8c7bf5b463",
   "metadata": {},
   "outputs": [],
   "source": [
    "datapath='C:/Djamai_Najib/1_vegetation_parameters/1_scripts/LS_S2_fusion_check/data/usingSL2PV1/fCOVER/S2/'\n",
    "datapath='C:/Djamai_Najib/1_vegetation_parameters/1_scripts/SL2P_python_S2_LC_HLS-main/testdata/'"
   ]
  },
  {
   "cell_type": "code",
   "execution_count": 69,
   "id": "477626ab-6cd8-41e5-aade-f355394f7364",
   "metadata": {},
   "outputs": [
    {
     "data": {
      "text/plain": [
       "['NEON_2013-22_RMs_updated_parsed_LANDSAT_LC08_C02_T1_L2_fAPAR_0_200_SL2PV1_2024_04_18_17h_04mn.pkl']"
      ]
     },
     "execution_count": 69,
     "metadata": {},
     "output_type": "execute_result"
    }
   ],
   "source": [
    "var ='fAPAR'\n",
    "ifiles=[ff for ff in os.listdir(datapath) if ff.endswith('.pkl') and var in ff ]\n",
    "ifiles"
   ]
  },
  {
   "cell_type": "code",
   "execution_count": 70,
   "id": "770ebae2-e0cf-4928-9755-44e4b50fe80c",
   "metadata": {},
   "outputs": [
    {
     "name": "stdout",
     "output_type": "stream",
     "text": [
      "1\n",
      "200\n"
     ]
    }
   ],
   "source": [
    "ff=ifiles[0]\n",
    "with open(os.path.join(datapath,ff), \"rb\") as fp:   #Pickling\n",
    "    feature = pickle.load(fp)\n",
    "print(len(list(feature.keys()))) \n",
    "keys=list(feature.keys())\n",
    "print(len(feature[keys[0]]))"
   ]
  },
  {
   "cell_type": "code",
   "execution_count": 71,
   "id": "56aafed0-d3ed-4606-835d-36945d8d07be",
   "metadata": {},
   "outputs": [],
   "source": [
    "df=pd.DataFrame()\n",
    "data=feature[keys[0]]\n",
    "for ii in range(len(data)):\n",
    "    TAB=data[ii]['SL2PV1']\n",
    "    TAB['ID']=ii\n",
    "    TAB['PLOT_ID']=data[ii]['feature']['PLOT_ID']\n",
    "    TAB['Date']=data[ii]['feature']['datetime']\n",
    "    df=df._append(TAB)"
   ]
  },
  {
   "cell_type": "code",
   "execution_count": 72,
   "id": "c2506552-f9d7-4323-a266-f7c59bd4b44d",
   "metadata": {},
   "outputs": [
    {
     "data": {
      "text/html": [
       "<div>\n",
       "<style scoped>\n",
       "    .dataframe tbody tr th:only-of-type {\n",
       "        vertical-align: middle;\n",
       "    }\n",
       "\n",
       "    .dataframe tbody tr th {\n",
       "        vertical-align: top;\n",
       "    }\n",
       "\n",
       "    .dataframe thead th {\n",
       "        text-align: right;\n",
       "    }\n",
       "</style>\n",
       "<table border=\"1\" class=\"dataframe\">\n",
       "  <thead>\n",
       "    <tr style=\"text-align: right;\">\n",
       "      <th></th>\n",
       "      <th>date</th>\n",
       "      <th>QC</th>\n",
       "      <th>longitude</th>\n",
       "      <th>latitude</th>\n",
       "      <th>estimatefAPAR</th>\n",
       "      <th>partition</th>\n",
       "      <th>networkID</th>\n",
       "      <th>errorfAPAR</th>\n",
       "      <th>ID</th>\n",
       "      <th>PLOT_ID</th>\n",
       "      <th>Date</th>\n",
       "    </tr>\n",
       "  </thead>\n",
       "  <tbody>\n",
       "    <tr>\n",
       "      <th>0</th>\n",
       "      <td>1.662743e+12</td>\n",
       "      <td>0.0</td>\n",
       "      <td>-95.190933</td>\n",
       "      <td>39.039824</td>\n",
       "      <td>0.521563</td>\n",
       "      <td>5.0</td>\n",
       "      <td>2.0</td>\n",
       "      <td>0.015021</td>\n",
       "      <td>0</td>\n",
       "      <td>UKFS_047</td>\n",
       "      <td>9/9/2022</td>\n",
       "    </tr>\n",
       "    <tr>\n",
       "      <th>1</th>\n",
       "      <td>1.662743e+12</td>\n",
       "      <td>0.0</td>\n",
       "      <td>-95.190587</td>\n",
       "      <td>39.039830</td>\n",
       "      <td>0.532530</td>\n",
       "      <td>5.0</td>\n",
       "      <td>2.0</td>\n",
       "      <td>0.015137</td>\n",
       "      <td>0</td>\n",
       "      <td>UKFS_047</td>\n",
       "      <td>9/9/2022</td>\n",
       "    </tr>\n",
       "    <tr>\n",
       "      <th>2</th>\n",
       "      <td>1.662743e+12</td>\n",
       "      <td>0.0</td>\n",
       "      <td>-95.190942</td>\n",
       "      <td>39.040094</td>\n",
       "      <td>0.507585</td>\n",
       "      <td>5.0</td>\n",
       "      <td>2.0</td>\n",
       "      <td>0.014546</td>\n",
       "      <td>0</td>\n",
       "      <td>UKFS_047</td>\n",
       "      <td>9/9/2022</td>\n",
       "    </tr>\n",
       "    <tr>\n",
       "      <th>3</th>\n",
       "      <td>1.662743e+12</td>\n",
       "      <td>0.0</td>\n",
       "      <td>-95.190595</td>\n",
       "      <td>39.040100</td>\n",
       "      <td>0.535161</td>\n",
       "      <td>5.0</td>\n",
       "      <td>2.0</td>\n",
       "      <td>0.015546</td>\n",
       "      <td>0</td>\n",
       "      <td>UKFS_047</td>\n",
       "      <td>9/9/2022</td>\n",
       "    </tr>\n",
       "    <tr>\n",
       "      <th>4</th>\n",
       "      <td>1.662743e+12</td>\n",
       "      <td>0.0</td>\n",
       "      <td>-95.190249</td>\n",
       "      <td>39.040107</td>\n",
       "      <td>0.539646</td>\n",
       "      <td>5.0</td>\n",
       "      <td>2.0</td>\n",
       "      <td>0.015390</td>\n",
       "      <td>0</td>\n",
       "      <td>UKFS_047</td>\n",
       "      <td>9/9/2022</td>\n",
       "    </tr>\n",
       "    <tr>\n",
       "      <th>...</th>\n",
       "      <td>...</td>\n",
       "      <td>...</td>\n",
       "      <td>...</td>\n",
       "      <td>...</td>\n",
       "      <td>...</td>\n",
       "      <td>...</td>\n",
       "      <td>...</td>\n",
       "      <td>...</td>\n",
       "      <td>...</td>\n",
       "      <td>...</td>\n",
       "      <td>...</td>\n",
       "    </tr>\n",
       "    <tr>\n",
       "      <th>1</th>\n",
       "      <td>1.530738e+12</td>\n",
       "      <td>0.0</td>\n",
       "      <td>-145.744736</td>\n",
       "      <td>63.879023</td>\n",
       "      <td>0.444050</td>\n",
       "      <td>1.0</td>\n",
       "      <td>3.0</td>\n",
       "      <td>0.034298</td>\n",
       "      <td>194</td>\n",
       "      <td>DEJU_061</td>\n",
       "      <td>9/7/2018</td>\n",
       "    </tr>\n",
       "    <tr>\n",
       "      <th>2</th>\n",
       "      <td>1.530738e+12</td>\n",
       "      <td>0.0</td>\n",
       "      <td>-145.745334</td>\n",
       "      <td>63.879298</td>\n",
       "      <td>0.357549</td>\n",
       "      <td>1.0</td>\n",
       "      <td>3.0</td>\n",
       "      <td>0.027238</td>\n",
       "      <td>194</td>\n",
       "      <td>DEJU_061</td>\n",
       "      <td>9/7/2018</td>\n",
       "    </tr>\n",
       "    <tr>\n",
       "      <th>3</th>\n",
       "      <td>1.530738e+12</td>\n",
       "      <td>0.0</td>\n",
       "      <td>-145.744724</td>\n",
       "      <td>63.879292</td>\n",
       "      <td>0.432674</td>\n",
       "      <td>1.0</td>\n",
       "      <td>3.0</td>\n",
       "      <td>0.033426</td>\n",
       "      <td>194</td>\n",
       "      <td>DEJU_061</td>\n",
       "      <td>9/7/2018</td>\n",
       "    </tr>\n",
       "    <tr>\n",
       "      <th>4</th>\n",
       "      <td>1.530738e+12</td>\n",
       "      <td>0.0</td>\n",
       "      <td>-145.745322</td>\n",
       "      <td>63.879567</td>\n",
       "      <td>0.373050</td>\n",
       "      <td>1.0</td>\n",
       "      <td>3.0</td>\n",
       "      <td>0.028049</td>\n",
       "      <td>194</td>\n",
       "      <td>DEJU_061</td>\n",
       "      <td>9/7/2018</td>\n",
       "    </tr>\n",
       "    <tr>\n",
       "      <th>5</th>\n",
       "      <td>1.530738e+12</td>\n",
       "      <td>0.0</td>\n",
       "      <td>-145.744712</td>\n",
       "      <td>63.879562</td>\n",
       "      <td>0.408335</td>\n",
       "      <td>1.0</td>\n",
       "      <td>3.0</td>\n",
       "      <td>0.030475</td>\n",
       "      <td>194</td>\n",
       "      <td>DEJU_061</td>\n",
       "      <td>9/7/2018</td>\n",
       "    </tr>\n",
       "  </tbody>\n",
       "</table>\n",
       "<p>1322 rows × 11 columns</p>\n",
       "</div>"
      ],
      "text/plain": [
       "            date   QC   longitude   latitude  estimatefAPAR  partition  \\\n",
       "0   1.662743e+12  0.0  -95.190933  39.039824       0.521563        5.0   \n",
       "1   1.662743e+12  0.0  -95.190587  39.039830       0.532530        5.0   \n",
       "2   1.662743e+12  0.0  -95.190942  39.040094       0.507585        5.0   \n",
       "3   1.662743e+12  0.0  -95.190595  39.040100       0.535161        5.0   \n",
       "4   1.662743e+12  0.0  -95.190249  39.040107       0.539646        5.0   \n",
       "..           ...  ...         ...        ...            ...        ...   \n",
       "1   1.530738e+12  0.0 -145.744736  63.879023       0.444050        1.0   \n",
       "2   1.530738e+12  0.0 -145.745334  63.879298       0.357549        1.0   \n",
       "3   1.530738e+12  0.0 -145.744724  63.879292       0.432674        1.0   \n",
       "4   1.530738e+12  0.0 -145.745322  63.879567       0.373050        1.0   \n",
       "5   1.530738e+12  0.0 -145.744712  63.879562       0.408335        1.0   \n",
       "\n",
       "    networkID  errorfAPAR   ID   PLOT_ID      Date  \n",
       "0         2.0    0.015021    0  UKFS_047  9/9/2022  \n",
       "1         2.0    0.015137    0  UKFS_047  9/9/2022  \n",
       "2         2.0    0.014546    0  UKFS_047  9/9/2022  \n",
       "3         2.0    0.015546    0  UKFS_047  9/9/2022  \n",
       "4         2.0    0.015390    0  UKFS_047  9/9/2022  \n",
       "..        ...         ...  ...       ...       ...  \n",
       "1         3.0    0.034298  194  DEJU_061  9/7/2018  \n",
       "2         3.0    0.027238  194  DEJU_061  9/7/2018  \n",
       "3         3.0    0.033426  194  DEJU_061  9/7/2018  \n",
       "4         3.0    0.028049  194  DEJU_061  9/7/2018  \n",
       "5         3.0    0.030475  194  DEJU_061  9/7/2018  \n",
       "\n",
       "[1322 rows x 11 columns]"
      ]
     },
     "execution_count": 72,
     "metadata": {},
     "output_type": "execute_result"
    }
   ],
   "source": [
    "df"
   ]
  },
  {
   "cell_type": "code",
   "execution_count": 73,
   "id": "d0100195-598e-4b89-bbcb-b57ea69b2bb7",
   "metadata": {},
   "outputs": [],
   "source": [
    "df.to_csv(os.path.join(datapath,ff.replace('.pkl','.csv')))"
   ]
  },
  {
   "cell_type": "code",
   "execution_count": 74,
   "id": "bddc2943-bb06-4011-bb98-ff3bbcc39930",
   "metadata": {},
   "outputs": [
    {
     "data": {
      "text/plain": [
       "['CCC', 'CWC', 'fAPAR', 'fCOVER']"
      ]
     },
     "execution_count": 74,
     "metadata": {},
     "output_type": "execute_result"
    }
   ],
   "source": [
    "[ff.split('_')[10] for ff in os.listdir(datapath) if ff.endswith('.pkl')]"
   ]
  },
  {
   "cell_type": "code",
   "execution_count": 75,
   "id": "57fbb92e-dcc3-4134-9bda-92c1e59a4757",
   "metadata": {},
   "outputs": [
    {
     "data": {
      "text/plain": [
       "4"
      ]
     },
     "execution_count": 75,
     "metadata": {},
     "output_type": "execute_result"
    }
   ],
   "source": [
    "len([ff.split('_')[10] for ff in os.listdir(datapath) if ff.endswith('.pkl')])"
   ]
  },
  {
   "cell_type": "code",
   "execution_count": 20,
   "id": "5dce550d-edb0-4f41-9ed4-c602cdcf3c40",
   "metadata": {},
   "outputs": [
    {
     "data": {
      "text/plain": [
       "1"
      ]
     },
     "execution_count": 20,
     "metadata": {},
     "output_type": "execute_result"
    }
   ],
   "source": [
    "len(np.unique([ff.split('_')[10] for ff in os.listdir(datapath) if ff.endswith('.pkl')]))"
   ]
  },
  {
   "cell_type": "code",
   "execution_count": 21,
   "id": "5e540d4e-806a-404d-90aa-44f83c7b9f3e",
   "metadata": {},
   "outputs": [
    {
     "name": "stdout",
     "output_type": "stream",
     "text": [
      "01_NEON_2013-22_RMs_updated_parsed_LANDSAT_LC08_C02_T1_L2_Surface_Reflectance_0_8000_SL2PV1_2024_04_13_08h_04mn_04mn_04mn.pkl\n",
      "1\n",
      "14141\n"
     ]
    }
   ],
   "source": [
    "var ='Surface_Reflectance'\n",
    "ifiles=[ff for ff in os.listdir(datapath) if ff.endswith('.pkl') and var in ff ]\n",
    "#print('Mereging files: %s'%(ifiles))\n",
    "for ff in ifiles:\n",
    "    print(ff)\n",
    "    with open(os.path.join(datapath,ff), \"rb\") as fp:   #Pickling\n",
    "        feature = pickle.load(fp)\n",
    "    print(len(list(feature.keys()))) \n",
    "    keys=list(feature.keys())\n",
    "    print(len(feature[keys[0]]))"
   ]
  },
  {
   "cell_type": "code",
   "execution_count": 18,
   "id": "9487e86d-c07a-474a-bf46-c2d4fd8d4636",
   "metadata": {},
   "outputs": [
    {
     "data": {
      "text/plain": [
       "('02_NEON_2013-22_RMs_updated_parsed_LANDSAT_LC08_C02_T1_L2_Surface_Reflectance_8000_11000_SL2PV1_2024_04_16_21h_04mn_raw.pkl',\n",
       " '03_NEON_2013-22_RMs_updated_parsed_LANDSAT_LC08_C02_T1_L2_Surface_Reflectance_9600_11000_SL2PV1_2024_04_17_21h_04mn.pkl')"
      ]
     },
     "execution_count": 18,
     "metadata": {},
     "output_type": "execute_result"
    }
   ],
   "source": [
    "ifiles[1],ifiles[2]"
   ]
  },
  {
   "cell_type": "code",
   "execution_count": 25,
   "id": "207a1588-1d74-43e1-83f8-261bbc40ba6e",
   "metadata": {},
   "outputs": [
    {
     "data": {
      "text/plain": [
       "1399"
      ]
     },
     "execution_count": 25,
     "metadata": {},
     "output_type": "execute_result"
    }
   ],
   "source": [
    "len(feature[list(feature.keys())[0]][1:])"
   ]
  },
  {
   "cell_type": "code",
   "execution_count": null,
   "id": "b5497217-2620-4187-85e1-b7e8109ea12e",
   "metadata": {},
   "outputs": [],
   "source": []
  },
  {
   "cell_type": "code",
   "execution_count": null,
   "id": "9d1db90c-6a05-4097-9c05-42522c9e7d74",
   "metadata": {},
   "outputs": [],
   "source": []
  },
  {
   "cell_type": "code",
   "execution_count": 15,
   "id": "e1bcca52-2393-4b56-9ae1-cf72e6e4a431",
   "metadata": {},
   "outputs": [
    {
     "name": "stdout",
     "output_type": "stream",
     "text": [
      "Mereging files: ['01_NEON_2013-22_RMs_updated_parsed_LANDSAT_LC08_C02_T1_L2_Surface_Reflectance_0_8000_SL2PV1_2024_04_13_08h_04mn.pkl', '02_NEON_2013-22_RMs_updated_parsed_LANDSAT_LC08_C02_T1_L2_Surface_Reflectance_8000_11000_SL2PV1_2024_04_16_21h_04mn_raw_04mn.pkl', '03_NEON_2013-22_RMs_updated_parsed_LANDSAT_LC08_C02_T1_L2_Surface_Reflectance_11000_15000_SL2PV1_2024_04_15_19h_04mn.pkl']\n",
      "01_NEON_2013-22_RMs_updated_parsed_LANDSAT_LC08_C02_T1_L2_Surface_Reflectance_0_8000_SL2PV1_2024_04_13_08h_04mn.pkl\n",
      "1\n",
      "projects/ee-modis250/assets/validationGBOV/NEON_2013-22_RMs_updated_parsed 8000\n",
      "02_NEON_2013-22_RMs_updated_parsed_LANDSAT_LC08_C02_T1_L2_Surface_Reflectance_8000_11000_SL2PV1_2024_04_16_21h_04mn_raw_04mn.pkl\n",
      "1\n",
      "projects/ee-modis250/assets/validationGBOV/NEON_2013-22_RMs_updated_parsed 3000\n",
      "added to previous\n",
      "03_NEON_2013-22_RMs_updated_parsed_LANDSAT_LC08_C02_T1_L2_Surface_Reflectance_11000_15000_SL2PV1_2024_04_15_19h_04mn.pkl\n",
      "1\n",
      "projects/ee-modis250/assets/validationGBOV/NEON_2013-22_RMs_updated_parsed 3141\n",
      "added to previous\n",
      "1\n",
      "projects/ee-modis250/assets/validationGBOV/NEON_2013-22_RMs_updated_parsed 14141\n",
      "done\n"
     ]
    }
   ],
   "source": [
    "var ='Surface_Reflectance'\n",
    "ifiles=[ff for ff in os.listdir(datapath) if ff.endswith('.pkl') and var in ff ]\n",
    "print('Mereging files: %s'%(ifiles))\n",
    "for ff in ifiles:\n",
    "    print(ff)\n",
    "    with open(os.path.join(datapath,ff), \"rb\") as fp:   #Pickling\n",
    "        feature = pickle.load(fp)\n",
    "    print(len(list(feature.keys()))) \n",
    "          \n",
    "    for kk in feature.keys():\n",
    "        print(kk,len(feature[kk])) \n",
    "        \n",
    "    if ff==ifiles[0]:\n",
    "        sampleDictionary=feature\n",
    "        ofn=ff[:-4]\n",
    "    else:\n",
    "        if list(feature.keys())[0].startswith('projects/'):\n",
    "            if feature.keys() & sampleDictionary.keys(): #intersection between 2 features\n",
    "                sampleDictionary[list(sampleDictionary.keys())[0]]=sampleDictionary[list(sampleDictionary.keys())[0]]+feature[list(feature.keys())[0]]\n",
    "                print('added to previous')\n",
    "            else:\n",
    "                sampleDictionary.update(feature)    \n",
    "        else:\n",
    "            sampleDictionary.update(feature)  \n",
    "        ofn=ofn+'_'+ff[-8:-4]    \n",
    "        \n",
    "with open(os.path.join(datapath,ofn+'.pkl'), \"wb\") as fp:   #Pickling\n",
    "        pickle.dump(sampleDictionary, fp)  \n",
    "    \n",
    "print(len(list(sampleDictionary.keys())))     \n",
    "for kk in sampleDictionary.keys():\n",
    "    print(kk,len(sampleDictionary[kk]))\n",
    "\n",
    "print('done')"
   ]
  },
  {
   "cell_type": "code",
   "execution_count": 53,
   "id": "8d98c8ac-9335-4642-b6c6-0dc955b7dadf",
   "metadata": {},
   "outputs": [
    {
     "data": {
      "text/plain": [
       "{'JERC_004',\n",
       " 'JERC_012',\n",
       " 'JERC_014',\n",
       " 'KONA_001',\n",
       " 'KONA_002',\n",
       " 'KONA_003',\n",
       " 'KONA_004',\n",
       " 'KONA_005',\n",
       " 'KONA_006',\n",
       " 'KONA_007',\n",
       " 'KONA_008',\n",
       " 'KONA_009',\n",
       " 'KONA_010',\n",
       " 'KONA_011',\n",
       " 'KONA_012',\n",
       " 'KONA_013',\n",
       " 'KONA_014',\n",
       " 'KONA_015',\n",
       " 'KONA_016',\n",
       " 'KONA_017',\n",
       " 'KONA_018',\n",
       " 'KONA_019',\n",
       " 'KONA_020',\n",
       " 'KONA_073',\n",
       " 'SERC_007',\n",
       " 'SERC_008',\n",
       " 'SERC_018',\n",
       " 'STER_005',\n",
       " 'STER_006',\n",
       " 'STER_010',\n",
       " 'STER_011',\n",
       " 'STER_012',\n",
       " 'STER_016',\n",
       " 'STER_018',\n",
       " 'STER_026',\n",
       " 'STER_027',\n",
       " 'STER_028',\n",
       " 'STER_029',\n",
       " 'STER_031',\n",
       " 'STER_032',\n",
       " 'STER_033',\n",
       " 'STER_034',\n",
       " 'STER_035'}"
      ]
     },
     "execution_count": 53,
     "metadata": {},
     "output_type": "execute_result"
    }
   ],
   "source": [
    "feature.keys() & sampleDictionary.keys()"
   ]
  },
  {
   "cell_type": "code",
   "execution_count": 125,
   "id": "f3f35978-24f4-4006-ac13-1a850b4477d8",
   "metadata": {},
   "outputs": [
    {
     "data": {
      "text/plain": [
       "dict_keys(['BART_034', 'HARV_049', 'HARV_050', 'RMNP_047', 'TREE_056', 'UNDE_044', 'UNDE_048', 'UNDE_053'])"
      ]
     },
     "execution_count": 125,
     "metadata": {},
     "output_type": "execute_result"
    }
   ],
   "source": [
    "sampleDictionary.keys()"
   ]
  },
  {
   "cell_type": "code",
   "execution_count": 76,
   "id": "68309abe-5a93-4648-a0d1-27b323dd8e2f",
   "metadata": {},
   "outputs": [
    {
     "data": {
      "text/plain": [
       "['projects/ee-modis250/assets/validationCCRS/CCRSInSituLAI2019_HayRiverv3',\n",
       " 'projects/ee-modis250/assets/validationCCRS/CCRSInSituLAI2019_Labradorv3',\n",
       " 'projects/ee-modis250/assets/validationCCRS/CCRSInSituLAI2019_MerBleuv3',\n",
       " 'projects/ee-modis250/assets/validationCCRS/CCRSInSituLAI2019_MtPolleyv3',\n",
       " 'projects/ee-modis250/assets/validationCCRS/CCRSInSituLAI2019_PeaceRiverv3',\n",
       " 'projects/ee-modis250/assets/validationCCRS/CCRSInSituLAI2019_TurkeyPointv3',\n",
       " 'projects/ee-modis250/assets/validationCCRS/CCRSInSituLAI2019_VancouverIslandv3',\n",
       " 'projects/ee-modis250/assets/validationCCRS/CCRSInSituLAI2019_Yellowknifev3',\n",
       " 'projects/ee-modis250/assets/validationCCRS/CCRSInSituLAI2020_RingOfFirev3',\n",
       " 'projects/ee-modis250/assets/validationCCRS/CCRSInSituLAI2021_NovaScotiav3']"
      ]
     },
     "execution_count": 76,
     "metadata": {},
     "output_type": "execute_result"
    }
   ],
   "source": [
    "keys=list(feature.keys())\n",
    "keys"
   ]
  },
  {
   "cell_type": "code",
   "execution_count": 79,
   "id": "786c1bd3-c123-4d7f-87ad-95932662b2ca",
   "metadata": {},
   "outputs": [
    {
     "data": {
      "text/plain": [
       "{'feature': {'BF': 0,\n",
       "  'Camera_Down': 'NikonD300Fisheye',\n",
       "  'Camera_UP': 'NikonD850Fisheye',\n",
       "  'Daily_Integrated_Black_Sk_yfAPAR_Up': 0,\n",
       "  'Daily_Integrated_Black_Sky_fAPAR_Down': 0.2800000011920929,\n",
       "  'Daily_Integrated_Black_Sky_fAPAR_Total': 0.2800000011920929,\n",
       "  'Date': '2019-09-07T00:00:00',\n",
       "  'Date_Processed_Down': 43826,\n",
       "  'Date_Processed_Up': 43822,\n",
       "  'Grass': 0,\n",
       "  'Herbacious': 0,\n",
       "  'LAICEV61_Total': 0.351500004529953,\n",
       "  'LAICEV61std_total': 0,\n",
       "  'Lichen': 0,\n",
       "  'Litter': 0,\n",
       "  'Location': 'HayRiver2019',\n",
       "  'Mineral': 0,\n",
       "  'Moss': 1,\n",
       "  'NF': 1,\n",
       "  'Number_Photos_Down': 14,\n",
       "  'Number_Photos_Total': 28,\n",
       "  'Number_Photos_Up': 14,\n",
       "  'PAICEV51_Down': 0.3700000047683716,\n",
       "  'PAICEV51_Total': 0.3700000047683716,\n",
       "  'PAICEV51_Up': 0,\n",
       "  'PAICEV61_Down': 0.3700000047683716,\n",
       "  'PAICEV61_Total': 0.3700000047683716,\n",
       "  'PAICEV61_Up': 0,\n",
       "  'PAIEMiller_Down': 0.3400000035762787,\n",
       "  'PAIEMiller_Total': 0.3400000035762787,\n",
       "  'PAIEMiller_Up': 0,\n",
       "  'PAIeCEV51_Down': 0.3499999940395355,\n",
       "  'PAIeCEV51_Total': 0.3499999940395355,\n",
       "  'PAIeCEV51_Up': 0,\n",
       "  'PAIeCEV61_Down': 0.3100000023841858,\n",
       "  'PAIeCEV61_Total': 0.3100000023841858,\n",
       "  'PAIeCEV61_Up': 0,\n",
       "  'PAIeLAI2000(3)_Down': 0.38999998569488525,\n",
       "  'PAIeLAI2000(3)_Total': 0.38999998569488525,\n",
       "  'PAIeLAI2000(3)_Up': 0,\n",
       "  'PAIeLAI2000(4)_Down': 0.36000001430511475,\n",
       "  'PAIeLAI2000(4)_Total': 0.36000001430511475,\n",
       "  'PAIeLAI2000(4)_Up': 0,\n",
       "  'PAIeLAI2000(5)_Down': 0.30000001192092896,\n",
       "  'PAIeLAI2000(5)_Total': 0.30000001192092896,\n",
       "  'PAIeLAI2000(5)_Up': 0,\n",
       "  'PlotID': 'HR_plot18_T1_07SEP2020',\n",
       "  'Saturated_Cells_%_Average': 0,\n",
       "  'Saturated_Cells_%_Down': 0,\n",
       "  'Saturated_Cells_%_Up': 0,\n",
       "  'Time_Processing_Down': 11.710000038146973,\n",
       "  'Time_Processing_Total': 11.710000038146973,\n",
       "  'Time_Processing_Up': 0,\n",
       "  'User_Dpwn': 'PATRICK',\n",
       "  'User_Up': 'PATRICK',\n",
       "  'Version_Down': 'CANEYE0',\n",
       "  'Version_Up': 'CANEYEV6.495',\n",
       "  'White_Sky_fAPAR_Down': 0.25,\n",
       "  'White_Sky_fAPAR_Total': 0.25,\n",
       "  'White_Sky_fAPAR_Up': 0,\n",
       "  'Woody_Fraction_average': 0.17000000178813934,\n",
       "  'Woody_Fraction_std': 0.10999999940395355,\n",
       "  'fcover_Down': 0.18299999833106995,\n",
       "  'fcover_Total': 0.18299999833106995,\n",
       "  'fcover_Up': 0,\n",
       "  'fcoverstd_Down': 0.0860000029206276,\n",
       "  'fcoverstd_Total': 0.02298438549041748,\n",
       "  'fcoverstd_Up': 0,\n",
       "  'timeStart': 1567814400000},\n",
       " 'SL2PV1':              date  QC   longitude   latitude  s2cloudless_probability  \\\n",
       " 0   1567970253782   0 -116.498111  60.735847                    60.25   \n",
       " 1   1567970253782   0 -116.497011  60.735843                    37.75   \n",
       " 2   1567970253782   0 -116.498103  60.736386                    27.25   \n",
       " 3   1567970253782   0 -116.497003  60.736382                    34.25   \n",
       " 4   1567970253782   0 -116.498103  60.736386                    19.25   \n",
       " 5   1567970253782   0 -116.497003  60.736382                    13.25   \n",
       " 6   1568142452907   0 -116.498111  60.735847                     6.75   \n",
       " 7   1568142452907   0 -116.497011  60.735843                     6.25   \n",
       " 8   1568142452907   0 -116.498103  60.736386                     7.00   \n",
       " 9   1568142452907   0 -116.497003  60.736382                     7.00   \n",
       " 10  1568142452907   0 -116.498103  60.736386                     6.75   \n",
       " 11  1568142452907   0 -116.497003  60.736382                     6.25   \n",
       " 12  1568230049755   0 -116.498111  60.735847                     2.75   \n",
       " 13  1568230049755   0 -116.497011  60.735843                     3.25   \n",
       " 14  1568230049755   0 -116.498103  60.736386                     2.75   \n",
       " 15  1568230049755   0 -116.497003  60.736382                     4.50   \n",
       " 16  1568230049755   0 -116.498103  60.736386                     3.50   \n",
       " 17  1568230049755   0 -116.497003  60.736382                     5.25   \n",
       " \n",
       "     estimatefAPAR  partition  networkID  errorfAPAR  \n",
       " 0        0.234415          8          7    0.026801  \n",
       " 1        0.261736          8          7    0.026779  \n",
       " 2        0.249351          8          7    0.028762  \n",
       " 3        0.215474          6         11    0.023738  \n",
       " 4        0.249351          8          7    0.028762  \n",
       " 5        0.215474          6         11    0.023738  \n",
       " 6        0.267484          8          7    0.022516  \n",
       " 7        0.251795          8          7    0.020308  \n",
       " 8        0.319020          8          7    0.022945  \n",
       " 9        0.264362          6         11    0.018562  \n",
       " 10       0.319020          8          7    0.022945  \n",
       " 11       0.264362          6         11    0.018562  \n",
       " 12       0.253351          8          7    0.010491  \n",
       " 13       0.225590          8          7    0.008693  \n",
       " 14       0.292048          8          7    0.010477  \n",
       " 15       0.221931          6         11    0.008057  \n",
       " 16       0.292048          8          7    0.010477  \n",
       " 17       0.221931          6         11    0.008057  }"
      ]
     },
     "execution_count": 79,
     "metadata": {},
     "output_type": "execute_result"
    }
   ],
   "source": [
    "feature[keys[0]][0]"
   ]
  },
  {
   "cell_type": "code",
   "execution_count": null,
   "id": "417409fd-249b-4ba3-ac19-e843c9546f5e",
   "metadata": {},
   "outputs": [],
   "source": []
  }
 ],
 "metadata": {
  "kernelspec": {
   "display_name": "Python 3 (ipykernel)",
   "language": "python",
   "name": "python3"
  },
  "language_info": {
   "codemirror_mode": {
    "name": "ipython",
    "version": 3
   },
   "file_extension": ".py",
   "mimetype": "text/x-python",
   "name": "python",
   "nbconvert_exporter": "python",
   "pygments_lexer": "ipython3",
   "version": "3.12.0"
  }
 },
 "nbformat": 4,
 "nbformat_minor": 5
}
