{
 "cells": [
  {
   "cell_type": "code",
   "execution_count": 139,
   "id": "61268aae-35cd-4e3f-9192-72d92921f0ce",
   "metadata": {},
   "outputs": [],
   "source": [
    "import ee\n",
    "ee.Authenticate()\n",
    "ee.Initialize()\n",
    "import LEAF\n",
    "import SL2PV0 \n",
    "import SL2PV1"
   ]
  },
  {
   "cell_type": "code",
   "execution_count": 140,
   "id": "adbe93b2-ee1b-47a2-8a10-c5a013c147d1",
   "metadata": {},
   "outputs": [],
   "source": [
    "import os, pickle\n",
    "from datetime import datetime\n",
    "import numpy as np\n",
    "from matplotlib import pyplot as plt\n",
    "import pandas as pd\n",
    "import itertools"
   ]
  },
  {
   "cell_type": "code",
   "execution_count": 141,
   "id": "edff371b-6898-4eb4-9a6e-fa9ffb2653eb",
   "metadata": {},
   "outputs": [
    {
     "name": "stdout",
     "output_type": "stream",
     "text": [
      "C:/Djamai_Najib/1_vegetation_parameters/1_scripts/LS_S2_fusion_check/data/Surface_Reflectance/S2/\n"
     ]
    }
   ],
   "source": [
    "nlcd='deciduousForest'\n",
    "variable=\"Surface_Reflectance\"\n",
    "sensor='S2'\n",
    "datapath='C:/Djamai_Najib/1_vegetation_parameters/1_scripts/LS_S2_fusion_check/data/%s/%s/'%(variable,sensor)\n",
    "print(datapath)"
   ]
  },
  {
   "cell_type": "code",
   "execution_count": 142,
   "id": "0fd16889-ec8b-4351-94c6-7fdf72c06dd2",
   "metadata": {},
   "outputs": [],
   "source": [
    "siteList=[\"projects/ee-modis250/assets/validationGBOV/NEON_2013-22_RMs_updated_parsed\"]"
   ]
  },
  {
   "cell_type": "code",
   "execution_count": 143,
   "id": "d094a2ed-c014-4b73-8303-8a0bd0923082",
   "metadata": {},
   "outputs": [],
   "source": [
    "input=siteList[0]\n",
    "sampleRecords =  ee.FeatureCollection(input).sort('system:time_start', False).map(lambda feature: feature.set('timeStart',feature.get('system:time_start')))\n",
    "sampleRecords =  sampleRecords.toList(sampleRecords.size()).getInfo()"
   ]
  },
  {
   "cell_type": "code",
   "execution_count": 144,
   "id": "456af32c-21af-41d7-9fab-b40be288c2e1",
   "metadata": {},
   "outputs": [],
   "source": [
    "ESUs=[ss ['properties']['PLOT_ID'] for ss in sampleRecords ]"
   ]
  },
  {
   "cell_type": "code",
   "execution_count": 145,
   "id": "f645b8a2-f574-41de-a2c6-5640ae76d50b",
   "metadata": {},
   "outputs": [],
   "source": [
    "# ESUs=['ABBY_067', 'ABBY_068', 'ABBY_069', 'BARR_052', 'BARR_056',       'BARR_072', 'BART_034', 'BART_041', 'BART_047', 'BLAN_034',       'BLAN_048', 'BLAN_052', 'BONA_070', 'BONA_080', 'BONA_082',       'BONA_084', 'BONA_089', 'CLBJ_001', 'CLBJ_002', 'CLBJ_003',\n",
    "#        'CLBJ_021', 'CLBJ_029', 'CPER_001', 'CPER_002', 'CPER_003',       'CPER_004', 'CPER_005', 'CPER_006', 'CPER_007', 'CPER_008',       'CPER_009', 'CPER_010', 'CPER_011', 'CPER_012', 'CPER_013',       'CPER_014', 'CPER_015', 'CPER_016', 'CPER_017', 'CPER_018',       'CPER_019', 'CPER_020', 'CPER_046', 'CPER_056', 'CPER_062',       'DCFS_069', 'DCFS_081', 'DCFS_090', 'DEJU_052', 'DEJU_056',\n",
    "#        'DEJU_061', 'DELA_044', 'DELA_046', 'DELA_051', 'DELA_053',       'DSNY_053', 'DSNY_061', 'DSNY_066', 'GRSM_064', 'GRSM_065',       'GRSM_066', 'GUAN_052', 'GUAN_054', 'GUAN_055', 'HARV_041',       'HARV_049', 'HARV_050', 'HEAL_048', 'HEAL_063', 'HEAL_070',\n",
    "#        'JERC_047', 'JERC_050', 'JERC_054', 'JERC_060', 'JERC_062',       'JORN_053', 'JORN_055', 'JORN_061', 'KONA_070', 'KONA_071',       'KONA_074', 'KONZ_042', 'KONZ_050', 'KONZ_051', 'KONZ_068',       'LAJA_047', 'LAJA_054', 'LAJA_065', 'LENO_063', 'LENO_064',\n",
    "#        'LENO_067', 'MLBS_069', 'MLBS_071', 'MLBS_074', 'MOAB_049',       'MOAB_061', 'MOAB_070', 'NIWO_048', 'NIWO_054', 'NIWO_056',       'NIWO_060', 'NOGP_072', 'NOGP_073', 'NOGP_087', 'OAES_042',       'OAES_043', 'OAES_044', 'ONAQ_051', 'ONAQ_060', 'ONAQ_069',\n",
    "#        'ORNL_001', 'ORNL_002', 'ORNL_003', 'ORNL_004', 'ORNL_006',       'ORNL_007', 'ORNL_008', 'ORNL_009', 'ORNL_010', 'ORNL_012',       'ORNL_014', 'ORNL_021', 'ORNL_027', 'ORNL_029', 'ORNL_045',       'ORNL_050', 'ORNL_054', 'OSBS_025', 'OSBS_030', 'OSBS_038',\n",
    "#        'RMNP_045', 'RMNP_046',       'RMNP_047', 'SCBI_049', 'SCBI_062', 'SCBI_063', 'SERC_003',       'SERC_005', 'SERC_010', 'SERC_011', 'SERC_016', 'SERC_052',       'SERC_053', 'SERC_054', 'SERC_061', 'SERC_062', 'SJER_049',\n",
    "#        'SJER_055', 'SJER_057', 'SOAP_047', 'SOAP_054', 'SOAP_058',       'SRER_046', 'SRER_048', 'SRER_057', 'STEI_046', 'STEI_055',       'STEI_058', 'STER_008', 'STER_009', 'STER_014', 'TALL_046',       'TALL_048', 'TALL_049', 'TEAK_046', 'TEAK_047', 'TEAK_057',\n",
    "#        'TOOL_041', 'TOOL_042', 'TOOL_043', 'TREE_053', 'TREE_055',       'TREE_056', 'UKFS_047', 'UKFS_051', 'UKFS_053', 'UKFS_058',       'UNDE_044', 'UNDE_045', 'UNDE_048', 'UNDE_053', 'UNDE_057',       'UNDE_059', 'WOOD_044', 'WOOD_058', 'WOOD_064', 'WOOD_069',\n",
    "#        'WREF_070', 'WREF_074', 'WREF_078', 'WREF_081', 'WREF_082',       'WREF_086', 'WREF_088', 'YELL_050', 'YELL_057', 'YELL_060'] #'PUUM_031', 'PUUM_039', 'PUUM_041',"
   ]
  },
  {
   "cell_type": "code",
   "execution_count": 146,
   "id": "7c5fc07d-ccc5-4b97-800f-ebb5b9fecacb",
   "metadata": {},
   "outputs": [
    {
     "data": {
      "text/plain": [
       "1"
      ]
     },
     "execution_count": 146,
     "metadata": {},
     "output_type": "execute_result"
    }
   ],
   "source": [
    "1"
   ]
  },
  {
   "cell_type": "code",
   "execution_count": 147,
   "id": "82185822-0421-4bbb-a460-3c3b3589c8fc",
   "metadata": {
    "editable": true,
    "slideshow": {
     "slide_type": ""
    },
    "tags": []
   },
   "outputs": [
    {
     "name": "stdout",
     "output_type": "stream",
     "text": [
      "[] 0\n"
     ]
    }
   ],
   "source": [
    "exist_files=[ff for ff in os.listdir(datapath) if ff.endswith('.pkl') and nlcd in ff and variable in ff]\n",
    "exist_data=[]\n",
    "for ff in exist_files:\n",
    "    with open(os.path.join(datapath,ff), \"rb\") as fp:   #Pickling\n",
    "        data = pickle.load(fp)\n",
    "    exist_data=exist_data+list(data.keys())\n",
    "print(exist_files,len(np.unique(exist_data)))"
   ]
  },
  {
   "cell_type": "code",
   "execution_count": 148,
   "id": "402196f4-b509-4de6-a1cc-4b1926f74f73",
   "metadata": {
    "editable": true,
    "slideshow": {
     "slide_type": ""
    },
    "tags": []
   },
   "outputs": [
    {
     "name": "stdout",
     "output_type": "stream",
     "text": [
      "14141 249 0 249\n"
     ]
    }
   ],
   "source": [
    "all_sites=[ss ['properties']['PLOT_ID'] for ss in sampleRecords ]\n",
    "nlcd_sites=np.unique([ss ['properties']['PLOT_ID'] for ss in sampleRecords if ss ['properties']['nlcd']==nlcd])\n",
    "add_ESUs=np.unique([esu for esu in ESUs if esu not in exist_data and esu in nlcd_sites])\n",
    "print(len(all_sites),len(nlcd_sites),len(exist_data),len(add_ESUs))"
   ]
  },
  {
   "cell_type": "code",
   "execution_count": 149,
   "id": "da52450a-0cdc-435b-badb-f4040d8807a4",
   "metadata": {},
   "outputs": [
    {
     "data": {
      "text/plain": [
       "249"
      ]
     },
     "execution_count": 149,
     "metadata": {},
     "output_type": "execute_result"
    }
   ],
   "source": [
    "plots_idx=[all_sites.index(ss) for ss in add_ESUs]\n",
    "len(plots_idx)"
   ]
  },
  {
   "cell_type": "code",
   "execution_count": 150,
   "id": "7bc2728d-a9b6-40e9-8720-d1f990ca709c",
   "metadata": {},
   "outputs": [
    {
     "data": {
      "text/plain": [
       "[6342,\n",
       " 5882,\n",
       " 5419,\n",
       " 163,\n",
       " 4926,\n",
       " 4455,\n",
       " 781,\n",
       " 53,\n",
       " 12352,\n",
       " 51,\n",
       " 11421,\n",
       " 11429,\n",
       " 11422,\n",
       " 11423,\n",
       " 10917,\n",
       " 10910,\n",
       " 10913,\n",
       " 11424,\n",
       " 10930,\n",
       " 20,\n",
       " 149,\n",
       " 515,\n",
       " 1873,\n",
       " 6332,\n",
       " 1877,\n",
       " 108,\n",
       " 124,\n",
       " 32,\n",
       " 557,\n",
       " 558,\n",
       " 241,\n",
       " 240,\n",
       " 239,\n",
       " 361,\n",
       " 365,\n",
       " 4204,\n",
       " 6078,\n",
       " 4200,\n",
       " 8375,\n",
       " 6082,\n",
       " 5629,\n",
       " 6997,\n",
       " 4208,\n",
       " 8377,\n",
       " 4194,\n",
       " 345,\n",
       " 82,\n",
       " 96,\n",
       " 103,\n",
       " 8601,\n",
       " 238,\n",
       " 220,\n",
       " 8587,\n",
       " 5599,\n",
       " 3560,\n",
       " 715,\n",
       " 1167,\n",
       " 722,\n",
       " 7321,\n",
       " 676,\n",
       " 221,\n",
       " 3564,\n",
       " 2864,\n",
       " 669,\n",
       " 8586,\n",
       " 672,\n",
       " 3557,\n",
       " 178,\n",
       " 184,\n",
       " 182,\n",
       " 11903,\n",
       " 11504,\n",
       " 11006,\n",
       " 11914,\n",
       " 11913,\n",
       " 11005,\n",
       " 4872,\n",
       " 5377,\n",
       " 7680,\n",
       " 4875,\n",
       " 5378,\n",
       " 9009,\n",
       " 4410,\n",
       " 1037,\n",
       " 4056,\n",
       " 7010,\n",
       " 305,\n",
       " 294,\n",
       " 7009,\n",
       " 313,\n",
       " 7011,\n",
       " 8683,\n",
       " 6,\n",
       " 3,\n",
       " 1604,\n",
       " 2027,\n",
       " 5558,\n",
       " 8249,\n",
       " 11160,\n",
       " 11626,\n",
       " 11630,\n",
       " 8240,\n",
       " 9185,\n",
       " 5554,\n",
       " 3507,\n",
       " 1594,\n",
       " 11624,\n",
       " 12099,\n",
       " 12094,\n",
       " 12093,\n",
       " 1614,\n",
       " 8246,\n",
       " 12091,\n",
       " 11621,\n",
       " 68,\n",
       " 79,\n",
       " 65,\n",
       " 2318,\n",
       " 4039,\n",
       " 4031,\n",
       " 1915,\n",
       " 3103,\n",
       " 1467,\n",
       " 1122,\n",
       " 3106,\n",
       " 1117,\n",
       " 648,\n",
       " 3104,\n",
       " 5590,\n",
       " 2813,\n",
       " 10650,\n",
       " 1123,\n",
       " 60,\n",
       " 602,\n",
       " 599,\n",
       " 600,\n",
       " 59,\n",
       " 9235,\n",
       " 6904,\n",
       " 902,\n",
       " 3896,\n",
       " 11420,\n",
       " 10348,\n",
       " 168,\n",
       " 4017,\n",
       " 13412,\n",
       " 6414,\n",
       " 6415,\n",
       " 12505,\n",
       " 4971,\n",
       " 2789,\n",
       " 3455,\n",
       " 4494,\n",
       " 5913,\n",
       " 4970,\n",
       " 6413,\n",
       " 8499,\n",
       " 5486,\n",
       " 6508,\n",
       " 6501,\n",
       " 6006,\n",
       " 12905,\n",
       " 237,\n",
       " 9,\n",
       " 16,\n",
       " 5837,\n",
       " 4982,\n",
       " 3467,\n",
       " 1028,\n",
       " 2303,\n",
       " 4504,\n",
       " 5933,\n",
       " 2304,\n",
       " 3463,\n",
       " 4990,\n",
       " 5499,\n",
       " 5831,\n",
       " 3460,\n",
       " 5828,\n",
       " 4981,\n",
       " 5825,\n",
       " 1899,\n",
       " 1316,\n",
       " 150,\n",
       " 147,\n",
       " 130,\n",
       " 227,\n",
       " 422,\n",
       " 10023,\n",
       " 10494,\n",
       " 653,\n",
       " 654,\n",
       " 1127,\n",
       " 10493,\n",
       " 2718,\n",
       " 1130,\n",
       " 13672,\n",
       " 10022,\n",
       " 10483,\n",
       " 10015,\n",
       " 6807,\n",
       " 10021,\n",
       " 13683,\n",
       " 13671,\n",
       " 141,\n",
       " 129,\n",
       " 142,\n",
       " 7460,\n",
       " 4519,\n",
       " 4178,\n",
       " 4179,\n",
       " 8342,\n",
       " 4999,\n",
       " 11105,\n",
       " 3033,\n",
       " 7728,\n",
       " 12307,\n",
       " 12298,\n",
       " 937,\n",
       " 547,\n",
       " 509,\n",
       " 1145,\n",
       " 1144,\n",
       " 8250,\n",
       " 1143,\n",
       " 8239,\n",
       " 5062,\n",
       " 2359,\n",
       " 4558,\n",
       " 8248,\n",
       " 4566,\n",
       " 2360,\n",
       " 2362,\n",
       " 1150,\n",
       " 8247,\n",
       " 2361,\n",
       " 1146,\n",
       " 5070,\n",
       " 0,\n",
       " 1,\n",
       " 120,\n",
       " 12458,\n",
       " 9688,\n",
       " 12450,\n",
       " 2014,\n",
       " 2016,\n",
       " 9154,\n",
       " 683,\n",
       " 24]"
      ]
     },
     "execution_count": 150,
     "metadata": {},
     "output_type": "execute_result"
    }
   ],
   "source": [
    "plots_idx"
   ]
  },
  {
   "cell_type": "code",
   "execution_count": 151,
   "id": "a093d214-ad74-454a-8828-42b7686fd817",
   "metadata": {},
   "outputs": [],
   "source": [
    "dict={'HLS':{'collection':'NASA/HLS/HLSL30/v002','scale':30,'buffer':45},'LC08':{'collection':'LANDSAT/LC08/C02/T1_L2','scale':30,'buffer':45},'S2':{'collection':'COPERNICUS/S2_SR_HARMONIZED','scale':20,'buffer':30}}"
   ]
  },
  {
   "cell_type": "code",
   "execution_count": 152,
   "id": "c5d8ea74-f0bb-41b5-90c9-7e7751e77cc4",
   "metadata": {},
   "outputs": [
    {
     "data": {
      "text/plain": [
       "{'collection': 'COPERNICUS/S2_SR_HARMONIZED', 'scale': 20, 'buffer': 30}"
      ]
     },
     "execution_count": 152,
     "metadata": {},
     "output_type": "execute_result"
    }
   ],
   "source": [
    "dict[sensor]"
   ]
  },
  {
   "cell_type": "code",
   "execution_count": null,
   "id": "3a0fd93f-1d40-48e8-afb9-a8ccbec4c9ca",
   "metadata": {},
   "outputs": [
    {
     "name": "stdout",
     "output_type": "stream",
     "text": [
      "STARTING LEAF IMAGE for  COPERNICUS/S2_SR_HARMONIZED\n",
      "BART_002\n",
      "BART_003\n",
      "BART_006\n",
      "BART_010\n",
      "BART_012\n",
      "BART_013\n",
      "BART_036\n",
      "BART_041\n",
      "BART_046\n",
      "BART_047\n",
      "BLAN_001\n",
      "BLAN_007\n",
      "BLAN_009\n",
      "BLAN_011\n",
      "BLAN_012\n"
     ]
    }
   ],
   "source": [
    "data = LEAF.sampleTimeSeries(siteList, \\\n",
    "                                                imageCollectionName=dict[sensor]['collection'],\\\n",
    "                                                algorithm=SL2PV1, \n",
    "                                                variableName=variable,\\\n",
    "                                                maxCloudcover=90,\\\n",
    "                                                outputScaleSize=dict[sensor]['scale'],\\\n",
    "                                                inputScaleSize=dict[sensor]['scale'],\\\n",
    "                                                bufferSpatialSize = dict[sensor]['buffer'],\\\n",
    "                                                bufferTemporalSize =[\"2018-01-01\",\"2023-12-31\"],  \\\n",
    "                                                subsamplingFraction = 0.99,\\\n",
    "                                                outputFileName=datapath,\\\n",
    "                                                nlcd=nlcd,\\\n",
    "                                                plots=plots_idx)"
   ]
  },
  {
   "cell_type": "code",
   "execution_count": 84,
   "id": "bf18203c-3549-49c3-b652-a848c676f386",
   "metadata": {
    "editable": true,
    "slideshow": {
     "slide_type": ""
    },
    "tags": []
   },
   "outputs": [
    {
     "data": {
      "text/plain": [
       "1"
      ]
     },
     "execution_count": 84,
     "metadata": {},
     "output_type": "execute_result"
    }
   ],
   "source": [
    "1"
   ]
  },
  {
   "cell_type": "code",
   "execution_count": null,
   "id": "fe3bc571-d2ca-41b8-9e7d-be2851c39d36",
   "metadata": {},
   "outputs": [],
   "source": []
  }
 ],
 "metadata": {
  "kernelspec": {
   "display_name": "Python 3 (ipykernel)",
   "language": "python",
   "name": "python3"
  },
  "language_info": {
   "codemirror_mode": {
    "name": "ipython",
    "version": 3
   },
   "file_extension": ".py",
   "mimetype": "text/x-python",
   "name": "python",
   "nbconvert_exporter": "python",
   "pygments_lexer": "ipython3",
   "version": "3.12.0"
  }
 },
 "nbformat": 4,
 "nbformat_minor": 5
}
