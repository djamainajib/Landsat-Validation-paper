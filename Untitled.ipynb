{
 "cells": [
  {
   "cell_type": "code",
   "execution_count": 4,
   "id": "6bc31400-9dae-4983-bcd0-adc548722c49",
   "metadata": {},
   "outputs": [],
   "source": [
    "import ee\n",
    "ee.Authenticate()\n",
    "ee.Initialize()\n",
    "import LEAF\n",
    "import SL2PV0 \n",
    "import SL2PV1"
   ]
  },
  {
   "cell_type": "code",
   "execution_count": 5,
   "id": "bb3c2954-cfd8-4fa0-a2b1-2e69208633ae",
   "metadata": {},
   "outputs": [],
   "source": [
    "import os, pickle\n",
    "from datetime import datetime\n",
    "import numpy as np\n",
    "from matplotlib import pyplot as plt\n",
    "import pandas as pd\n",
    "import itertools"
   ]
  },
  {
   "cell_type": "code",
   "execution_count": 11,
   "id": "cb3221ae-7aae-4edf-afe1-706017dbad5b",
   "metadata": {},
   "outputs": [
    {
     "name": "stdout",
     "output_type": "stream",
     "text": [
      "C:/Djamai_Najib/1_vegetation_parameters/1_scripts/LS_S2_fusion_check/data/Surface_Reflectance/S2/\n"
     ]
    }
   ],
   "source": [
    "nlcd='shrubScrub'\n",
    "variable=\"Surface_Reflectance\"\n",
    "sensor='S2'\n",
    "datapath='C:/Djamai_Najib/1_vegetation_parameters/1_scripts/LS_S2_fusion_check/data/%s/%s/'%(variable,sensor)\n",
    "print(datapath)"
   ]
  },
  {
   "cell_type": "code",
   "execution_count": 12,
   "id": "ac396e48-b028-4f40-ab05-4dc0f96ab83b",
   "metadata": {},
   "outputs": [],
   "source": [
    "siteList=[\"projects/ee-modis250/assets/validationGBOV/NEON_2013-22_RMs_updated_parsed\"]"
   ]
  },
  {
   "cell_type": "code",
   "execution_count": 13,
   "id": "4f949a9d-c06e-4127-85e7-80e56fcd113f",
   "metadata": {},
   "outputs": [],
   "source": [
    "input=siteList[0]\n",
    "sampleRecords =  ee.FeatureCollection(input).sort('system:time_start', False).map(lambda feature: feature.set('timeStart',feature.get('system:time_start')))\n",
    "sampleRecords =  sampleRecords.toList(sampleRecords.size()).getInfo()"
   ]
  },
  {
   "cell_type": "code",
   "execution_count": 14,
   "id": "d29de6fa-fae2-4995-b027-306e7fcef8fd",
   "metadata": {},
   "outputs": [],
   "source": [
    "ESUs=[ss ['properties']['PLOT_ID'] for ss in sampleRecords ]"
   ]
  },
  {
   "cell_type": "code",
   "execution_count": 15,
   "id": "c882e823-a84b-457e-9093-04fc804204dd",
   "metadata": {},
   "outputs": [
    {
     "name": "stdout",
     "output_type": "stream",
     "text": [
      "[] 0\n"
     ]
    }
   ],
   "source": [
    "exist_files=[ff for ff in os.listdir(datapath) if ff.endswith('.pkl') and nlcd in ff and variable in ff]\n",
    "exist_data=[]\n",
    "for ff in exist_files:\n",
    "    with open(os.path.join(datapath,ff), \"rb\") as fp:   #Pickling\n",
    "        data = pickle.load(fp)\n",
    "    exist_data=exist_data+list(data.keys())\n",
    "print(exist_files,len(np.unique(exist_data)))"
   ]
  },
  {
   "cell_type": "code",
   "execution_count": 16,
   "id": "2c610a5c-ea77-4608-8c8e-76ab0c1a4c3f",
   "metadata": {},
   "outputs": [
    {
     "name": "stdout",
     "output_type": "stream",
     "text": [
      "14141 139 0 139\n"
     ]
    }
   ],
   "source": [
    "all_sites=[ss ['properties']['PLOT_ID'] for ss in sampleRecords ]\n",
    "nlcd_sites=np.unique([ss ['properties']['PLOT_ID'] for ss in sampleRecords if ss ['properties']['nlcd']==nlcd])\n",
    "add_ESUs=np.unique([esu for esu in ESUs if esu not in exist_data and esu in nlcd_sites])\n",
    "print(len(all_sites),len(nlcd_sites),len(exist_data),len(add_ESUs))"
   ]
  },
  {
   "cell_type": "code",
   "execution_count": 17,
   "id": "8066535b-e03e-4c75-a4ba-499388e41cd7",
   "metadata": {},
   "outputs": [
    {
     "data": {
      "text/plain": [
       "139"
      ]
     },
     "execution_count": 17,
     "metadata": {},
     "output_type": "execute_result"
    }
   ],
   "source": [
    "plots_idx=[all_sites.index(ss) for ss in add_ESUs]\n",
    "len(plots_idx)"
   ]
  },
  {
   "cell_type": "code",
   "execution_count": 18,
   "id": "08c4a591-815c-49d5-8a71-f8a6f6a7641d",
   "metadata": {},
   "outputs": [
    {
     "data": {
      "text/plain": [
       "[12053,\n",
       " 12049,\n",
       " 8208,\n",
       " 25,\n",
       " 516,\n",
       " 985,\n",
       " 507,\n",
       " 530,\n",
       " 10449,\n",
       " 528,\n",
       " 540,\n",
       " 116,\n",
       " 122,\n",
       " 527,\n",
       " 534,\n",
       " 7725,\n",
       " 7254,\n",
       " 10516,\n",
       " 11045,\n",
       " 11060,\n",
       " 7255,\n",
       " 11063,\n",
       " 11055,\n",
       " 7722,\n",
       " 7250,\n",
       " 7719,\n",
       " 7247,\n",
       " 11044,\n",
       " 7246,\n",
       " 8139,\n",
       " 10413,\n",
       " 10411,\n",
       " 10412,\n",
       " 10956,\n",
       " 9968,\n",
       " 10410,\n",
       " 9967,\n",
       " 10409,\n",
       " 10408,\n",
       " 10955,\n",
       " 10407,\n",
       " 10406,\n",
       " 9966,\n",
       " 10405,\n",
       " 9965,\n",
       " 6733,\n",
       " 9964,\n",
       " 10954,\n",
       " 9963,\n",
       " 9969,\n",
       " 144,\n",
       " 136,\n",
       " 138,\n",
       " 2380,\n",
       " 3604,\n",
       " 2052,\n",
       " 3613,\n",
       " 2062,\n",
       " 2381,\n",
       " 2383,\n",
       " 2056,\n",
       " 2378,\n",
       " 10667,\n",
       " 10666,\n",
       " 2061,\n",
       " 10665,\n",
       " 3612,\n",
       " 10664,\n",
       " 10663,\n",
       " 10662,\n",
       " 40,\n",
       " 35,\n",
       " 37,\n",
       " 13966,\n",
       " 9320,\n",
       " 767,\n",
       " 3647,\n",
       " 5184,\n",
       " 13964,\n",
       " 9319,\n",
       " 76,\n",
       " 72,\n",
       " 4534,\n",
       " 2838,\n",
       " 1630,\n",
       " 2849,\n",
       " 12916,\n",
       " 1633,\n",
       " 12512,\n",
       " 12511,\n",
       " 1621,\n",
       " 13856,\n",
       " 2835,\n",
       " 1620,\n",
       " 2844,\n",
       " 13908,\n",
       " 54,\n",
       " 50,\n",
       " 57,\n",
       " 2465,\n",
       " 2464,\n",
       " 5068,\n",
       " 9705,\n",
       " 2670,\n",
       " 9524,\n",
       " 8992,\n",
       " 6754,\n",
       " 6282,\n",
       " 5354,\n",
       " 2678,\n",
       " 2667,\n",
       " 6280,\n",
       " 11518,\n",
       " 11025,\n",
       " 2674,\n",
       " 11023,\n",
       " 7704,\n",
       " 11517,\n",
       " 5839,\n",
       " 7703,\n",
       " 7702,\n",
       " 9543,\n",
       " 11516,\n",
       " 236,\n",
       " 255,\n",
       " 268,\n",
       " 1953,\n",
       " 12417,\n",
       " 11560,\n",
       " 5524,\n",
       " 5523,\n",
       " 13801,\n",
       " 5021,\n",
       " 8525,\n",
       " 5022,\n",
       " 5522,\n",
       " 5026,\n",
       " 5023,\n",
       " 8521]"
      ]
     },
     "execution_count": 18,
     "metadata": {},
     "output_type": "execute_result"
    }
   ],
   "source": [
    "plots_idx"
   ]
  },
  {
   "cell_type": "code",
   "execution_count": 19,
   "id": "fdae136e-4037-494e-8fca-31107dbb2620",
   "metadata": {},
   "outputs": [
    {
     "data": {
      "text/plain": [
       "[]"
      ]
     },
     "execution_count": 19,
     "metadata": {},
     "output_type": "execute_result"
    }
   ],
   "source": [
    "[ff for ff in os.listdir(datapath) if ff.endswith('.pkl') and nlcd in ff and variable in ff]"
   ]
  },
  {
   "cell_type": "code",
   "execution_count": 6,
   "id": "9c56613b-6416-433c-bddd-9ff66c79f399",
   "metadata": {},
   "outputs": [
    {
     "ename": "NameError",
     "evalue": "name 'line' is not defined",
     "output_type": "error",
     "traceback": [
      "\u001b[1;31m---------------------------------------------------------------------------\u001b[0m",
      "\u001b[1;31mNameError\u001b[0m                                 Traceback (most recent call last)",
      "Cell \u001b[1;32mIn[6], line 27\u001b[0m\n\u001b[0;32m     21\u001b[0m ax\u001b[38;5;241m.\u001b[39mplot(x_pred,pred[\u001b[38;5;124m'\u001b[39m\u001b[38;5;124mmean_ci_upper\u001b[39m\u001b[38;5;124m'\u001b[39m],linestyle\u001b[38;5;241m=\u001b[39m\u001b[38;5;124m'\u001b[39m\u001b[38;5;124m--\u001b[39m\u001b[38;5;124m'\u001b[39m,color\u001b[38;5;241m=\u001b[39m\u001b[38;5;124m'\u001b[39m\u001b[38;5;124mblue\u001b[39m\u001b[38;5;124m'\u001b[39m)\n\u001b[0;32m     23\u001b[0m \u001b[38;5;66;03m# # Alternative way to plot\u001b[39;00m\n\u001b[0;32m     24\u001b[0m \u001b[38;5;66;03m# def line(x,b=0,m=1):\u001b[39;00m\n\u001b[0;32m     25\u001b[0m \u001b[38;5;66;03m#     return m*x+b\u001b[39;00m\n\u001b[1;32m---> 27\u001b[0m ax\u001b[38;5;241m.\u001b[39mplot(x_pred,\u001b[43mline\u001b[49m(x_pred,est\u001b[38;5;241m.\u001b[39mparams[\u001b[38;5;241m0\u001b[39m],est\u001b[38;5;241m.\u001b[39mparams[\u001b[38;5;241m1\u001b[39m]),color\u001b[38;5;241m=\u001b[39m\u001b[38;5;124m'\u001b[39m\u001b[38;5;124mblue\u001b[39m\u001b[38;5;124m'\u001b[39m)\n",
      "\u001b[1;31mNameError\u001b[0m: name 'line' is not defined"
     ]
    },
    {
     "data": {
      "image/png": "[encoded data removed]",
      "text/plain": [
       "<Figure size 640x480 with 1 Axes>"
      ]
     },
     "metadata": {},
     "output_type": "display_data"
    }
   ],
   "source": [
    "import pandas as pd\n",
    "import statsmodels.api as sm\n",
    "import matplotlib.pyplot as plt\n",
    "\n",
    "df = pd.DataFrame({'year':['1990','1991','1992','1993','1994','1995','1996','1997','1998','1999','2000'],\n",
    "                   'count':[96,184,148,154,160,149,124,274,322,301,300]})\n",
    "df['year'] = df['year'].astype(float)\n",
    "X = sm.add_constant(df['year'].values)\n",
    "ols_model = sm.OLS(df['count'].values, X)\n",
    "est = ols_model.fit()\n",
    "# out = est.conf_int(alpha=0.05, cols=None)\n",
    "\n",
    "fig, ax = plt.subplots()\n",
    "df.plot(x='year',y='count',linestyle='None',marker='s', ax=ax)\n",
    "y_pred = est.predict(X)\n",
    "x_pred = df.year.values\n",
    "ax.plot(x_pred,y_pred)\n",
    "\n",
    "pred = est.get_prediction(X).summary_frame()\n",
    "ax.plot(x_pred,pred['mean_ci_lower'],linestyle='--',color='blue')\n",
    "ax.plot(x_pred,pred['mean_ci_upper'],linestyle='--',color='blue')\n",
    "\n",
    "# # Alternative way to plot\n",
    "# def line(x,b=0,m=1):\n",
    "#     return m*x+b\n",
    "\n",
    "ax.plot(x_pred,line(x_pred,est.params[0],est.params[1]),color='blue')"
   ]
  },
  {
   "cell_type": "code",
   "execution_count": 2,
   "id": "21fa8f9e-d50c-40bc-a683-0f6c0933a1a9",
   "metadata": {},
   "outputs": [
    {
     "data": {
      "text/plain": [
       "array([-3.99528182e+04,  2.01272727e+01])"
      ]
     },
     "execution_count": 2,
     "metadata": {},
     "output_type": "execute_result"
    }
   ],
   "source": [
    "est.params"
   ]
  },
  {
   "cell_type": "code",
   "execution_count": 6,
   "id": "e7f0bd64-b3b2-4de4-b6c2-472374d445e3",
   "metadata": {},
   "outputs": [
    {
     "data": {
      "text/plain": [
       "20.127272727270856"
      ]
     },
     "execution_count": 6,
     "metadata": {},
     "output_type": "execute_result"
    }
   ],
   "source": [
    "est.params[1]"
   ]
  },
  {
   "cell_type": "code",
   "execution_count": 2,
   "id": "92139148-e1ee-4f71-890c-aa9f02d72477",
   "metadata": {},
   "outputs": [
    {
     "data": {
      "text/plain": [
       "1.5"
      ]
     },
     "execution_count": 2,
     "metadata": {},
     "output_type": "execute_result"
    }
   ],
   "source": [
    "78*7/364"
   ]
  },
  {
   "cell_type": "code",
   "execution_count": null,
   "id": "6a6c3d8e-0c17-4d4a-b098-5e42d1464ab0",
   "metadata": {},
   "outputs": [],
   "source": []
  }
 ],
 "metadata": {
  "kernelspec": {
   "display_name": "Python 3 (ipykernel)",
   "language": "python",
   "name": "python3"
  },
  "language_info": {
   "codemirror_mode": {
    "name": "ipython",
    "version": 3
   },
   "file_extension": ".py",
   "mimetype": "text/x-python",
   "name": "python",
   "nbconvert_exporter": "python",
   "pygments_lexer": "ipython3",
   "version": "3.12.0"
  }
 },
 "nbformat": 4,
 "nbformat_minor": 5
}
