{
 "cells": [
  {
   "cell_type": "code",
   "execution_count": 22,
   "id": "126fa5f0-1233-42de-9b4c-a4a8f07f372b",
   "metadata": {},
   "outputs": [],
   "source": [
    "import ee\n",
    "ee.Authenticate()\n",
    "ee.Initialize()"
   ]
  },
  {
   "cell_type": "code",
   "execution_count": 23,
   "id": "b0afdf10-191a-4703-a059-3cc2f3e5af1a",
   "metadata": {},
   "outputs": [],
   "source": [
    "from datetime import timedelta\n",
    "from datetime import datetime\n",
    "import pandas as pd\n",
    "import os\n",
    "import csv"
   ]
  },
  {
   "cell_type": "code",
   "execution_count": 24,
   "id": "f21044a5-c140-46c7-a639-9e5dae390bc1",
   "metadata": {},
   "outputs": [],
   "source": [
    "#siteList=[\"projects/ee-modis250/assets/validationGBOV/COPERNICUS_GBOV_RM7_20220616174529\"]\n",
    "siteList=[\"projects/ee-modis250/assets/validationGBOV/NEON_2013-22_RMs_updated_parsed\"]"
   ]
  },
  {
   "cell_type": "code",
   "execution_count": 25,
   "id": "2b214576-12a2-4efa-98a3-cfae97a7d917",
   "metadata": {},
   "outputs": [],
   "source": [
    "datapath='C:/Djamai_Najib/1_vegetation_parameters/1_scripts/LEAF-Landsat-Validation-paper/data/'"
   ]
  },
  {
   "cell_type": "code",
   "execution_count": 26,
   "id": "644e9cc6-184d-4d12-856e-9ed44c3f85fb",
   "metadata": {},
   "outputs": [],
   "source": [
    "def exel_to_klm(xfn,name_col=3,desc_col=4,lat_col=1,lon_col=2,z_col=0):\n",
    "    if not xfn.endswith('.csv'):\n",
    "        print(\"Enter csv file\")\n",
    "    else:\n",
    "        data = csv.reader(open(xfn), delimiter = ',')\n",
    "        #Skip the 1st header row.\n",
    "        next(data)\n",
    "        print(data)\n",
    "        #Open the file to be written.\n",
    "        klm_file=xfn.replace('.csv','.kml')\n",
    "        f = open(klm_file, 'w')\n",
    "        \n",
    "        #Writing the kml file.\n",
    "        f.write(\"<?xml version='1.0' encoding='UTF-8'?>\\n\")\n",
    "        f.write(\"<kml xmlns='http://earth.google.com/kml/2.1'>\\n\")\n",
    "        f.write(\"<Document>\\n\")\n",
    "        f.write(\"   <name>\" + ofn + '.kml' +\"</name>\\n\")\n",
    "        for row in data:\n",
    "            f.write(\"   <Placemark>\\n\")\n",
    "            f.write(\"       <name>\" + str(row[name_col]) + \"</name>\\n\")\n",
    "            f.write(\"       <description>\" + str(row[desc_col]) + \"</description>\\n\")\n",
    "            f.write(\"       <Point>\\n\")\n",
    "            f.write(\"           <coordinates>\" + str(row[lon_col]) + \",\" + str(row[lat_col]) + \",\" + \"0\" + \"</coordinates>\\n\")\n",
    "            f.write(\"       </Point>\\n\")\n",
    "            f.write(\"   </Placemark>\\n\")\n",
    "        f.write(\"</Document>\\n\")\n",
    "        f.write(\"</kml>\\n\")\n",
    "        print (\"File Created. \")\n",
    "        return klm_file"
   ]
  },
  {
   "cell_type": "code",
   "execution_count": 46,
   "id": "952cff44-66cd-4afc-823d-a74511783b60",
   "metadata": {},
   "outputs": [
    {
     "name": "stdout",
     "output_type": "stream",
     "text": [
      "C:/Djamai_Najib/1_vegetation_parameters/1_scripts/LEAF-Landsat-Validation-paper/data/NEON_2013-22_RMs_updated_parsed.csv\n",
      "<_csv.reader object at 0x000002B2B431BCA0>\n",
      "File Created. \n"
     ]
    }
   ],
   "source": [
    "for input in siteList:   \n",
    "    #Convert the feature collection to a list so we can apply SL2P on features in sequence to avoid time outs on GEE\n",
    "    sampleRecords =  ee.FeatureCollection(input).sort('system:time_start', False).map(lambda feature: feature.set('timeStart',feature.get('system:time_start')))\n",
    "    sampleRecords =  sampleRecords.toList(sampleRecords.size())\n",
    "    site=sampleRecords.getInfo()\n",
    "    df=pd.DataFrame(site)\n",
    "    date=[]\n",
    "    lat=[]\n",
    "    lon=[]\n",
    "    site_name=[]\n",
    "    for ii in range(len(site)):\n",
    "        lon.append(site[ii]['geometry']['coordinates'][0])\n",
    "        lat.append(site[ii]['geometry']['coordinates'][1]) \n",
    "        try:\n",
    "            site_name.append(site[ii]['properties']['Site'])\n",
    "        except:\n",
    "            site_name.append(site[ii]['properties']['NEONSITE'])     \n",
    "        time_start=site[ii]['properties']['system:time_start']\n",
    "        if isinstance(time_start, int):\n",
    "            date.append(datetime.fromtimestamp(site[ii]['properties']['system:time_start']/1000).strftime(\"%m/%d/%Y\"))\n",
    "        else:\n",
    "            date.append(site[ii]['properties']['system:time_start'])    \n",
    "        \n",
    "    df['lat']  = lat\n",
    "    df['lon']  = lon\n",
    "    df['site_name']  = site_name\n",
    "    df['date']  = date\n",
    "    df=df[['lat','lon','site_name','date']]\n",
    "    ofn=os.path.join(datapath,os.path.basename(input)+'.csv')\n",
    "    print(ofn)\n",
    "    df.to_csv(ofn, sep=',')\n",
    "    exel_to_klm(ofn,name_col=2,desc_col=3,lat_col=0,lon_col=1,z_col=0)"
   ]
  },
  {
   "cell_type": "code",
   "execution_count": 47,
   "id": "2d157d33-a02d-47a4-b717-f671a28cd02f",
   "metadata": {},
   "outputs": [
    {
     "name": "stdout",
     "output_type": "stream",
     "text": [
      "<_csv.reader object at 0x000002B2B431A3E0>\n",
      "File Created. \n"
     ]
    },
    {
     "data": {
      "text/plain": [
       "'C:/Djamai_Najib/1_vegetation_parameters/1_scripts/LEAF-Landsat-Validation-paper/data/NEON_2013-22_RMs_updated_parsed.kml'"
      ]
     },
     "execution_count": 47,
     "metadata": {},
     "output_type": "execute_result"
    }
   ],
   "source": [
    "exel_to_klm(ofn,name_col=3,desc_col=4,lat_col=1,lon_col=2,z_col=0)"
   ]
  },
  {
   "cell_type": "code",
   "execution_count": null,
   "id": "6391afc7-819c-41ef-971f-d3e09b5cd263",
   "metadata": {},
   "outputs": [],
   "source": []
  }
 ],
 "metadata": {
  "kernelspec": {
   "display_name": "Python 3 (ipykernel)",
   "language": "python",
   "name": "python3"
  },
  "language_info": {
   "codemirror_mode": {
    "name": "ipython",
    "version": 3
   },
   "file_extension": ".py",
   "mimetype": "text/x-python",
   "name": "python",
   "nbconvert_exporter": "python",
   "pygments_lexer": "ipython3",
   "version": "3.12.0"
  }
 },
 "nbformat": 4,
 "nbformat_minor": 5
}
