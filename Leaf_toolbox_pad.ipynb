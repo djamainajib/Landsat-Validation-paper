{
 "cells": [
  {
   "cell_type": "code",
   "execution_count": 1,
   "id": "74e81b4d-fa70-4545-8894-58685faa00d0",
   "metadata": {},
   "outputs": [],
   "source": [
    "import ee\n",
    "import os\n",
    "import folium\n",
    "import time\n",
    "from folium import plugins\n",
    "import numpy as np\n",
    "import matplotlib.pyplot as plt\n",
    "import pandas as pd\n",
    "import pickle\n",
    "import seaborn as sns\n",
    "import math \n",
    "from sklearn.linear_model import TheilSenRegressor\n",
    "from numpy import nan\n",
    "import scipy\n",
    "import statsmodels.api as sm\n",
    "from tqdm import tqdm\n",
    "from datetime import datetime\n",
    "from sklearn.preprocessing import PolynomialFeatures\n",
    "import numpy.polynomial.chebyshev as cheb\n",
    "from tqdm import tqdm"
   ]
  },
  {
   "cell_type": "code",
   "execution_count": 2,
   "id": "0ec0b5fc-1a29-49be-a897-97504ee25144",
   "metadata": {},
   "outputs": [],
   "source": [
    "ee.Authenticate()\n",
    "ee.Initialize()"
   ]
  },
  {
   "cell_type": "code",
   "execution_count": 3,
   "id": "9c3cdd18-71a3-43ac-a432-fb63c3172b9a",
   "metadata": {},
   "outputs": [],
   "source": [
    "#inputList= [\"projects/ee-modis250/assets/validationGBOV/NEON_2013-22_RMs_updated_parsed\"]\n",
    "inputList=[\"projects/sentinel2downloder/assets/ottawa_site\"]\n",
    "outpath='C:/Djamai_Najib/1_vegetation_parameters/1_scripts/LEAF-Landsat-Validation-paper/data/'"
   ]
  },
  {
   "cell_type": "code",
   "execution_count": 4,
   "id": "93996310-d8e8-4635-9d22-2c462a034ce2",
   "metadata": {},
   "outputs": [
    {
     "name": "stdout",
     "output_type": "stream",
     "text": [
      "LAI file:\n",
      " C:/Djamai_Najib/1_vegetation_parameters/1_scripts/LEAF-Landsat-Validation-paper/data/ottawa_site_LAI.pkl\n",
      "fCOVER file:\n",
      " C:/Djamai_Najib/1_vegetation_parameters/1_scripts/LEAF-Landsat-Validation-paper/data/ottawa_site_fCOVER.pkl\n",
      "fAPAR file:\n",
      " C:/Djamai_Najib/1_vegetation_parameters/1_scripts/LEAF-Landsat-Validation-paper/data/ottawa_site_fAPAR.pkl\n",
      "\n"
     ]
    }
   ],
   "source": [
    "fbasename=os.path.basename(inputList[0])\n",
    "sampleLAIFileName = os.path.join(outpath,fbasename+'_LAI.pkl')\n",
    "samplefCOVERFileName = os.path.join(outpath,fbasename+'_fCOVER.pkl')\n",
    "samplefAPARFileName = os.path.join(outpath,fbasename+'_fAPAR.pkl')\n",
    "print('LAI file:\\n %s\\nfCOVER file:\\n %s\\nfAPAR file:\\n %s\\n'%(sampleLAIFileName,samplefCOVERFileName,samplefAPARFileName))"
   ]
  },
  {
   "cell_type": "code",
   "execution_count": 5,
   "id": "16ca0a46-c686-4d16-a423-6742146af855",
   "metadata": {},
   "outputs": [],
   "source": [
    "# LEAFToolbox-SL2P: # Network for producing estimates for SL2P for S2 MSI\n",
    "def s2_createFeatureCollection_estimates():\n",
    "    return ee.FeatureCollection('users/rfernand387/COPERNICUS_S2_SR/s2_sl2p_weiss_or_prosail_NNT3_Single_0_1')\n",
    "def s2_createFeatureCollection_errors():\n",
    "    return ee.FeatureCollection('users/rfernand387/COPERNICUS_S2_SR/s2_sl2p_weiss_or_prosail_NNT3_Single_0_1_error') \n",
    "# LEAFToolbox-SL2P: # List of coded values corresponding to input domain for S2 MSI\n",
    "def s2_createFeatureCollection_domains():\n",
    "    return ee.FeatureCollection('users/rfernand387/COPERNICUS_S2_SR/S2_SL2P_WEISS_ORIGINAL_DOMAIN')\n",
    "\n",
    "# LEAFToolbox-SL2P: # List of estimated values corresponding to output range for S2 MSI\n",
    "def s2_createFeatureCollection_range():\n",
    "    return ee.FeatureCollection('users/rfernand387/COPERNICUS_S2_SR/COPERNICUS_S2_SR_SL2P_RANGE')\n",
    "# LEAFToolbox-SL2P: # Table mapping input partitions to networks for S2 MSI\n",
    "def s2_createFeatureCollection_Network_Ind():\n",
    "    return ee.FeatureCollection('users/rfernand387/COPERNICUS_S2_SR/Parameter_file_sl2p')    \n",
    "# land cover partition, we merge nalcms last so it takes precedence in a mosaic\n",
    "def s2_createImageCollection_partition():\n",
    "    return ee.ImageCollection(\"COPERNICUS/Landcover/100m/Proba-V/Global\") \\\n",
    "             .map( lambda image: image.select(\"discrete_classification\") \\\n",
    "             .remap([0,20,30,40,50,60,70,80,90,100,111,112,113,114,115,116,121,122,123,124,125,126,200],[0,8,10,15,17,16,19,18,14,13,1,3,1,5,6,6,2,4,2,5,6,6,18],0).toUint8().rename(\"partition\")) \\\n",
    "             .merge(ee.ImageCollection('users/rfernand387/NA_NALCMS_2015_tiles') \\\n",
    "             .map(lambda image: image.select(\"b1\").rename(\"partition\")))\n",
    "\n",
    "# LEAFToolbox-SL2P: # Mapping of input partition to networks for S2 MSI\n",
    "def s2_createFeatureCollection_legend():\n",
    "    return ee.FeatureCollection('users/rfernand387/COPERNICUS_S2_SR/Legend_sl2p')"
   ]
  },
  {
   "cell_type": "code",
   "execution_count": 6,
   "id": "07ec73bb-5f18-42bc-b8da-f0bd733428bf",
   "metadata": {},
   "outputs": [],
   "source": [
    "def l8_createFeatureCollection_estimates():\n",
    "    return ee.FeatureCollection('users/rfernand387/LANDSAT_LC08_C01_T1_SR_SL2P_OUTPUT')\n",
    "def l8_createFeatureCollection_errors():\n",
    "    return ee.FeatureCollection('users/rfernand387/LANDSAT_LC08_C01_T1_SR_SL2P_ERRORS')  \n",
    "def l8_createFeatureCollection_domains():\n",
    "    return ee.FeatureCollection('users/rfernand387/LANDSAT_LC08_C01_T1_SR/LANDSAT_LC08_C01_T1_SR_DOMAIN')\n",
    "def l8_createFeatureCollection_range():\n",
    "    return ee.FeatureCollection('users/rfernand387/LANDSAT_LC08_C01_T1_SR/LANDSAT_LC08_C01_T1_SR_RANGE')\n",
    "def l8_createFeatureCollection_Network_Ind():\n",
    "    return ee.FeatureCollection('users/rfernand387/LANDSAT_LC08_C01_T1_SR/Parameter_file_sl2p')\n",
    "# land cover partition, we merge nalcms last so it takes precedence in a mosaic\n",
    "def l8_createImageCollection_partition():\n",
    "    return ee.ImageCollection(\"COPERNICUS/Landcover/100m/Proba-V/Global\") \\\n",
    "             .map( lambda image: image.select(\"discrete_classification\") \\\n",
    "             .remap([0,20,30,40,50,60,70,80,90,100,111,112,113,114,115,116,121,122,123,124,125,126,200],[0,8,10,15,17,16,19,18,14,13,1,3,1,5,6,6,2,4,2,5,6,6,18],0).toUint8().rename(\"partition\")) \\\n",
    "             .merge(ee.ImageCollection('users/rfernand387/NA_NALCMS_2015_tiles') \\\n",
    "             .map(lambda image: image.select(\"b1\").rename(\"partition\")))\n",
    "def l8_createFeatureCollection_legend():\n",
    "    return ee.FeatureCollection('users/rfernand387/LANDSAT_LC08_C01_T1_SR/Legend_sl2p')"
   ]
  },
  {
   "cell_type": "code",
   "execution_count": 7,
   "id": "113e0203-88d4-46c8-a8ad-70bed7cba035",
   "metadata": {},
   "outputs": [],
   "source": [
    "# add a 'date' band: number of days since epoch\n",
    "def addDate(image):\n",
    "    return image.addBands(ee.Image.constant(ee.Date(image.date()).millis().divide(86400000)).rename('date').toUint16())"
   ]
  },
  {
   "cell_type": "code",
   "execution_count": 8,
   "id": "8c128da3-efe8-4d45-953f-e63ab8940669",
   "metadata": {},
   "outputs": [],
   "source": [
    "# mask pixels that are not clear sky in a S2 MSI image\n",
    "def s2MaskClear(image) :\n",
    "    qa = image.select('QA60');\n",
    "    mask = qa.bitwiseAnd(1<<10).eq(0).And(qa.bitwiseAnd(1<<11).eq(0));\n",
    "    return image.updateMask(mask)"
   ]
  },
  {
   "cell_type": "code",
   "execution_count": 9,
   "id": "e0df49ba-f1eb-48f9-a9f7-47e9a43f4e23",
   "metadata": {},
   "outputs": [],
   "source": [
    "# add s2 geometry bands scaled by 10000\n",
    "def addS2Geometry(colOptions,image) :\n",
    "    return (image.addBands(image.metadata(colOptions[\"vza\"]).multiply(3.1415).divide(180).cos().multiply(10000).toUint16().rename(['cosVZA']))\n",
    "              .addBands(image.metadata(colOptions[\"sza\"]).multiply(3.1415).divide(180).cos().multiply(10000).toUint16().rename(['cosSZA']))\n",
    "              .addBands(image.metadata(colOptions[\"saa\"]).subtract(image.metadata(colOptions[\"saa\"])).multiply(3.1415).divide(180).cos().multiply(10000).toInt16().rename(['cosRAA'])));"
   ]
  },
  {
   "cell_type": "code",
   "execution_count": 10,
   "id": "036a255b-d890-4618-ab19-7d35ef8ed079",
   "metadata": {},
   "outputs": [],
   "source": [
    "# sentinel 2 land mask\n",
    "def s2MaskLand(image) :\n",
    "    #return image.updateMask(image.select('SCL').gt(0))\n",
    "    return image.updateMask((image.select('SCL').eq(4)).Or(image.select('SCL').eq(5)))"
   ]
  },
  {
   "cell_type": "code",
   "execution_count": 11,
   "id": "ff94ac84-bb4b-4ef1-ac63-98d7fd7b5593",
   "metadata": {},
   "outputs": [],
   "source": [
    "# returns image with selected bands scaled\n",
    "def scaleBands(bandList,scaleList,image) :\n",
    "    bandList = ee.List(bandList)\n",
    "    scaleList = ee.List(scaleList)\n",
    "    return image.addBands(srcImg = image.select(bandList).multiply(ee.Image.constant(scaleList)).rename(bandList),overwrite = True)"
   ]
  },
  {
   "cell_type": "code",
   "execution_count": 12,
   "id": "13597851-3cb8-48f4-a0f2-642450651f11",
   "metadata": {},
   "outputs": [],
   "source": [
    "# Determine if inputs fall in domain of algorithm\n",
    "# Need to be updated to allow for the domain to vary with partition\n",
    "def invalidInput(sl2pDomain,bandList,image) :  \n",
    "    sl2pDomain =  ee.FeatureCollection(sl2pDomain).aggregate_array(\"DomainCode\").sort()\n",
    "    bandList = ee.List(bandList).slice(3)\n",
    "    image = ee.Image(image)\n",
    "    # code image bands into a single band and compare to valid codes to make QC band\n",
    "    image = image.addBands(image.select(bandList)\n",
    "                              .multiply(ee.Image.constant(ee.Number(10)))\n",
    "                              .ceil()\n",
    "                              .mod(ee.Number(10))\n",
    "                              .uint8()\n",
    "                              .multiply(ee.Image.constant(ee.List.sequence(0,bandList.length().subtract(1)).map(lambda value: ee.Number(10).pow(ee.Number(value)))))\n",
    "                              .reduce(\"sum\")  \n",
    "                              .remap(sl2pDomain, ee.List.repeat(0, sl2pDomain.length()),1)\n",
    "                              .rename(\"QC\"))\n",
    "    return image"
   ]
  },
  {
   "cell_type": "code",
   "execution_count": 13,
   "id": "261dd151-c37c-410e-bc59-c7c96fd09330",
   "metadata": {},
   "outputs": [],
   "source": [
    "# returns image with single band named network id corresponding given \n",
    "def makeIndexLayer(image,legend,Network_Ind) :  \n",
    "    image = ee.Image(image)                        # partition image\n",
    "    legend = ee.FeatureCollection(legend)          # legend to convert partition numbers to networks\n",
    "    Network_Ind = ee.FeatureCollection(Network_Ind) # legend to convert networks to networkIDs\n",
    "    #get lists of valid partitions\n",
    "    legend_list = legend.toList(legend.size())\n",
    "    landcover= legend_list.map(lambda feature: ee.Feature(feature).getNumber('Value'))\n",
    "\n",
    "    # get corresponding networkIDs\n",
    "    networkIDs = legend_list.map(lambda feature: ee.Feature(feature).get('SL2P Network')) \\\n",
    "                              .map(lambda propertyValue:  ee.Feature(ee.FeatureCollection(Network_Ind).first()).toDictionary().getNumber(propertyValue))\n",
    "    \n",
    "    return image.remap(landcover, networkIDs, 0).rename('networkID')"
   ]
  },
  {
   "cell_type": "code",
   "execution_count": 14,
   "id": "bd8680bd-a693-49b4-a28b-46ffadfb59ea",
   "metadata": {},
   "outputs": [],
   "source": [
    "# Read coefficients of a network from csv EE asset\n",
    "def getCoefs(netData,ind) :\n",
    "    return((ee.Feature(netData)).getNumber(ee.String('tabledata').cat(ee.Number(ind).int().format())))"
   ]
  },
  {
   "cell_type": "code",
   "execution_count": 15,
   "id": "212b3341-ec95-4148-9431-c6ccacfe7d82",
   "metadata": {},
   "outputs": [],
   "source": [
    "# Parse one row of CSV file for a network into a global variable\n",
    "# We assume a two hidden layer network with tansig functions but\n",
    "# allow for variable nodes per layer\n",
    "def makeNets(feature, M) :  \n",
    "    feature = ee.List(feature);\n",
    "    M = ee.Number(M);\n",
    "    \n",
    "    # get the requested network and initialize the created network\n",
    "    netData = ee.Feature(feature.get(M.subtract(1)));\n",
    "    net = {};\n",
    "    \n",
    "    # input slope\n",
    "    num = ee.Number(6);\n",
    "    start = num.add(1);\n",
    "    end = num.add(netData.getNumber(ee.String('tabledata').cat(num.format())));\n",
    "    net[\"inpSlope\"] = ee.List.sequence(start,end).map(lambda ind: getCoefs(netData,ind))\n",
    "    \n",
    "    # input offset\n",
    "    num = end.add(1)\n",
    "    start = num.add(1)\n",
    "    end = num.add(netData.getNumber(ee.String('tabledata').cat(num.format())))\n",
    "    net[\"inpOffset\"] = ee.List.sequence(start,end).map(lambda ind: getCoefs(netData,ind))\n",
    "\n",
    "    # hidden layer 1 weight\n",
    "    num = end.add(1)\n",
    "    start = num.add(1)\n",
    "    end = num.add(netData.getNumber(ee.String('tabledata').cat(num.format())))\n",
    "    net[\"h1wt\"] = ee.List.sequence(start,end).map(lambda ind: getCoefs(netData,ind))\n",
    "\n",
    "    # hidden layer 1 bias\n",
    "    num = end.add(1)\n",
    "    start = num.add(1)\n",
    "    end = num.add(netData.getNumber(ee.String('tabledata').cat(num.format())))\n",
    "    net[\"h1bi\"] = ee.List.sequence(start,end).map(lambda ind: getCoefs(netData,ind))\n",
    "\n",
    "    # hidden layer 2 weight\n",
    "    num = end.add(1)\n",
    "    start = num.add(1)\n",
    "    end = num.add(netData.getNumber(ee.String('tabledata').cat(num.format())))\n",
    "    net[\"h2wt\"] = ee.List.sequence(start,end).map(lambda ind: getCoefs(netData,ind))\n",
    "  \n",
    "    # hidden layer 2 bias\n",
    "    num = end.add(1)\n",
    "    start = num.add(1)\n",
    "    end = num.add(netData.getNumber(ee.String('tabledata').cat(num.format())))\n",
    "    net[\"h2bi\"] = ee.List.sequence(start,end).map(lambda ind: getCoefs(netData,ind))\n",
    "\n",
    "    # output slope\n",
    "    num = end.add(1)\n",
    "    start = num.add(1)\n",
    "    end = num.add(netData.getNumber(ee.String('tabledata').cat(num.format())))\n",
    "    net[\"outSlope\"] = ee.List.sequence(start,end).map(lambda ind: getCoefs(netData,ind))\n",
    "  \n",
    "    # output offset\n",
    "    num = end.add(1)\n",
    "    start = num.add(1)\n",
    "    end = num.add(netData.getNumber(ee.String('tabledata').cat(num.format())))\n",
    "    net[\"outBias\"] = ee.List.sequence(start,end).map(lambda ind: getCoefs(netData,ind))\n",
    "    \n",
    "    return(ee.Dictionary(net))"
   ]
  },
  {
   "cell_type": "code",
   "execution_count": 16,
   "id": "e490e8ef-47b0-47af-91de-de65f59cc3af",
   "metadata": {},
   "outputs": [],
   "source": [
    "COLLECTION_OPTIONS = {\n",
    "    'COPERNICUS/S2_SR': {\n",
    "      \"name\": 'S2',\n",
    "      \"description\": 'Sentinel 2A',\n",
    "      \"Cloudcover\": 'CLOUDY_PIXEL_PERCENTAGE',\n",
    "      \"Watercover\": 'WATER_PERCENTAGE',\n",
    "      \"sza\": 'MEAN_SOLAR_ZENITH_ANGLE',\n",
    "      \"vza\": 'MEAN_INCIDENCE_ZENITH_ANGLE_B8A',\n",
    "      \"saa\": 'MEAN_SOLAR_AZIMUTH_ANGLE', \n",
    "      \"vaa\": 'MEAN_INCIDENCE_AZIMUTH_ANGLE_B8A',\n",
    "      \"VIS_OPTIONS\": 'VIS_OPTIONS',\n",
    "      \"Collection_SL2P\": ee.FeatureCollection(s2_createFeatureCollection_estimates()),\n",
    "      \"Collection_SL2Perrors\": ee.FeatureCollection(s2_createFeatureCollection_errors()),  \n",
    "      \"sl2pDomain\": ee.FeatureCollection(s2_createFeatureCollection_domains()),\n",
    "      \"Network_Ind\": ee.FeatureCollection(s2_createFeatureCollection_Network_Ind()),\n",
    "      \"partition\": ee.ImageCollection(s2_createImageCollection_partition()),\n",
    "      \"legend\":  ee.FeatureCollection(s2_createFeatureCollection_legend()),\n",
    "      \"numVariables\": 7\n",
    "    },\n",
    "    'LANDSAT/LC08/C01/T1_SR': {\n",
    "      \"name\": 'L8',\n",
    "      \"description\": 'LANDSAT 8',\n",
    "      \"Cloudcover\": 'CLOUD_COVER_LAND',\n",
    "      \"Watercover\": 'CLOUD_COVER',\n",
    "      \"sza\": 'SOLAR_ZENITH_ANGLE',\n",
    "      \"vza\": 'SOLAR_ZENITH_ANGLE',\n",
    "      \"saa\": 'SOLAR_AZIMUTH_ANGLE', \n",
    "      \"vaa\": 'SOLAR_AZIMUTH_ANGLE',\n",
    "      \"VIS_OPTIONS\": 'VIS_OPTIONS',\n",
    "      \"Collection_SL2P\": ee.FeatureCollection(l8_createFeatureCollection_estimates()),\n",
    "      \"Collection_SL2Perrors\": ee.FeatureCollection(l8_createFeatureCollection_errors()),\n",
    "      \"sl2pDomain\": ee.FeatureCollection(l8_createFeatureCollection_domains()),\n",
    "      \"Network_Ind\": ee.FeatureCollection(l8_createFeatureCollection_Network_Ind()),\n",
    "      \"partition\": ee.ImageCollection(l8_createImageCollection_partition()),\n",
    "      \"legend\":  ee.FeatureCollection(l8_createFeatureCollection_legend()),\n",
    "      \"numVariables\": 7\n",
    "    }\n",
    "}\n",
    "VIS_OPTIONS = {\n",
    "    \"Surface_Reflectance\": {\n",
    "        \"COPERNICUS/S2_SR\": {\n",
    "            \"Name\": 'Surface_Reflectance',\n",
    "            \"description\": 'Surface_Reflectance',\n",
    "            \"inp\":      [ 'B4', 'B5', 'B6', 'B7', 'B8A','B9','B11','B12']\n",
    "        }\n",
    "      },\n",
    "    \"Albedo\": {\n",
    "        \"COPERNICUS/S2_SR\": {\n",
    "            \"Name\": 'Albedo',\n",
    "            \"errorName\": 'errorAlbedo',\n",
    "            \"maskName\": 'maskAlbedo',\n",
    "            \"description\": 'Black sky albedo',\n",
    "            \"variable\": 6,\n",
    "            \"inputBands\":      [ 'cosVZA','cosSZA','cosRAA','B3','B4', 'B5', 'B6', 'B7', 'B8A','B11','B12'],\n",
    "            \"inputScaling\":      [0.0001,0.0001,0.0001,0.0001,0.0001,0.0001,0.0001,0.0001,0.0001,0.0001,0.0001],\n",
    "            \"outmin\": (ee.Image(ee.Array([[0]]))),\n",
    "            \"outmax\": (ee.Image(ee.Array([[1]])))\n",
    "        }\n",
    "    },\n",
    "    'fAPAR': {\n",
    "        \"COPERNICUS/S2_SR\": {\n",
    "            \"Name\": 'fAPAR',\n",
    "            \"errorName\": 'errorfAPAR',\n",
    "            \"maskName\": 'maskfAPAR',\n",
    "            \"description\": 'Fraction of absorbed photosynthetically active radiation',\n",
    "            \"variable\": 2,\n",
    "            \"inputBands\":      [ 'cosVZA','cosSZA','cosRAA','B3','B4', 'B5', 'B6', 'B7', 'B8A','B11','B12'],\n",
    "            \"inputScaling\":      [0.0001,0.0001,0.0001,0.0001,0.0001,0.0001,0.0001,0.0001,0.0001,0.0001,0.0001],\n",
    "            \"outmin\": (ee.Image(ee.Array([[0]]))),\n",
    "            \"outmax\": (ee.Image(ee.Array([[1]])))\n",
    "      }\n",
    "    },\n",
    "    'fCOVER': {\n",
    "        \"COPERNICUS/S2_SR\": {\n",
    "            \"Name\": 'fCOVER',\n",
    "            \"errorName\": 'errorfCOVER',\n",
    "            \"maskName\": 'maskfCOVER',\n",
    "            \"description\": 'Fraction of canopy cover',\n",
    "            \"variable\": 3,\n",
    "            \"inputBands\":      [ 'cosVZA','cosSZA','cosRAA','B3','B4', 'B5', 'B6', 'B7', 'B8A','B11','B12'],\n",
    "            \"inputScaling\":      [0.0001,0.0001,0.0001,0.0001,0.0001,0.0001,0.0001,0.0001,0.0001,0.0001,0.0001],\n",
    "            \"outmin\": (ee.Image(ee.Array([[0]]))),\n",
    "            \"outmax\": (ee.Image(ee.Array([[1]]))) \n",
    "      }\n",
    "    },\n",
    "    'LAI': {\n",
    "        \"COPERNICUS/S2_SR\": {\n",
    "            \"Name\": 'LAI',\n",
    "            \"errorName\": 'errorLAI',\n",
    "            \"maskName\": 'maskLAI',\n",
    "            \"description\": 'Leaf area index',\n",
    "            \"variable\": 1,\n",
    "            \"inputBands\":      [ 'cosVZA','cosSZA','cosRAA','B3','B4', 'B5', 'B6', 'B7', 'B8A','B11','B12'],\n",
    "            \"inputScaling\":      [0.0001,0.0001,0.0001,0.0001,0.0001,0.0001,0.0001,0.0001,0.0001,0.0001,0.0001],\n",
    "            \"outmin\": (ee.Image(ee.Array([[0]]))),\n",
    "            \"outmax\": (ee.Image(ee.Array([[1]])))\n",
    "      }  \n",
    "    },\n",
    "    'CCC': {\n",
    "        \"COPERNICUS/S2_SR\": {\n",
    "            \"Name\": 'CCC',\n",
    "            \"errorName\": 'errorCCC',\n",
    "            \"maskName\": 'maskCCC',\n",
    "            \"description\": 'Canopy chlorophyll content',\n",
    "            \"variable\": 4,\n",
    "            \"inputBands\":      [ 'cosVZA','cosSZA','cosRAA','B3','B4', 'B5', 'B6', 'B7', 'B8A','B11','B12'],\n",
    "            \"inputScaling\":      [0.0001,0.0001,0.0001,0.0001,0.0001,0.0001,0.0001,0.0001,0.0001,0.0001,0.0001],\n",
    "            \"outmin\": (ee.Image(ee.Array([[0]]))),\n",
    "            \"outmax\": (ee.Image(ee.Array([[1000]])))\n",
    "      } \n",
    "    },\n",
    "    'CWC': {\n",
    "        \"COPERNICUS/S2_SR\": {\n",
    "            \"Name\": 'CWC',\n",
    "            \"errorName\": 'errorCWC',\n",
    "            \"maskName\": 'maskCWC',\n",
    "            \"description\": 'Canopy water content',\n",
    "            \"variable\": 5,\n",
    "            \"inputBands\":      [ 'cosVZA','cosSZA','cosRAA','B3','B4', 'B5', 'B6', 'B7', 'B8A','B11','B12'],\n",
    "            \"inputScaling\":      [0.0001,0.0001,0.0001,0.0001,0.0001,0.0001,0.0001,0.0001,0.0001,0.0001,0.0001],\n",
    "            \"outmin\": (ee.Image(ee.Array([[0]]))),\n",
    "            \"outmax\": (ee.Image(ee.Array([[100]])))\n",
    "      } \n",
    "    },\n",
    "    'DASF': {\n",
    "        \"COPERNICUS/S2_SR\": {\n",
    "            \"Name\": 'DASF',\n",
    "            \"errorName\": 'errorDASF',\n",
    "            \"maskName\": 'maskDASF',\n",
    "            \"description\": 'Directional area scattering factor',\n",
    "            \"variable\": 7,\n",
    "            \"inputBands\":      [ 'cosVZA','cosSZA','cosRAA','B3','B4', 'B5', 'B6', 'B7', 'B8A','B11','B12'],\n",
    "            \"inputScaling\":      [0.0001,0.0001,0.0001,0.0001,0.0001,0.0001,0.0001,0.0001,0.0001,0.0001,0.0001],\n",
    "            \"outmin\": (ee.Image(ee.Array([[0]]))),\n",
    "            \"outmax\": (ee.Image(ee.Array([[1]])))\n",
    "      } \n",
    "    }\n",
    "}"
   ]
  },
  {
   "cell_type": "code",
   "execution_count": 17,
   "id": "533dbc32-c907-4f18-8aec-860df27fba7b",
   "metadata": {},
   "outputs": [],
   "source": [
    "# applies two layer neural network within input and output scaling\n",
    "def applyNet(outputName,netDict) :   \n",
    "    outputName = ee.String(outputName)\n",
    "    netDict = ee.Dictionary(netDict)\n",
    "    \n",
    "    inp = ee.Image(netDict.get('Image'))\n",
    "    net = ee.Dictionary(netDict.get('Network'))\n",
    "\n",
    "    # Input scaling\n",
    "    l1inp2D = inp.multiply(ee.Image(net.toArray(ee.List(['inpSlope']),0).transpose()) \\\n",
    "                                          .arrayProject([0]) \\\n",
    "                                          .arrayFlatten([inp.bandNames()])) \\\n",
    "                   .add(ee.Image(net.toArray(ee.List(['inpOffset']),0).transpose()) \\\n",
    "                                          .arrayProject([0]) \\\n",
    "                                          .arrayFlatten([inp.bandNames()]))\n",
    "    \n",
    "    # Hidden layers\n",
    "    l12D = ee.Image(net.toArray(ee.List(['h1wt']),0).reshape([ee.List(net.get('h1bi')).length(),ee.List(net.get('inpOffset')).length()])) \\\n",
    "              .matrixMultiply(l1inp2D.toArray().toArray(1)) \\\n",
    "              .add(ee.Image(net.toArray(ee.List(['h1bi']),0).transpose())) \\\n",
    "              .arrayProject([0]).arrayFlatten([['h1w1','h1w2','h1w3','h1w4','h1w5']])\n",
    "    \n",
    "    # apply tansig 2/(1+exp(-2*n))-1\n",
    "    l2inp2D = ee.Image(2).divide(ee.Image(1).add((ee.Image(-2).multiply(l12D)).exp())).subtract(ee.Image(1))\n",
    "    \n",
    "    # purlin hidden layers\n",
    "    l22D = l2inp2D.multiply(ee.Image(net.toArray(ee.List(['h2wt']),0).transpose()) \\\n",
    "                                          .arrayProject([0]) \\\n",
    "                                          .arrayFlatten([['h2w1','h2w2','h2w3','h2w4','h2w5']])) \\\n",
    "                    .reduce('sum') \\\n",
    "                    .add(ee.Image(net.toArray(ee.List(['h2bi']),0))) \\\n",
    "                                          .arrayProject([0]) \\\n",
    "                                          .arrayFlatten([['h2bi']])\n",
    "    \n",
    "    # Output scaling \n",
    "    outputBand = l22D.subtract(ee.Image(ee.Number(net.get('outBias')))) \\\n",
    "                    .divide(ee.Image(ee.Number(net.get('outSlope')))) \n",
    "    \n",
    "    # Return network output\n",
    "    return (outputBand.rename(outputName))"
   ]
  },
  {
   "cell_type": "code",
   "execution_count": 18,
   "id": "d8f9e689-63ec-4c0b-8353-f010067f8ad2",
   "metadata": {},
   "outputs": [],
   "source": [
    "def makeNetVars(asset, numNets, variableNum):\n",
    "    asset = ee.FeatureCollection(asset)\n",
    "    numNets = ee.Number(numNets)\n",
    "    variableNum = ee.Number(variableNum)  \n",
    "\n",
    "    # get selected network \n",
    "    filtered_features = ee.FeatureCollection(asset.filter(ee.Filter.eq('tabledata3', variableNum))).toList(numNets)\n",
    "    netVars = ee.List.sequence(1,numNets).map(lambda netNum: makeNets(filtered_features,netNum))\n",
    "    return netVars"
   ]
  },
  {
   "cell_type": "code",
   "execution_count": 155,
   "id": "ef887664-7055-4772-b8e8-f7ec59879ac2",
   "metadata": {},
   "outputs": [
    {
     "name": "stdout",
     "output_type": "stream",
     "text": [
      "Done\n"
     ]
    }
   ],
   "source": [
    "variable = \"CCC\"\n",
    "collectionName = \"COPERNICUS/S2_SR\"\n",
    "maxCloudcover = 90\n",
    "filterSize = 0 # length of square filter window applied to product\n",
    "scaleSize = 20  # scale to produce and sample product\n",
    "deltaTime = [\"2023-08-31\",\"2023-09-01\"] # number of days before and after sample\n",
    "bufferSize = 1\n",
    "\n",
    "input=inputList[0]\n",
    "sampleRecords =  ee.FeatureCollection(input).sort('system:time_start', False).map(lambda feature: feature.set('timeStart',feature.get('system:time_start')))\n",
    "sampleRecords =  sampleRecords.toList(sampleRecords.size())\n",
    "n=0 \n",
    "site = ee.Feature(sampleRecords.get(n))\n",
    "outputName,collectionName,maxCloudcover,bufferSize,outputScale,deltaTime,filterSize=variable,collectionName,maxCloudcover,bufferSize,scaleSize,deltaTime,filterSize\n",
    "\n",
    "startDate = datetime.strptime(deltaTime[0],\"%Y-%m-%d\")\n",
    "endDate =  datetime.strptime(deltaTime[1],\"%Y-%m-%d\")\n",
    "sampleFeature = [];\n",
    "productCollection = []\n",
    "\n",
    "mapBounds=site.buffer(bufferSize*2).geometry()\n",
    "colOptions = COLLECTION_OPTIONS[collectionName]\n",
    "netOptions = VIS_OPTIONS[outputName][collectionName]\n",
    "numNets = ee.Number(ee.Feature((COLLECTION_OPTIONS[collectionName][\"Network_Ind\"]).first()).propertyNames().remove('Feature Index').remove('system:index').remove('lon').size())\n",
    "\n",
    "\n",
    "print('Done')"
   ]
  },
  {
   "cell_type": "code",
   "execution_count": 156,
   "id": "b941213b-de4b-4ff9-b061-edf9b86420ce",
   "metadata": {},
   "outputs": [],
   "source": [
    "SL2P = ee.List.sequence(1,ee.Number(COLLECTION_OPTIONS[collectionName][\"numVariables\"]),1).map(lambda netNum: makeNetVars(COLLECTION_OPTIONS[collectionName][\"Collection_SL2P\"],numNets,netNum))\n",
    "errorsSL2P = ee.List.sequence(1,ee.Number(COLLECTION_OPTIONS[collectionName][\"numVariables\"]),1).map(lambda netNum: makeNetVars(COLLECTION_OPTIONS[collectionName][\"Collection_SL2Perrors\"],numNets,netNum))"
   ]
  },
  {
   "cell_type": "code",
   "execution_count": 157,
   "id": "90cf7176-e35c-4f87-bb1b-8e1d52676c58",
   "metadata": {},
   "outputs": [
    {
     "data": {
      "text/plain": [
       "7"
      ]
     },
     "execution_count": 157,
     "metadata": {},
     "output_type": "execute_result"
    }
   ],
   "source": [
    "len(SL2P.getInfo())"
   ]
  },
  {
   "cell_type": "code",
   "execution_count": 158,
   "id": "0fd627a0-0276-4cdf-b6c2-919e437accef",
   "metadata": {},
   "outputs": [
    {
     "data": {
      "text/plain": [
       "1"
      ]
     },
     "execution_count": 158,
     "metadata": {},
     "output_type": "execute_result"
    }
   ],
   "source": [
    "input_collection =  ee.ImageCollection(collectionName) \\\n",
    "                      .filterBounds(mapBounds) \\\n",
    "                      .filterDate(startDate, endDate) \\\n",
    "                      .filterMetadata(colOptions[\"Cloudcover\"],'less_than',maxCloudcover) \\\n",
    "                      .limit(5000)\n",
    "\n",
    "#add date band and clip\n",
    "input_collection = input_collection.map(lambda image: addDate(image)).map(lambda image: image.clip(mapBounds)) \n",
    "if collectionName=='COPERNICUS/S2_SR':\n",
    "    input_collection =  input_collection.map(lambda image: s2MaskClear(image)).map(lambda image: addS2Geometry(colOptions,image))\n",
    "elif collectionName=='LANDSAT/LC08/C01/T1_SR': \n",
    "    input_collection =  input_collection.map(lambda image: L8MaskClear(image)).map(lambda image: addL8Geometry(colOptions,image))\n",
    "elif  collectionName=='users/rfernand387/L2avalidation': \n",
    "    input_collection = input_collection.map(lambda image: ccrsSentinel2(image)).map(lambda image: s2MaskClear(image)).map(lambda image: addS2Geometry(colOptions,image))\n",
    "else:\n",
    "    print('npooooooooooooooooooooooo')\n",
    "\n",
    "projection = input_collection.first().select(input_collection.first().bandNames().slice(0,1)).projection()\n",
    "input_collection = input_collection.map( lambda image: image.setDefaultProjection(crs=image.select(image.bandNames().slice(0,1)).projection()).reduceResolution(reducer= ee.Reducer.mean(),maxPixels=1024).reproject(crs=projection,scale=outputScale))\n",
    "input_collection.size().getInfo()"
   ]
  },
  {
   "cell_type": "code",
   "execution_count": 159,
   "id": "fba81c66-b013-42ab-a26a-868ae4e4f62a",
   "metadata": {},
   "outputs": [],
   "source": [
    "# returns image with single band named networkid corresponding given \n",
    "# input partition image remapped to networkIDs\n",
    "# applies a set of shallow networks to an image based on a provided partition image band\n",
    "def wrapperNNets(network, partition, netOptions, colOptions, layerName, imageInput) :\n",
    "    # typecast function parameters\n",
    "    network = ee.List(network)\n",
    "    partition = ee.Image(partition)\n",
    "    netOptions = netOptions\n",
    "    colOptions = colOptions\n",
    "    layerName = layerName\n",
    "    imageInput = ee.Image(imageInput)\n",
    "\n",
    "    # parse partition  used to identify network to use\n",
    "    partition = partition.clip(imageInput.geometry()).select(['partition'])\n",
    "    #.remap([0,1,2,3,4,5,6,7,8,9,10,11,12,13,14,15,16,17,18,19],[0,1,2,3,4,5,6,7,8,9,10,11,12,13,14,15,15,15,15,15],0).rename('partition')\n",
    "\n",
    "    # determine networks based on collection\n",
    "    netList = ee.List(network.get(ee.Number(netOptions.get(\"variable\")).subtract(1))); \n",
    "\n",
    "    # parse land cover into network index and add to input image\n",
    "    imageInput = imageInput.addBands(makeIndexLayer(partition,colOptions[\"legend\"],colOptions[\"Network_Ind\"]))\n",
    "\n",
    "    # define list of input names\n",
    "    return ee.ImageCollection(ee.List.sequence(0, netList.size().subtract(1)) \\\n",
    "                                                    .map(lambda netIndex: selectNet(imageInput,netList,netOptions.get(\"inputBands\"),netIndex)) \\\n",
    "                                                    .map(lambda netDict: applyNet(layerName,netDict))) \\\n",
    "                                .max() \\\n",
    "                  .addBands(partition) \\\n",
    "                  .addBands(imageInput.select('networkID'))"
   ]
  },
  {
   "cell_type": "code",
   "execution_count": 160,
   "id": "158ad7eb-1728-48c6-8e21-6e8345f4ff2f",
   "metadata": {},
   "outputs": [
    {
     "data": {
      "text/plain": [
       "1"
      ]
     },
     "execution_count": 160,
     "metadata": {},
     "output_type": "execute_result"
    }
   ],
   "source": [
    "partition = (COLLECTION_OPTIONS[collectionName][\"partition\"]).filterBounds(mapBounds).mosaic().clip(mapBounds).rename('partition');\n",
    "input_collection  =  input_collection.map(lambda image: s2MaskLand(image)) \\\n",
    "                                                .map(lambda image: scaleBands(netOptions[\"inputBands\"],netOptions[\"inputScaling\"],image)) \\\n",
    "                                                 .map(lambda image: invalidInput(COLLECTION_OPTIONS[collectionName][\"sl2pDomain\"],netOptions[\"inputBands\"],image))\n",
    "input_collection.size().getInfo()"
   ]
  },
  {
   "cell_type": "code",
   "execution_count": 161,
   "id": "dd814087-259b-4487-a3a6-3855e2bbfb95",
   "metadata": {},
   "outputs": [],
   "source": [
    "def selectNet(image,netList,inputNames,netIndex) :  \n",
    "    image = ee.Image(image)\n",
    "    netList = ee.List(netList)\n",
    "    inputNames = ee.List(inputNames)\n",
    "    netIndex = ee.Number(netIndex).int()\n",
    "    #print(ee.List(netList.get(netIndex)))\n",
    "    return ee.Dictionary()  \\\n",
    "            .set(\"Image\", ee.Image(image.updateMask(image.select('networkID').eq(netIndex)).select(inputNames))) \\\n",
    "            .set(\"Network\", ee.List(netList.get(netIndex)))"
   ]
  },
  {
   "cell_type": "code",
   "execution_count": 162,
   "id": "f74ff002-56a0-4bb5-b5a6-7b4d836885ac",
   "metadata": {},
   "outputs": [],
   "source": [
    "estimateSL2P =    input_collection.map(lambda image: wrapperNNets(SL2P,partition, netOptions, COLLECTION_OPTIONS[collectionName],\"estimate\",image))\n",
    "uncertaintySL2P = input_collection.map(lambda image: wrapperNNets(errorsSL2P,partition, netOptions, COLLECTION_OPTIONS[collectionName],\"error\",image))"
   ]
  },
  {
   "cell_type": "code",
   "execution_count": 163,
   "id": "f97bbe9d-9efc-4ef8-ba07-8f6943d86edc",
   "metadata": {},
   "outputs": [],
   "source": [
    "SR=input_collection.map(lambda image: image.sample(region=site.geometry(), projection=projection, scale=outputScale,geometries=True, dropNulls = False) ).flatten()\n",
    "E=estimateSL2P.map(lambda image: image.sample(region=site.geometry(), projection=projection, scale=outputScale,geometries=True, dropNulls = False) ).flatten()\n",
    "U=uncertaintySL2P.map(lambda image: image.sample(region=site.geometry(), projection=projection, scale=outputScale,geometries=True, dropNulls = False) ).flatten()"
   ]
  },
  {
   "cell_type": "code",
   "execution_count": 164,
   "id": "51d4d7e2-1bc4-4c7f-8813-172a5fd4a451",
   "metadata": {},
   "outputs": [
    {
     "data": {
      "text/plain": [
       "1710"
      ]
     },
     "execution_count": 164,
     "metadata": {},
     "output_type": "execute_result"
    }
   ],
   "source": [
    "len(E.getInfo()['features'])"
   ]
  },
  {
   "cell_type": "code",
   "execution_count": 165,
   "id": "d48099be-be68-40ad-811e-47633fe4479b",
   "metadata": {},
   "outputs": [
    {
     "data": {
      "text/plain": [
       "1710"
      ]
     },
     "execution_count": 165,
     "metadata": {},
     "output_type": "execute_result"
    }
   ],
   "source": [
    "len(SR.getInfo()['features'])"
   ]
  },
  {
   "cell_type": "code",
   "execution_count": 166,
   "id": "88828b36-7c5f-4c12-8c01-40c35aeb4062",
   "metadata": {},
   "outputs": [],
   "source": [
    "SRd=SR.getInfo()['features']\n",
    "Ed=E.getInfo()['features']\n",
    "Ud=U.getInfo()['features']"
   ]
  },
  {
   "cell_type": "code",
   "execution_count": 167,
   "id": "327d2138-7ded-4a5b-86f2-603b4ed1ee6c",
   "metadata": {},
   "outputs": [],
   "source": [
    "#Ed"
   ]
  },
  {
   "cell_type": "code",
   "execution_count": 168,
   "id": "14a07028-6194-41ec-af8a-abf96b5fde95",
   "metadata": {},
   "outputs": [
    {
     "data": {
      "text/plain": [
       "'CCC'"
      ]
     },
     "execution_count": 168,
     "metadata": {},
     "output_type": "execute_result"
    }
   ],
   "source": [
    "for idx,ii in enumerate(Ed):\n",
    "    if idx==0:\n",
    "        df=pd.DataFrame([ii['properties']])\n",
    "    else:\n",
    "        df=pd.concat([df,pd.DataFrame([ii['properties']])])        \n",
    "df=df.reset_index()\n",
    "\n",
    "for idx,ii in enumerate(Ud):\n",
    "    if idx==0:\n",
    "        df1=pd.DataFrame([ii['properties']])\n",
    "    else:\n",
    "        df1=pd.concat([df1,pd.DataFrame([ii['properties']])]) \n",
    "        \n",
    "df1=df1.reset_index()\n",
    "df['uncertainty']=df1['error']     \n",
    "df.to_excel('C:/Djamai_Najib/1_vegetation_parameters/1_scripts/SL2P_python/testdata/'+variable+'_samples_2.xlsx')  \n",
    "variable"
   ]
  },
  {
   "cell_type": "code",
   "execution_count": 169,
   "id": "63dd40a2-2a04-4e2c-9f42-b8e7f4540b1b",
   "metadata": {},
   "outputs": [
    {
     "data": {
      "text/html": [
       "<div>\n",
       "<style scoped>\n",
       "    .dataframe tbody tr th:only-of-type {\n",
       "        vertical-align: middle;\n",
       "    }\n",
       "\n",
       "    .dataframe tbody tr th {\n",
       "        vertical-align: top;\n",
       "    }\n",
       "\n",
       "    .dataframe thead th {\n",
       "        text-align: right;\n",
       "    }\n",
       "</style>\n",
       "<table border=\"1\" class=\"dataframe\">\n",
       "  <thead>\n",
       "    <tr style=\"text-align: right;\">\n",
       "      <th></th>\n",
       "      <th>index</th>\n",
       "      <th>estimate</th>\n",
       "      <th>networkID</th>\n",
       "      <th>partition</th>\n",
       "      <th>uncertainty</th>\n",
       "    </tr>\n",
       "  </thead>\n",
       "  <tbody>\n",
       "    <tr>\n",
       "      <th>0</th>\n",
       "      <td>0</td>\n",
       "      <td>140.765327</td>\n",
       "      <td>0</td>\n",
       "      <td>15</td>\n",
       "      <td>30.340917</td>\n",
       "    </tr>\n",
       "    <tr>\n",
       "      <th>1</th>\n",
       "      <td>0</td>\n",
       "      <td>148.508772</td>\n",
       "      <td>0</td>\n",
       "      <td>15</td>\n",
       "      <td>31.368784</td>\n",
       "    </tr>\n",
       "    <tr>\n",
       "      <th>2</th>\n",
       "      <td>0</td>\n",
       "      <td>148.508772</td>\n",
       "      <td>0</td>\n",
       "      <td>15</td>\n",
       "      <td>31.368784</td>\n",
       "    </tr>\n",
       "    <tr>\n",
       "      <th>3</th>\n",
       "      <td>0</td>\n",
       "      <td>148.508772</td>\n",
       "      <td>0</td>\n",
       "      <td>15</td>\n",
       "      <td>31.368784</td>\n",
       "    </tr>\n",
       "    <tr>\n",
       "      <th>4</th>\n",
       "      <td>0</td>\n",
       "      <td>86.530519</td>\n",
       "      <td>0</td>\n",
       "      <td>15</td>\n",
       "      <td>25.516392</td>\n",
       "    </tr>\n",
       "    <tr>\n",
       "      <th>...</th>\n",
       "      <td>...</td>\n",
       "      <td>...</td>\n",
       "      <td>...</td>\n",
       "      <td>...</td>\n",
       "      <td>...</td>\n",
       "    </tr>\n",
       "    <tr>\n",
       "      <th>1705</th>\n",
       "      <td>0</td>\n",
       "      <td>11.801934</td>\n",
       "      <td>0</td>\n",
       "      <td>16</td>\n",
       "      <td>11.042138</td>\n",
       "    </tr>\n",
       "    <tr>\n",
       "      <th>1706</th>\n",
       "      <td>0</td>\n",
       "      <td>11.801934</td>\n",
       "      <td>0</td>\n",
       "      <td>16</td>\n",
       "      <td>11.042138</td>\n",
       "    </tr>\n",
       "    <tr>\n",
       "      <th>1707</th>\n",
       "      <td>0</td>\n",
       "      <td>11.801934</td>\n",
       "      <td>0</td>\n",
       "      <td>16</td>\n",
       "      <td>11.042138</td>\n",
       "    </tr>\n",
       "    <tr>\n",
       "      <th>1708</th>\n",
       "      <td>0</td>\n",
       "      <td>7.417290</td>\n",
       "      <td>0</td>\n",
       "      <td>15</td>\n",
       "      <td>10.939264</td>\n",
       "    </tr>\n",
       "    <tr>\n",
       "      <th>1709</th>\n",
       "      <td>0</td>\n",
       "      <td>7.417290</td>\n",
       "      <td>0</td>\n",
       "      <td>15</td>\n",
       "      <td>10.939264</td>\n",
       "    </tr>\n",
       "  </tbody>\n",
       "</table>\n",
       "<p>1710 rows × 5 columns</p>\n",
       "</div>"
      ],
      "text/plain": [
       "      index    estimate  networkID  partition  uncertainty\n",
       "0         0  140.765327          0         15    30.340917\n",
       "1         0  148.508772          0         15    31.368784\n",
       "2         0  148.508772          0         15    31.368784\n",
       "3         0  148.508772          0         15    31.368784\n",
       "4         0   86.530519          0         15    25.516392\n",
       "...     ...         ...        ...        ...          ...\n",
       "1705      0   11.801934          0         16    11.042138\n",
       "1706      0   11.801934          0         16    11.042138\n",
       "1707      0   11.801934          0         16    11.042138\n",
       "1708      0    7.417290          0         15    10.939264\n",
       "1709      0    7.417290          0         15    10.939264\n",
       "\n",
       "[1710 rows x 5 columns]"
      ]
     },
     "execution_count": 169,
     "metadata": {},
     "output_type": "execute_result"
    }
   ],
   "source": [
    "df"
   ]
  },
  {
   "cell_type": "code",
   "execution_count": 170,
   "id": "bdbb4aaf-1dcb-46f1-95f2-b2a09cf69dd8",
   "metadata": {},
   "outputs": [
    {
     "data": {
      "text/plain": [
       "'CCC'"
      ]
     },
     "execution_count": 170,
     "metadata": {},
     "output_type": "execute_result"
    }
   ],
   "source": [
    "variable"
   ]
  },
  {
   "cell_type": "code",
   "execution_count": 153,
   "id": "c72683a4-81f2-4966-89f1-9be17977bdc0",
   "metadata": {},
   "outputs": [
    {
     "data": {
      "text/html": [
       "<div>\n",
       "<style scoped>\n",
       "    .dataframe tbody tr th:only-of-type {\n",
       "        vertical-align: middle;\n",
       "    }\n",
       "\n",
       "    .dataframe tbody tr th {\n",
       "        vertical-align: top;\n",
       "    }\n",
       "\n",
       "    .dataframe thead th {\n",
       "        text-align: right;\n",
       "    }\n",
       "</style>\n",
       "<table border=\"1\" class=\"dataframe\">\n",
       "  <thead>\n",
       "    <tr style=\"text-align: right;\">\n",
       "      <th></th>\n",
       "      <th>index</th>\n",
       "      <th>error</th>\n",
       "      <th>networkID</th>\n",
       "      <th>partition</th>\n",
       "    </tr>\n",
       "  </thead>\n",
       "  <tbody>\n",
       "    <tr>\n",
       "      <th>0</th>\n",
       "      <td>0</td>\n",
       "      <td>0.026139</td>\n",
       "      <td>0</td>\n",
       "      <td>15</td>\n",
       "    </tr>\n",
       "    <tr>\n",
       "      <th>1</th>\n",
       "      <td>0</td>\n",
       "      <td>0.026080</td>\n",
       "      <td>0</td>\n",
       "      <td>15</td>\n",
       "    </tr>\n",
       "    <tr>\n",
       "      <th>2</th>\n",
       "      <td>0</td>\n",
       "      <td>0.026080</td>\n",
       "      <td>0</td>\n",
       "      <td>15</td>\n",
       "    </tr>\n",
       "    <tr>\n",
       "      <th>3</th>\n",
       "      <td>0</td>\n",
       "      <td>0.026080</td>\n",
       "      <td>0</td>\n",
       "      <td>15</td>\n",
       "    </tr>\n",
       "    <tr>\n",
       "      <th>4</th>\n",
       "      <td>0</td>\n",
       "      <td>0.026864</td>\n",
       "      <td>0</td>\n",
       "      <td>15</td>\n",
       "    </tr>\n",
       "    <tr>\n",
       "      <th>...</th>\n",
       "      <td>...</td>\n",
       "      <td>...</td>\n",
       "      <td>...</td>\n",
       "      <td>...</td>\n",
       "    </tr>\n",
       "    <tr>\n",
       "      <th>1705</th>\n",
       "      <td>0</td>\n",
       "      <td>0.044153</td>\n",
       "      <td>0</td>\n",
       "      <td>16</td>\n",
       "    </tr>\n",
       "    <tr>\n",
       "      <th>1706</th>\n",
       "      <td>0</td>\n",
       "      <td>0.044153</td>\n",
       "      <td>0</td>\n",
       "      <td>16</td>\n",
       "    </tr>\n",
       "    <tr>\n",
       "      <th>1707</th>\n",
       "      <td>0</td>\n",
       "      <td>0.044153</td>\n",
       "      <td>0</td>\n",
       "      <td>16</td>\n",
       "    </tr>\n",
       "    <tr>\n",
       "      <th>1708</th>\n",
       "      <td>0</td>\n",
       "      <td>0.045263</td>\n",
       "      <td>0</td>\n",
       "      <td>15</td>\n",
       "    </tr>\n",
       "    <tr>\n",
       "      <th>1709</th>\n",
       "      <td>0</td>\n",
       "      <td>0.045263</td>\n",
       "      <td>0</td>\n",
       "      <td>15</td>\n",
       "    </tr>\n",
       "  </tbody>\n",
       "</table>\n",
       "<p>1710 rows × 4 columns</p>\n",
       "</div>"
      ],
      "text/plain": [
       "      index     error  networkID  partition\n",
       "0         0  0.026139          0         15\n",
       "1         0  0.026080          0         15\n",
       "2         0  0.026080          0         15\n",
       "3         0  0.026080          0         15\n",
       "4         0  0.026864          0         15\n",
       "...     ...       ...        ...        ...\n",
       "1705      0  0.044153          0         16\n",
       "1706      0  0.044153          0         16\n",
       "1707      0  0.044153          0         16\n",
       "1708      0  0.045263          0         15\n",
       "1709      0  0.045263          0         15\n",
       "\n",
       "[1710 rows x 4 columns]"
      ]
     },
     "execution_count": 153,
     "metadata": {},
     "output_type": "execute_result"
    }
   ],
   "source": [
    "df1"
   ]
  },
  {
   "cell_type": "code",
   "execution_count": null,
   "id": "9460da0b-bb4d-4187-b5f8-f6573b07a26d",
   "metadata": {},
   "outputs": [],
   "source": []
  },
  {
   "cell_type": "code",
   "execution_count": 154,
   "id": "a1275dcc-d7db-47f9-b5ba-ead7a8e315e5",
   "metadata": {},
   "outputs": [
    {
     "data": {
      "text/plain": [
       "['estimate', 'partition', 'networkID']"
      ]
     },
     "execution_count": 154,
     "metadata": {},
     "output_type": "execute_result"
    }
   ],
   "source": [
    "estimateSL2P.first().bandNames().getInfo()"
   ]
  },
  {
   "cell_type": "code",
   "execution_count": 184,
   "id": "0891b5e1-0970-41da-9108-941d4f9f0bcc",
   "metadata": {},
   "outputs": [],
   "source": [
    "products = input_collection.select(['date','QC']).combine(estimateSL2P).combine(uncertaintySL2P)"
   ]
  },
  {
   "cell_type": "code",
   "execution_count": 185,
   "id": "28a6ec6b-c0d6-497e-b8c3-af8af077d820",
   "metadata": {},
   "outputs": [],
   "source": [
    "productCollection, outputScale, sampleRegion, sampleName=products, outputScale, site.buffer(bufferSize).geometry(),\"sample\" + outputName"
   ]
  },
  {
   "cell_type": "code",
   "execution_count": 186,
   "id": "7114a5ad-8b23-49e5-8287-86effff23ffd",
   "metadata": {},
   "outputs": [],
   "source": [
    "# returns lists of sampled values for each band in an image as a new feature property\n",
    "# print('sampleProductCollection')\n",
    "productCollection = ee.ImageCollection(productCollection)\n",
    "outputScale= ee.Number(outputScale)\n",
    "sampleRegion = ee.Feature(sampleRegion)\n",
    "\n",
    "sampleData = productCollection.map(lambda image: image.sample(region=sampleRegion.geometry(), projection=image.select('date').projection(), scale=outputScale,geometries=True, dropNulls = False) ).flatten()\n",
    "sampleList= ee.List(productCollection.first().bandNames().map(lambda bandName: ee.Dictionary({ 'bandName': bandName, 'data': sampleData.aggregate_array(bandName)}))) \n",
    "sampleFeature=sampleRegion.set(sampleName,sampleList)"
   ]
  },
  {
   "cell_type": "code",
   "execution_count": 187,
   "id": "10f2af0e-9651-4094-85fe-6ccab122e040",
   "metadata": {},
   "outputs": [],
   "source": [
    "R=sampleFeature.getInfo()['properties']['sample'+variable]"
   ]
  },
  {
   "cell_type": "code",
   "execution_count": 188,
   "id": "91424352-c7eb-4696-842d-30ced55b7008",
   "metadata": {},
   "outputs": [],
   "source": [
    "df=pd.DataFrame()\n",
    "for ii in [0,1,2,5]:\n",
    "    df[R[ii]['bandName']]=R[ii]['data']\n",
    "df\n",
    "df.to_excel('C:/Djamai_Najib/1_vegetation_parameters/1_scripts/SL2P_python/testdata/'+variable+'samples.xlsx')    "
   ]
  },
  {
   "cell_type": "code",
   "execution_count": 189,
   "id": "392128d1-7bfd-4e37-af19-c0eefa75567a",
   "metadata": {},
   "outputs": [],
   "source": [
    "SL2P_nets=COLLECTION_OPTIONS[collectionName]['Collection_SL2P'].getInfo()\n",
    "SL2P_error_nets=COLLECTION_OPTIONS[collectionName]['Collection_SL2Perrors'].getInfo()"
   ]
  },
  {
   "cell_type": "code",
   "execution_count": 173,
   "id": "3458e0ff-ac41-4919-baac-5897691f5ea0",
   "metadata": {},
   "outputs": [
    {
     "name": "stdout",
     "output_type": "stream",
     "text": [
      "['00000000000000000003', '00000000000000000000', '00000000000000000001', '00000000000000000004', '00000000000000000005', '00000000000000000006', '00000000000000000002']\n",
      "['00000000000000000000', '00000000000000000001', '00000000000000000002', '00000000000000000003', '00000000000000000004', '00000000000000000005', '00000000000000000006']\n"
     ]
    }
   ],
   "source": [
    "print([net['id'] for net in SL2P_nets['features']])\n",
    "print([net['id'] for net in SL2P_error_nets['features']])"
   ]
  },
  {
   "cell_type": "code",
   "execution_count": 112,
   "id": "3c8ceac4-f2d2-4efd-933b-00347df4e9f0",
   "metadata": {},
   "outputs": [
    {
     "data": {
      "text/plain": [
       "['date',\n",
       " 'QC',\n",
       " 'estimate',\n",
       " 'partition',\n",
       " 'networkID',\n",
       " 'error',\n",
       " 'partition_1',\n",
       " 'networkID_1']"
      ]
     },
     "execution_count": 112,
     "metadata": {},
     "output_type": "execute_result"
    }
   ],
   "source": [
    "[sampleFeature.getInfo()['properties']['sampleLAI'][ii]['bandName'] for ii in range(len(sampleFeature.getInfo()['properties']['sampleLAI']))]"
   ]
  },
  {
   "cell_type": "code",
   "execution_count": null,
   "id": "d66fd8d3-5a01-4764-be72-2210dd1ebb0e",
   "metadata": {},
   "outputs": [],
   "source": []
  }
 ],
 "metadata": {
  "kernelspec": {
   "display_name": "Python 3 (ipykernel)",
   "language": "python",
   "name": "python3"
  },
  "language_info": {
   "codemirror_mode": {
    "name": "ipython",
    "version": 3
   },
   "file_extension": ".py",
   "mimetype": "text/x-python",
   "name": "python",
   "nbconvert_exporter": "python",
   "pygments_lexer": "ipython3",
   "version": "3.12.0"
  }
 },
 "nbformat": 4,
 "nbformat_minor": 5
}
